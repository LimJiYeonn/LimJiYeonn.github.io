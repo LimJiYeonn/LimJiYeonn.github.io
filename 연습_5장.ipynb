{
  "nbformat": 4,
  "nbformat_minor": 0,
  "metadata": {
    "colab": {
      "name": "연습_5장.ipynb",
      "provenance": [],
      "authorship_tag": "ABX9TyPE7+rjjAmpxQVm0NyNpRCd",
      "include_colab_link": true
    },
    "kernelspec": {
      "name": "python3",
      "display_name": "Python 3"
    },
    "language_info": {
      "name": "python"
    }
  },
  "cells": [
    {
      "cell_type": "markdown",
      "metadata": {
        "id": "view-in-github",
        "colab_type": "text"
      },
      "source": [
        "<a href=\"https://colab.research.google.com/github/LimJiYeonn/LimJiYeonn.github.io/blob/master/%EC%97%B0%EC%8A%B5_5%EC%9E%A5.ipynb\" target=\"_parent\"><img src=\"https://colab.research.google.com/assets/colab-badge.svg\" alt=\"Open In Colab\"/></a>"
      ]
    },
    {
      "cell_type": "code",
      "metadata": {
        "colab": {
          "base_uri": "https://localhost:8080/"
        },
        "id": "UDXi4P-o1PAM",
        "outputId": "cf8e44e5-04a6-4514-d349-debd0f5e3259"
      },
      "source": [
        "import pandas as pd\n",
        "x_train = pd.read_csv('x_train.csv',encoding='CP949')\n",
        "y_train = pd.read_csv('y_train.csv')\n",
        "x_test = pd.read_csv('x_test.csv',encoding='CP949')\n",
        "\n",
        "#print(x_train.info())\n",
        "#print(x_train.describe().T)\n",
        "\n",
        "#1\n",
        "id = pd.DataFrame(x_test['cust_id'])\n",
        "x_train.drop(columns='cust_id', inplace=True)\n",
        "y_train.drop(columns='cust_id', inplace=True)\n",
        "x_test.drop(columns='cust_id', inplace=True)\n",
        "\n",
        "#3 결측값\n",
        "#print(x_train.isnull().sum())\n",
        "#print(x_test.isnull().sum())\n",
        "x_train['환불금액'].fillna(0,inplace=True)\n",
        "x_test['환불금액'].fillna(0,inplace=True)\n",
        "\n",
        "#7 범주화\n",
        "#print(x_train['주구매상품'].unique())\n",
        "from sklearn.preprocessing import LabelEncoder\n",
        "encoder = LabelEncoder()\n",
        "x_train['주구매상품'] = encoder.fit_transform(x_train['주구매상품'])\n",
        "x_test['주구매상품'] = encoder.transform(x_test['주구매상품'])\n",
        "x_train['주구매지점'] = encoder.fit_transform(x_train['주구매지점'])\n",
        "x_test['주구매지점'] = encoder.transform(x_test['주구매지점'])\n",
        "#print(x_train['주구매지점'].head(3))\n",
        "#print(x_train.info().T)\n",
        "\n",
        "\n",
        "#8 파생변수\n",
        "condition = x_train['환불금액'] > 0\n",
        "x_train.loc[condition,'환불금액_new'] = 1\n",
        "x_train.loc[~condition,'환불금액_new'] = 0\n",
        "condition = x_test['환불금액'] > 0\n",
        "x_test.loc[condition,'환불금액_new'] = 1\n",
        "x_test.loc[~condition,'환불금액_new'] = 0\n",
        "\n",
        "#5 스케일링\n",
        "from sklearn.preprocessing import StandardScaler\n",
        "scaler = StandardScaler()\n",
        "sc = pd.DataFrame(scaler.fit_transform(x_train))\n",
        "#print(x_train.describe().T)\n",
        "\n",
        "\n",
        "#연관있어 보이는 변수 상관관계 확인 -> 0.6이상 칼럼 삭제\n",
        "#print(x_train[['총구매액','최대구매액','환불금액']].corr())\n",
        "x_train.drop(columns='최대구매액',inplace=True)\n",
        "x_test.drop(columns='최대구매액',inplace=True)\n",
        "\n",
        "\n",
        "#2\n",
        "from sklearn.model_selection import train_test_split\n",
        "X_TRAIN, X_TEST, Y_TRAIN, Y_TEST = train_test_split(x_train, y_train,test_size=0.2)\n",
        "\n",
        "from xgboost import XGBClassifier\n",
        "model = XGBClassifier(n_estimators=1000, max_depth=5, eval_metric = 'error')\n",
        "model.fit(X_TRAIN,Y_TRAIN)\n",
        "y_test_predict = model.predict(X_TEST)\n",
        "y_train_predict = model.predict(X_TRAIN)\n",
        "print(pd.DataFrame(y_test_predict).head(3))\n",
        "\n",
        "from sklearn.metrics import roc_auc_score\n",
        "print(roc_auc_score(Y_TEST, y_test_predict))\n",
        "print(roc_auc_score(Y_TRAIN, y_train_predict))\n",
        "\n",
        "y_test_proba = pd.DataFrame(model.predict_proba(x_test))\n",
        "print(pd.DataFrame(y_test_proba).head(3))\n",
        "\n",
        "# 결과\n",
        "result = pd.concat([id,y_test_proba[1]],axis=1).rename(columns = {1:'gender'})\n",
        "f = result.to_csv('sample_data/1.csv',index = False)\n",
        "print(f)"
      ],
      "execution_count": 57,
      "outputs": [
        {
          "output_type": "stream",
          "name": "stderr",
          "text": [
            "/usr/local/lib/python3.7/dist-packages/sklearn/preprocessing/_label.py:98: DataConversionWarning: A column-vector y was passed when a 1d array was expected. Please change the shape of y to (n_samples, ), for example using ravel().\n",
            "  y = column_or_1d(y, warn=True)\n",
            "/usr/local/lib/python3.7/dist-packages/sklearn/preprocessing/_label.py:133: DataConversionWarning: A column-vector y was passed when a 1d array was expected. Please change the shape of y to (n_samples, ), for example using ravel().\n",
            "  y = column_or_1d(y, warn=True)\n"
          ]
        },
        {
          "output_type": "stream",
          "name": "stdout",
          "text": [
            "   0\n",
            "0  1\n",
            "1  0\n",
            "2  0\n",
            "0.5935220935220935\n",
            "0.9946807095933402\n",
            "          0         1\n",
            "0  0.095134  0.904866\n",
            "1  0.994803  0.005197\n",
            "2  0.953449  0.046551\n",
            "None\n"
          ]
        }
      ]
    },
    {
      "cell_type": "code",
      "metadata": {
        "id": "Foo6mdIR406e"
      },
      "source": [
        ""
      ],
      "execution_count": 59,
      "outputs": []
    },
    {
      "cell_type": "code",
      "metadata": {
        "id": "tkfrjFdMLKL9"
      },
      "source": [
        ""
      ],
      "execution_count": null,
      "outputs": []
    },
    {
      "cell_type": "code",
      "metadata": {
        "id": "6go7uvTSLKA2"
      },
      "source": [
        ""
      ],
      "execution_count": null,
      "outputs": []
    },
    {
      "cell_type": "code",
      "metadata": {
        "id": "7EeRq0dsLJ9o"
      },
      "source": [
        ""
      ],
      "execution_count": null,
      "outputs": []
    },
    {
      "cell_type": "code",
      "metadata": {
        "id": "jZOanmH3LJ5M"
      },
      "source": [
        ""
      ],
      "execution_count": null,
      "outputs": []
    }
  ]
}