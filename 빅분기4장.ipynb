{
  "nbformat": 4,
  "nbformat_minor": 0,
  "metadata": {
    "colab": {
      "name": "빅분기4장ipynb",
      "provenance": [],
      "authorship_tag": "ABX9TyPPBUBSRFs6aIK3tQsmowwT",
      "include_colab_link": true
    },
    "kernelspec": {
      "name": "python3",
      "display_name": "Python 3"
    },
    "language_info": {
      "name": "python"
    }
  },
  "cells": [
    {
      "cell_type": "markdown",
      "metadata": {
        "id": "view-in-github",
        "colab_type": "text"
      },
      "source": [
        "<a href=\"https://colab.research.google.com/github/LimJiYeonn/LimJiYeonn.github.io/blob/master/%EB%B9%85%EB%B6%84%EA%B8%B04%EC%9E%A5.ipynb\" target=\"_parent\"><img src=\"https://colab.research.google.com/assets/colab-badge.svg\" alt=\"Open In Colab\"/></a>"
      ]
    },
    {
      "cell_type": "markdown",
      "metadata": {
        "id": "3YT5vKNVJMTZ"
      },
      "source": [
        "### 1. 단순한 데이터 분석"
      ]
    },
    {
      "cell_type": "markdown",
      "metadata": {
        "id": "W7i02WdZ_LG_"
      },
      "source": [
        "1.1 top 10 구하기"
      ]
    },
    {
      "cell_type": "code",
      "metadata": {
        "id": "rSp2x2tH06T9"
      },
      "source": [
        "import pandas as pd\n",
        "data = pd.read_csv('boston.csv')"
      ],
      "execution_count": null,
      "outputs": []
    },
    {
      "cell_type": "code",
      "metadata": {
        "colab": {
          "base_uri": "https://localhost:8080/"
        },
        "id": "C8ZDoyBM20n7",
        "outputId": "b80017f7-7fad-45e3-9cf7-7557f86a3491"
      },
      "source": [
        "print(data.head())"
      ],
      "execution_count": null,
      "outputs": [
        {
          "output_type": "stream",
          "name": "stdout",
          "text": [
            "      CRIM    ZN  INDUS  CHAS    NOX  ...  TAX  PTRATIO       B  LSTAT  MEDV\n",
            "0  0.00632  18.0   2.31     0  0.538  ...  296     15.3  396.90   4.98  24.0\n",
            "1  0.02731   0.0   7.07     0  0.469  ...  242     17.8  396.90   9.14  21.6\n",
            "2  0.02729   0.0   7.07     0  0.469  ...  242     17.8  392.83   4.03  34.7\n",
            "3  0.03237   0.0   2.18     0  0.458  ...  222     18.7  394.63   2.94  33.4\n",
            "4  0.06905   0.0   2.18     0  0.458  ...  222     18.7  396.90   5.33  36.2\n",
            "\n",
            "[5 rows x 14 columns]\n"
          ]
        }
      ]
    },
    {
      "cell_type": "code",
      "metadata": {
        "colab": {
          "base_uri": "https://localhost:8080/"
        },
        "id": "dwFgAWhe28Xn",
        "outputId": "a48c343c-0393-42fa-df4c-e1f0b8b7788d"
      },
      "source": [
        "print(data.info())"
      ],
      "execution_count": null,
      "outputs": [
        {
          "output_type": "stream",
          "name": "stdout",
          "text": [
            "<class 'pandas.core.frame.DataFrame'>\n",
            "RangeIndex: 506 entries, 0 to 505\n",
            "Data columns (total 14 columns):\n",
            " #   Column   Non-Null Count  Dtype  \n",
            "---  ------   --------------  -----  \n",
            " 0   CRIM     506 non-null    float64\n",
            " 1   ZN       506 non-null    float64\n",
            " 2   INDUS    506 non-null    float64\n",
            " 3   CHAS     506 non-null    int64  \n",
            " 4   NOX      506 non-null    float64\n",
            " 5   RM       491 non-null    float64\n",
            " 6   AGE      506 non-null    float64\n",
            " 7   DIS      506 non-null    float64\n",
            " 8   RAD      506 non-null    int64  \n",
            " 9   TAX      506 non-null    int64  \n",
            " 10  PTRATIO  506 non-null    float64\n",
            " 11  B        506 non-null    float64\n",
            " 12  LSTAT    506 non-null    float64\n",
            " 13  MEDV     506 non-null    float64\n",
            "dtypes: float64(11), int64(3)\n",
            "memory usage: 55.5 KB\n",
            "None\n"
          ]
        }
      ]
    },
    {
      "cell_type": "code",
      "metadata": {
        "colab": {
          "base_uri": "https://localhost:8080/"
        },
        "id": "zMdkHXes1yE8",
        "outputId": "3f69a0e2-2319-4bba-e129-839067dc7df8"
      },
      "source": [
        "print(data.sort_values('MEDV', ascending = True)['MEDV'].head(10))"
      ],
      "execution_count": null,
      "outputs": [
        {
          "output_type": "stream",
          "name": "stdout",
          "text": [
            "398    5.0\n",
            "405    5.0\n",
            "400    5.6\n",
            "399    6.3\n",
            "414    7.0\n",
            "489    7.0\n",
            "401    7.2\n",
            "385    7.2\n",
            "415    7.2\n",
            "387    7.4\n",
            "Name: MEDV, dtype: float64\n"
          ]
        }
      ]
    },
    {
      "cell_type": "markdown",
      "metadata": {
        "id": "BSmE6c_h_79z"
      },
      "source": [
        "1.2 결측치 확인"
      ]
    },
    {
      "cell_type": "code",
      "metadata": {
        "colab": {
          "base_uri": "https://localhost:8080/"
        },
        "id": "NytMU3Ef1-Fa",
        "outputId": "4b7e3f9b-d2d9-4b68-e149-dcfe9baf4454"
      },
      "source": [
        "print(data.isnull().sum())"
      ],
      "execution_count": null,
      "outputs": [
        {
          "output_type": "stream",
          "name": "stdout",
          "text": [
            "CRIM        0\n",
            "ZN          0\n",
            "INDUS       0\n",
            "CHAS        0\n",
            "NOX         0\n",
            "RM         15\n",
            "AGE         0\n",
            "DIS         0\n",
            "RAD         0\n",
            "TAX         0\n",
            "PTRATIO     0\n",
            "B           0\n",
            "LSTAT       0\n",
            "MEDV        0\n",
            "dtype: int64\n"
          ]
        }
      ]
    },
    {
      "cell_type": "code",
      "metadata": {
        "colab": {
          "base_uri": "https://localhost:8080/"
        },
        "id": "Xkx90AgZ4MR2",
        "outputId": "24596037-90df-4212-f69f-486b17bc1659"
      },
      "source": [
        "rm_mean = data['RM'].mean()\n",
        "print(rm_mean)"
      ],
      "execution_count": null,
      "outputs": [
        {
          "output_type": "stream",
          "name": "stdout",
          "text": [
            "6.285101832993899\n"
          ]
        }
      ]
    },
    {
      "cell_type": "code",
      "metadata": {
        "colab": {
          "base_uri": "https://localhost:8080/"
        },
        "id": "7v37kcjs4zxI",
        "outputId": "92451341-675a-432c-af08-11aa57c0e524"
      },
      "source": [
        "rm_copy1 = data['RM']\n",
        "rm_copy1 = rm_copy1.fillna(rm_mean, inplace = False)\n",
        "# inplace = True : 변경된 값을 rm_copy1 변수에 바로 적용\n",
        "# False : 변경된 값을 변수에 반영X\n",
        "print(rm_copy1)"
      ],
      "execution_count": null,
      "outputs": [
        {
          "output_type": "stream",
          "name": "stdout",
          "text": [
            "0      6.575000\n",
            "1      6.421000\n",
            "2      7.185000\n",
            "3      6.998000\n",
            "4      7.147000\n",
            "         ...   \n",
            "501    6.593000\n",
            "502    6.285102\n",
            "503    6.976000\n",
            "504    6.794000\n",
            "505    6.030000\n",
            "Name: RM, Length: 506, dtype: float64\n"
          ]
        }
      ]
    },
    {
      "cell_type": "code",
      "metadata": {
        "colab": {
          "base_uri": "https://localhost:8080/"
        },
        "id": "Dk1D5WcT6F6o",
        "outputId": "51962435-dbb8-42b6-b7f5-bea6d9e9862d"
      },
      "source": [
        "print(rm_copy1.isnull().sum())"
      ],
      "execution_count": null,
      "outputs": [
        {
          "output_type": "stream",
          "name": "stdout",
          "text": [
            "0\n"
          ]
        }
      ]
    },
    {
      "cell_type": "code",
      "metadata": {
        "colab": {
          "base_uri": "https://localhost:8080/"
        },
        "id": "7M-kd2405cSL",
        "outputId": "97a22218-0753-450a-804b-f9f08d95dcfb"
      },
      "source": [
        "rm_copy2 =data['RM']\n",
        "print(rm_copy2.shape)\n",
        "print(rm_copy2.isnull().sum())"
      ],
      "execution_count": null,
      "outputs": [
        {
          "output_type": "stream",
          "name": "stdout",
          "text": [
            "(506,)\n",
            "15\n"
          ]
        }
      ]
    },
    {
      "cell_type": "code",
      "metadata": {
        "colab": {
          "base_uri": "https://localhost:8080/"
        },
        "id": "91QLIMh259wi",
        "outputId": "8e554049-e695-4351-ea33-a91dbb29713e"
      },
      "source": [
        "rm_copy2 =data['RM'].dropna(inplace = False)\n",
        "print(rm_copy2)"
      ],
      "execution_count": null,
      "outputs": [
        {
          "output_type": "stream",
          "name": "stdout",
          "text": [
            "0      6.575000\n",
            "1      6.421000\n",
            "2      7.185000\n",
            "3      6.998000\n",
            "4      7.147000\n",
            "         ...   \n",
            "501    6.593000\n",
            "502    6.285102\n",
            "503    6.976000\n",
            "504    6.794000\n",
            "505    6.030000\n",
            "Name: RM, Length: 506, dtype: float64\n"
          ]
        }
      ]
    },
    {
      "cell_type": "code",
      "metadata": {
        "id": "nnyjnMWb6p8O",
        "colab": {
          "base_uri": "https://localhost:8080/"
        },
        "outputId": "4f95b14a-0c6e-461e-b5f6-b79b3cec7eb0"
      },
      "source": [
        "print(rm_copy2.isnull().sum())"
      ],
      "execution_count": null,
      "outputs": [
        {
          "output_type": "stream",
          "name": "stdout",
          "text": [
            "0\n"
          ]
        }
      ]
    },
    {
      "cell_type": "code",
      "metadata": {
        "colab": {
          "base_uri": "https://localhost:8080/"
        },
        "id": "LWWyzXFKAj2c",
        "outputId": "f82f3d42-5bd8-4282-8914-450523e23849"
      },
      "source": [
        "print(abs(rm_copy1.std() - rm_copy2.std()))"
      ],
      "execution_count": null,
      "outputs": [
        {
          "output_type": "stream",
          "name": "stdout",
          "text": [
            "0.010595546094104513\n"
          ]
        }
      ]
    },
    {
      "cell_type": "markdown",
      "metadata": {
        "id": "B8xLzEXtC3bY"
      },
      "source": [
        "1.3 이상값 확인하기"
      ]
    },
    {
      "cell_type": "code",
      "metadata": {
        "id": "9mFGW1vvC5uC"
      },
      "source": [
        "import pandas as pd\n",
        "data = pd.read_csv('boston.csv')"
      ],
      "execution_count": null,
      "outputs": []
    },
    {
      "cell_type": "code",
      "metadata": {
        "id": "JkcAnmHiC6P0"
      },
      "source": [
        "zn_mean = data['ZN'].mean()\n",
        "zn_std = data['ZN'].std()\n",
        "min = zn_mean - 1.5 * zn_std\n",
        "max = zn_mean + 1.5 * zn_std"
      ],
      "execution_count": null,
      "outputs": []
    },
    {
      "cell_type": "code",
      "metadata": {
        "colab": {
          "base_uri": "https://localhost:8080/"
        },
        "id": "l7V-VwtLEC5f",
        "outputId": "9b46aa51-5b17-49a7-d7b2-e40c2a995f22"
      },
      "source": [
        "print(min)"
      ],
      "execution_count": null,
      "outputs": [
        {
          "output_type": "stream",
          "name": "stdout",
          "text": [
            "-23.620043128136192\n"
          ]
        }
      ]
    },
    {
      "cell_type": "code",
      "metadata": {
        "colab": {
          "base_uri": "https://localhost:8080/"
        },
        "id": "wcfFP4BgD9p3",
        "outputId": "41d05957-7a4f-4c5a-d3ac-205a329167a4"
      },
      "source": [
        "data.info()"
      ],
      "execution_count": null,
      "outputs": [
        {
          "output_type": "stream",
          "name": "stdout",
          "text": [
            "<class 'pandas.core.frame.DataFrame'>\n",
            "RangeIndex: 506 entries, 0 to 505\n",
            "Data columns (total 14 columns):\n",
            " #   Column   Non-Null Count  Dtype  \n",
            "---  ------   --------------  -----  \n",
            " 0   CRIM     506 non-null    float64\n",
            " 1   ZN       506 non-null    float64\n",
            " 2   INDUS    506 non-null    float64\n",
            " 3   CHAS     506 non-null    int64  \n",
            " 4   NOX      506 non-null    float64\n",
            " 5   RM       491 non-null    float64\n",
            " 6   AGE      506 non-null    float64\n",
            " 7   DIS      506 non-null    float64\n",
            " 8   RAD      506 non-null    int64  \n",
            " 9   TAX      506 non-null    int64  \n",
            " 10  PTRATIO  506 non-null    float64\n",
            " 11  B        506 non-null    float64\n",
            " 12  LSTAT    506 non-null    float64\n",
            " 13  MEDV     506 non-null    float64\n",
            "dtypes: float64(11), int64(3)\n",
            "memory usage: 55.5 KB\n"
          ]
        }
      ]
    },
    {
      "cell_type": "code",
      "metadata": {
        "colab": {
          "base_uri": "https://localhost:8080/"
        },
        "id": "dKMeqd2oC6JQ",
        "outputId": "80d3d77f-a40b-4b11-bf65-8034bdbc3c15"
      },
      "source": [
        "print(data['ZN'] < min)"
      ],
      "execution_count": null,
      "outputs": [
        {
          "output_type": "stream",
          "name": "stdout",
          "text": [
            "0      False\n",
            "1      False\n",
            "2      False\n",
            "3      False\n",
            "4      False\n",
            "       ...  \n",
            "501    False\n",
            "502    False\n",
            "503    False\n",
            "504    False\n",
            "505    False\n",
            "Name: ZN, Length: 506, dtype: bool\n"
          ]
        }
      ]
    },
    {
      "cell_type": "code",
      "metadata": {
        "colab": {
          "base_uri": "https://localhost:8080/"
        },
        "id": "ooWFaAqZC6FQ",
        "outputId": "391dea5e-aa96-4f4c-bec8-201d46327773"
      },
      "source": [
        "print(data[data['ZN'] < min])"
      ],
      "execution_count": null,
      "outputs": [
        {
          "output_type": "stream",
          "name": "stdout",
          "text": [
            "Empty DataFrame\n",
            "Columns: [CRIM, ZN, INDUS, CHAS, NOX, RM, AGE, DIS, RAD, TAX, PTRATIO, B, LSTAT, MEDV]\n",
            "Index: []\n"
          ]
        }
      ]
    },
    {
      "cell_type": "code",
      "metadata": {
        "colab": {
          "base_uri": "https://localhost:8080/"
        },
        "id": "anTp6YLKC58u",
        "outputId": "e8b18398-49f7-4fc1-d014-ee68bc237c8c"
      },
      "source": [
        "print(data[data['ZN'] > max])"
      ],
      "execution_count": null,
      "outputs": [
        {
          "output_type": "stream",
          "name": "stdout",
          "text": [
            "        CRIM     ZN  INDUS  CHAS     NOX  ...  TAX  PTRATIO       B  LSTAT  MEDV\n",
            "39   0.02763   75.0   2.95     0  0.4280  ...  252     18.3  395.63   4.32  30.8\n",
            "40   0.03359   75.0   2.95     0  0.4280  ...  252     18.3  395.62   1.98  34.9\n",
            "54   0.01360   75.0   4.00     0  0.4100  ...  469     21.1  396.90  14.80  18.9\n",
            "55   0.01311   90.0   1.22     0  0.4030  ...  226     17.9  395.93   4.81  35.4\n",
            "56   0.02055   85.0   0.74     0  0.4100  ...  313     17.3  396.90   5.77  24.7\n",
            "57   0.01432  100.0   1.32     0  0.4110  ...  256     15.1  392.90   3.95  31.6\n",
            "65   0.03584   80.0   3.37     0  0.3980  ...  337     16.1  396.90   4.67  23.5\n",
            "66   0.04379   80.0   3.37     0  0.3980  ...  337     16.1  396.90  10.24  19.4\n",
            "193  0.02187   60.0   2.93     0  0.4010  ...  265     15.6  393.37   5.03  31.1\n",
            "194  0.01439   60.0   2.93     0  0.4010  ...  265     15.6  376.70   4.38  29.1\n",
            "195  0.01381   80.0   0.46     0  0.4220  ...  255     14.4  394.23   2.97  50.0\n",
            "196  0.04011   80.0   1.52     0  0.4040  ...  329     12.6  396.90   4.08  33.3\n",
            "197  0.04666   80.0   1.52     0  0.4040  ...  329     12.6  354.31   8.61  30.3\n",
            "198  0.03768   80.0   1.52     0  0.4040  ...  329     12.6  392.20   6.62  34.6\n",
            "199  0.03150   95.0   1.47     0  0.4030  ...  402     17.0  396.90   4.56  34.9\n",
            "200  0.01778   95.0   1.47     0  0.4030  ...  402     17.0  384.30   4.45  32.9\n",
            "201  0.03445   82.5   2.03     0  0.4150  ...  348     14.7  393.77   7.43  24.1\n",
            "202  0.02177   82.5   2.03     0  0.4150  ...  348     14.7  395.38   3.11  42.3\n",
            "203  0.03510   95.0   2.68     0  0.4161  ...  224     14.7  392.78   3.81  48.5\n",
            "204  0.02009   95.0   2.68     0  0.4161  ...  224     14.7  390.55   2.88  50.0\n",
            "254  0.04819   80.0   3.64     0  0.3920  ...  315     16.4  392.89   6.57  21.9\n",
            "255  0.03548   80.0   3.64     0  0.3920  ...  315     16.4  395.18   9.25  20.9\n",
            "256  0.01538   90.0   3.75     0  0.3940  ...  244     15.9  386.34   3.11  44.0\n",
            "283  0.01501   90.0   1.21     1  0.4010  ...  198     13.6  395.52   3.16  50.0\n",
            "284  0.00906   90.0   2.97     0  0.4000  ...  285     15.3  394.72   7.85  32.2\n",
            "285  0.01096   55.0   2.25     0  0.3890  ...  300     15.3  394.72   8.23  22.0\n",
            "286  0.01965   80.0   1.76     0  0.3850  ...  241     18.2  341.60  12.93  20.1\n",
            "287  0.03871   52.5   5.32     0  0.4050  ...  293     16.6  396.90   7.14  23.2\n",
            "288  0.04590   52.5   5.32     0  0.4050  ...  293     16.6  396.90   7.60  22.3\n",
            "289  0.04297   52.5   5.32     0  0.4050  ...  293     16.6  371.72   9.51  24.8\n",
            "290  0.03502   80.0   4.95     0  0.4110  ...  245     19.2  396.90   3.33  28.5\n",
            "291  0.07886   80.0   4.95     0  0.4110  ...  245     19.2  396.90   3.56  37.3\n",
            "292  0.03615   80.0   4.95     0  0.4110  ...  245     19.2  396.90   4.70  27.9\n",
            "298  0.06466   70.0   2.24     0  0.4000  ...  358     14.8  368.24   4.97  22.5\n",
            "299  0.05561   70.0   2.24     0  0.4000  ...  358     14.8  371.58   4.74  29.0\n",
            "300  0.04417   70.0   2.24     0  0.4000  ...  358     14.8  390.86   6.07  24.8\n",
            "343  0.02543   55.0   3.78     0  0.4840  ...  370     17.6  396.90   7.18  23.9\n",
            "344  0.03049   55.0   3.78     0  0.4840  ...  370     17.6  387.97   4.61  31.2\n",
            "347  0.01870   85.0   4.15     0  0.4290  ...  351     17.9  392.43   6.36  23.1\n",
            "348  0.01501   80.0   2.01     0  0.4350  ...  280     17.0  390.94   5.99  24.5\n",
            "351  0.07950   60.0   1.69     0  0.4110  ...  411     18.3  370.78   5.49  24.1\n",
            "352  0.07244   60.0   1.69     0  0.4110  ...  411     18.3  392.33   7.79  18.6\n",
            "353  0.01709   90.0   2.02     0  0.4100  ...  187     17.0  384.46   4.50  30.1\n",
            "354  0.04301   80.0   1.91     0  0.4130  ...  334     22.0  382.80   8.05  18.2\n",
            "355  0.10659   80.0   1.91     0  0.4130  ...  334     22.0  376.04   5.57  20.6\n",
            "\n",
            "[45 rows x 14 columns]\n"
          ]
        }
      ]
    },
    {
      "cell_type": "code",
      "metadata": {
        "colab": {
          "base_uri": "https://localhost:8080/"
        },
        "id": "ty4nDKNcC3GJ",
        "outputId": "45d6e8b0-e226-48ab-9ecd-25bda3991546"
      },
      "source": [
        "print(data[data['ZN'] > max]['ZN'])"
      ],
      "execution_count": null,
      "outputs": [
        {
          "output_type": "stream",
          "name": "stdout",
          "text": [
            "39      75.0\n",
            "40      75.0\n",
            "54      75.0\n",
            "55      90.0\n",
            "56      85.0\n",
            "57     100.0\n",
            "65      80.0\n",
            "66      80.0\n",
            "193     60.0\n",
            "194     60.0\n",
            "195     80.0\n",
            "196     80.0\n",
            "197     80.0\n",
            "198     80.0\n",
            "199     95.0\n",
            "200     95.0\n",
            "201     82.5\n",
            "202     82.5\n",
            "203     95.0\n",
            "204     95.0\n",
            "254     80.0\n",
            "255     80.0\n",
            "256     90.0\n",
            "283     90.0\n",
            "284     90.0\n",
            "285     55.0\n",
            "286     80.0\n",
            "287     52.5\n",
            "288     52.5\n",
            "289     52.5\n",
            "290     80.0\n",
            "291     80.0\n",
            "292     80.0\n",
            "298     70.0\n",
            "299     70.0\n",
            "300     70.0\n",
            "343     55.0\n",
            "344     55.0\n",
            "347     85.0\n",
            "348     80.0\n",
            "351     60.0\n",
            "352     60.0\n",
            "353     90.0\n",
            "354     80.0\n",
            "355     80.0\n",
            "Name: ZN, dtype: float64\n"
          ]
        }
      ]
    },
    {
      "cell_type": "code",
      "metadata": {
        "id": "QsGlXsfvCysi"
      },
      "source": [
        "zn_max = data[data['ZN'] > max]['ZN']"
      ],
      "execution_count": null,
      "outputs": []
    },
    {
      "cell_type": "code",
      "metadata": {
        "colab": {
          "base_uri": "https://localhost:8080/"
        },
        "id": "URPW5UJaFCmF",
        "outputId": "089dd499-dce0-4b27-8804-e319a2c5a654"
      },
      "source": [
        "print(zn_max.sum())"
      ],
      "execution_count": null,
      "outputs": [
        {
          "output_type": "stream",
          "name": "stdout",
          "text": [
            "3462.5\n"
          ]
        }
      ]
    },
    {
      "cell_type": "markdown",
      "metadata": {
        "id": "kLxOgEzwFfGM"
      },
      "source": [
        "1.4 사분위수 구하기"
      ]
    },
    {
      "cell_type": "code",
      "metadata": {
        "id": "x8xUIJ3BFINH"
      },
      "source": [
        "import pandas as pd\n",
        "data = pd.read_csv('boston.csv')"
      ],
      "execution_count": null,
      "outputs": []
    },
    {
      "cell_type": "code",
      "metadata": {
        "id": "w610FXKCFhID"
      },
      "source": [
        "data = data.drop(columns = ['CHAS', 'RAD'])"
      ],
      "execution_count": null,
      "outputs": []
    },
    {
      "cell_type": "code",
      "metadata": {
        "colab": {
          "base_uri": "https://localhost:8080/"
        },
        "id": "sCXTbFzXFhx8",
        "outputId": "7a0ac140-f201-4339-c52c-713218a82a2f"
      },
      "source": [
        "print(data.describe())"
      ],
      "execution_count": null,
      "outputs": [
        {
          "output_type": "stream",
          "name": "stdout",
          "text": [
            "             CRIM          ZN       INDUS  ...           B       LSTAT        MEDV\n",
            "count  506.000000  506.000000  506.000000  ...  506.000000  506.000000  506.000000\n",
            "mean     3.613524   11.363636   11.136779  ...  356.674032   12.653063   22.532806\n",
            "std      8.601545   23.322453    6.860353  ...   91.294864    7.141062    9.197104\n",
            "min      0.006320    0.000000    0.460000  ...    0.320000    1.730000    5.000000\n",
            "25%      0.082045    0.000000    5.190000  ...  375.377500    6.950000   17.025000\n",
            "50%      0.256510    0.000000    9.690000  ...  391.440000   11.360000   21.200000\n",
            "75%      3.677082   12.500000   18.100000  ...  396.225000   16.955000   25.000000\n",
            "max     88.976200  100.000000   27.740000  ...  396.900000   37.970000   50.000000\n",
            "\n",
            "[8 rows x 12 columns]\n"
          ]
        }
      ]
    },
    {
      "cell_type": "code",
      "metadata": {
        "colab": {
          "base_uri": "https://localhost:8080/"
        },
        "id": "Y7KSH92IFhuF",
        "outputId": "47fe70cc-586d-4269-cb03-3b2f4b80d64f"
      },
      "source": [
        "print(data.describe().loc[['25%', '75%']].T)"
      ],
      "execution_count": null,
      "outputs": [
        {
          "output_type": "stream",
          "name": "stdout",
          "text": [
            "                25%         75%\n",
            "CRIM       0.082045    3.677082\n",
            "ZN         0.000000   12.500000\n",
            "INDUS      5.190000   18.100000\n",
            "NOX        0.449000    0.624000\n",
            "RM         5.886000    6.622000\n",
            "AGE       45.025000   94.075000\n",
            "DIS        2.100175    5.188425\n",
            "TAX      279.000000  666.000000\n",
            "PTRATIO   17.400000   20.200000\n",
            "B        375.377500  396.225000\n",
            "LSTAT      6.950000   16.955000\n",
            "MEDV      17.025000   25.000000\n"
          ]
        }
      ]
    },
    {
      "cell_type": "code",
      "metadata": {
        "id": "4jphPXifFhqe"
      },
      "source": [
        "desc_t = data.describe().loc[['25%', '75%']].T"
      ],
      "execution_count": null,
      "outputs": []
    },
    {
      "cell_type": "code",
      "metadata": {
        "colab": {
          "base_uri": "https://localhost:8080/"
        },
        "id": "yP_q5xg1G8te",
        "outputId": "a83286ef-cd6d-45a2-d8ed-e4041bca318d"
      },
      "source": [
        "print(type(desc_t))"
      ],
      "execution_count": null,
      "outputs": [
        {
          "output_type": "stream",
          "name": "stdout",
          "text": [
            "<class 'pandas.core.frame.DataFrame'>\n"
          ]
        }
      ]
    },
    {
      "cell_type": "code",
      "metadata": {
        "id": "99cUha7lFhnK"
      },
      "source": [
        "desc_t = desc_t.iloc[:,1] - desc_t.iloc[:,0]"
      ],
      "execution_count": null,
      "outputs": []
    },
    {
      "cell_type": "code",
      "metadata": {
        "colab": {
          "base_uri": "https://localhost:8080/"
        },
        "id": "_QlStv-mFhjB",
        "outputId": "6cc35d0a-4694-410e-cf7f-e1d1027b6064"
      },
      "source": [
        "print(desc_t)"
      ],
      "execution_count": null,
      "outputs": [
        {
          "output_type": "stream",
          "name": "stdout",
          "text": [
            "CRIM         3.595037\n",
            "ZN          12.500000\n",
            "INDUS       12.910000\n",
            "NOX          0.175000\n",
            "RM           0.736000\n",
            "AGE         49.050000\n",
            "DIS          3.088250\n",
            "TAX        387.000000\n",
            "PTRATIO      2.800000\n",
            "B           20.847500\n",
            "LSTAT       10.005000\n",
            "MEDV         7.975000\n",
            "dtype: float64\n"
          ]
        }
      ]
    },
    {
      "cell_type": "markdown",
      "metadata": {
        "id": "OkUhOJnhHMmL"
      },
      "source": [
        "1.5 순위 구하기"
      ]
    },
    {
      "cell_type": "code",
      "metadata": {
        "id": "jbNWwU5GHOX7"
      },
      "source": [
        "import pandas as pd\n",
        "data = pd.read_csv('boston.csv')"
      ],
      "execution_count": null,
      "outputs": []
    },
    {
      "cell_type": "code",
      "metadata": {
        "colab": {
          "base_uri": "https://localhost:8080/"
        },
        "id": "z8e-4Rq7HPCf",
        "outputId": "c70da062-4d6d-4196-dc51-d26778232c6f"
      },
      "source": [
        "sort_medv = data.sort_values('MEDV', ascending = False)['MEDV']\n",
        "print(sort_medv)"
      ],
      "execution_count": null,
      "outputs": [
        {
          "output_type": "stream",
          "name": "stdout",
          "text": [
            "283    50.0\n",
            "225    50.0\n",
            "369    50.0\n",
            "370    50.0\n",
            "371    50.0\n",
            "       ... \n",
            "414     7.0\n",
            "399     6.3\n",
            "400     5.6\n",
            "398     5.0\n",
            "405     5.0\n",
            "Name: MEDV, Length: 506, dtype: float64\n"
          ]
        }
      ]
    },
    {
      "cell_type": "code",
      "metadata": {
        "colab": {
          "base_uri": "https://localhost:8080/"
        },
        "id": "V_U9WFD8HPAA",
        "outputId": "e80fd90b-38db-4a59-8af3-f0dcf9c53b52"
      },
      "source": [
        "#30번째라고 sort_medv[29]하면 절대 안됌, 그럼 index=30인게 나옴\n",
        "#정렬된 상태에서 30번째를 뽑으려면 iloc 사용하기\n",
        "print(sort_medv.iloc[29])"
      ],
      "execution_count": null,
      "outputs": [
        {
          "output_type": "stream",
          "name": "stdout",
          "text": [
            "41.7\n"
          ]
        }
      ]
    },
    {
      "cell_type": "code",
      "metadata": {
        "colab": {
          "base_uri": "https://localhost:8080/"
        },
        "id": "EvYvYESmHO9d",
        "outputId": "5be90319-413a-4bee-a98b-f825ac3362e5"
      },
      "source": [
        "sort_medv[0:29] = sort_medv.iloc[29]\n",
        "print(sort_medv[0:29])"
      ],
      "execution_count": null,
      "outputs": [
        {
          "output_type": "stream",
          "name": "stdout",
          "text": [
            "283    41.7\n",
            "225    41.7\n",
            "369    41.7\n",
            "370    41.7\n",
            "371    41.7\n",
            "372    41.7\n",
            "186    41.7\n",
            "204    41.7\n",
            "257    41.7\n",
            "195    41.7\n",
            "166    41.7\n",
            "163    41.7\n",
            "267    41.7\n",
            "162    41.7\n",
            "161    41.7\n",
            "368    41.7\n",
            "262    41.7\n",
            "203    41.7\n",
            "233    41.7\n",
            "228    41.7\n",
            "282    41.7\n",
            "280    41.7\n",
            "224    41.7\n",
            "256    41.7\n",
            "98     41.7\n",
            "268    41.7\n",
            "261    41.7\n",
            "253    41.7\n",
            "202    41.7\n",
            "Name: MEDV, dtype: float64\n"
          ]
        }
      ]
    },
    {
      "cell_type": "code",
      "metadata": {
        "colab": {
          "base_uri": "https://localhost:8080/"
        },
        "id": "NuGSBxeLHO4r",
        "outputId": "3db3cf12-6214-4321-b1a0-bf475fed0808"
      },
      "source": [
        "print(sort_medv.mean(), sort_medv.median(), sort_medv.min(), sort_medv.max() )"
      ],
      "execution_count": null,
      "outputs": [
        {
          "output_type": "stream",
          "name": "stdout",
          "text": [
            "22.179644268774698 21.2 5.0 41.7\n"
          ]
        }
      ]
    },
    {
      "cell_type": "markdown",
      "metadata": {
        "id": "14aCR3oEJFAb"
      },
      "source": [
        "### 2. 복잡한 데이터 분석"
      ]
    },
    {
      "cell_type": "markdown",
      "metadata": {
        "id": "KiXJ383jO6Mf"
      },
      "source": [
        "2.1 그룹별 집계/요약 하기"
      ]
    },
    {
      "cell_type": "code",
      "metadata": {
        "id": "aAaByAy7HO1m"
      },
      "source": [
        "import pandas as pd\n",
        "data = pd.read_csv('boston.csv')"
      ],
      "execution_count": null,
      "outputs": []
    },
    {
      "cell_type": "code",
      "metadata": {
        "colab": {
          "base_uri": "https://localhost:8080/"
        },
        "id": "Xl7MLhyyHOxc",
        "outputId": "2cb3afb2-82b3-408c-d1b4-328b387219bc"
      },
      "source": [
        "tax_mid = data['TAX'].median()\n",
        "print(tax_mid)"
      ],
      "execution_count": null,
      "outputs": [
        {
          "output_type": "stream",
          "name": "stdout",
          "text": [
            "330.0\n"
          ]
        }
      ]
    },
    {
      "cell_type": "code",
      "metadata": {
        "colab": {
          "base_uri": "https://localhost:8080/"
        },
        "id": "kUjzbqLvHOve",
        "outputId": "8cff2a97-7cfa-42c9-b2fe-eda3d8396af7"
      },
      "source": [
        "c_r = data[data['TAX'] > tax_mid][['CHAS','RAD']]\n",
        "print(c_r)"
      ],
      "execution_count": null,
      "outputs": [
        {
          "output_type": "stream",
          "name": "stdout",
          "text": [
            "     CHAS  RAD\n",
            "54      0    3\n",
            "65      0    4\n",
            "66      0    4\n",
            "67      0    4\n",
            "68      0    4\n",
            "..    ...  ...\n",
            "496     0    6\n",
            "497     0    6\n",
            "498     0    6\n",
            "499     0    6\n",
            "500     0    6\n",
            "\n",
            "[250 rows x 2 columns]\n"
          ]
        }
      ]
    },
    {
      "cell_type": "code",
      "metadata": {
        "colab": {
          "base_uri": "https://localhost:8080/"
        },
        "id": "MbuCEK5ZHOta",
        "outputId": "f0e95432-af7b-497b-9941-32cd6b454bd2"
      },
      "source": [
        "#c_r 그룹핑 전에 종류 살펴보기\n",
        "print(c_r['CHAS'].unique())\n",
        "print(c_r['RAD'].unique())"
      ],
      "execution_count": null,
      "outputs": [
        {
          "output_type": "stream",
          "name": "stdout",
          "text": [
            "[0 1]\n",
            "[ 3  4  5  6  2  1 24]\n"
          ]
        }
      ]
    },
    {
      "cell_type": "code",
      "metadata": {
        "colab": {
          "base_uri": "https://localhost:8080/"
        },
        "id": "TaQqwLxNHOpK",
        "outputId": "fae13d5e-8b61-448b-ffe8-72143232406c"
      },
      "source": [
        "# 데이터프레임. groupby( [ 그룹화할 컬럼들 ] ) [ 수행 컬럼 ] .추가 작업()\n",
        "# CHAS, RAD 칼럼 순으로 그룹을 짓고, 그룹 안에 속한 RAD 칼럼 값을 센 변수로 만들기\n",
        "c_r_gb = c_r.groupby(['CHAS','RAD'])['RAD'].count()\n",
        "print(c_r_gb)"
      ],
      "execution_count": null,
      "outputs": [
        {
          "output_type": "stream",
          "name": "stdout",
          "text": [
            "CHAS  RAD\n",
            "0     1        3\n",
            "      2        2\n",
            "      3        5\n",
            "      4       33\n",
            "      5       51\n",
            "      6       17\n",
            "      24     124\n",
            "1     5        7\n",
            "      24       8\n",
            "Name: RAD, dtype: int64\n"
          ]
        }
      ]
    },
    {
      "cell_type": "code",
      "metadata": {
        "colab": {
          "base_uri": "https://localhost:8080/"
        },
        "id": "IbAkVYsGNESj",
        "outputId": "ef9f9a1a-d03f-4a0d-b0f1-fcf4f9bd1961"
      },
      "source": [
        "print( c_r.groupby(['CHAS','RAD'])['CHAS'].count())"
      ],
      "execution_count": null,
      "outputs": [
        {
          "output_type": "stream",
          "name": "stdout",
          "text": [
            "CHAS  RAD\n",
            "0     1        3\n",
            "      2        2\n",
            "      3        5\n",
            "      4       33\n",
            "      5       51\n",
            "      6       17\n",
            "      24     124\n",
            "1     5        7\n",
            "      24       8\n",
            "Name: CHAS, dtype: int64\n"
          ]
        }
      ]
    },
    {
      "cell_type": "code",
      "metadata": {
        "colab": {
          "base_uri": "https://localhost:8080/"
        },
        "id": "yV67LkPLHOmb",
        "outputId": "e651138d-84b1-4085-8617-71a05d45c16b"
      },
      "source": [
        "print(type(c_r_gb))\n",
        "c_r_gb_c = pd.DataFrame(c_r_gb)\n",
        "print(type(c_r_gb_c))"
      ],
      "execution_count": null,
      "outputs": [
        {
          "output_type": "stream",
          "name": "stdout",
          "text": [
            "<class 'pandas.core.series.Series'>\n",
            "<class 'pandas.core.frame.DataFrame'>\n"
          ]
        }
      ]
    },
    {
      "cell_type": "code",
      "metadata": {
        "colab": {
          "base_uri": "https://localhost:8080/"
        },
        "id": "GtxrkbcnHOjG",
        "outputId": "86c628a8-2b87-4452-875b-2c36d75993e0"
      },
      "source": [
        "#칼럼 추가\n",
        "c_r_gb_c.columns = ['COUNT']\n",
        "print(c_r_gb_c)"
      ],
      "execution_count": null,
      "outputs": [
        {
          "output_type": "stream",
          "name": "stdout",
          "text": [
            "          COUNT\n",
            "CHAS RAD       \n",
            "0    1        3\n",
            "     2        2\n",
            "     3        5\n",
            "     4       33\n",
            "     5       51\n",
            "     6       17\n",
            "     24     124\n",
            "1    5        7\n",
            "     24       8\n"
          ]
        }
      ]
    },
    {
      "cell_type": "markdown",
      "metadata": {
        "id": "sIY6S2Q8PASO"
      },
      "source": [
        "2.2 오름/내림 차순 정렬"
      ]
    },
    {
      "cell_type": "code",
      "metadata": {
        "id": "jIHSprkQFhfG"
      },
      "source": [
        "import pandas as pd\n",
        "data = pd.read_csv('boston.csv')"
      ],
      "execution_count": null,
      "outputs": []
    },
    {
      "cell_type": "code",
      "metadata": {
        "colab": {
          "base_uri": "https://localhost:8080/"
        },
        "id": "MqR7mKCwPMXg",
        "outputId": "d69f74fe-7113-4a57-c1f6-6238a6ed70bc"
      },
      "source": [
        "#sort_asc = data['TAX'].copy()\n",
        "#sort_desc = data['TAX'].copy()\n",
        "sort_asc = data['TAX'].sort_values(ascending = True )\n",
        "print(sort_asc)"
      ],
      "execution_count": null,
      "outputs": [
        {
          "output_type": "stream",
          "name": "stdout",
          "text": [
            "353    187\n",
            "123    188\n",
            "122    188\n",
            "126    188\n",
            "125    188\n",
            "      ... \n",
            "492    711\n",
            "491    711\n",
            "490    711\n",
            "489    711\n",
            "488    711\n",
            "Name: TAX, Length: 506, dtype: int64\n"
          ]
        }
      ]
    },
    {
      "cell_type": "code",
      "metadata": {
        "colab": {
          "base_uri": "https://localhost:8080/"
        },
        "id": "ajjZawQnPMUI",
        "outputId": "0ebd9ac9-511b-436e-8fb7-2589366b0722"
      },
      "source": [
        "sort_desc = data['TAX'].sort_values(ascending = False)\n",
        "print(sort_desc)"
      ],
      "execution_count": null,
      "outputs": [
        {
          "output_type": "stream",
          "name": "stdout",
          "text": [
            "488    711\n",
            "489    711\n",
            "490    711\n",
            "491    711\n",
            "492    711\n",
            "      ... \n",
            "125    188\n",
            "126    188\n",
            "122    188\n",
            "123    188\n",
            "353    187\n",
            "Name: TAX, Length: 506, dtype: int64\n"
          ]
        }
      ]
    },
    {
      "cell_type": "markdown",
      "metadata": {
        "id": "C8CkIb63Q43H"
      },
      "source": [
        "행 번호가 뒤섞여 있어 인덱스를 모두 재설정해야함 - reset_index()"
      ]
    },
    {
      "cell_type": "markdown",
      "metadata": {
        "id": "XXnAT10oRht8"
      },
      "source": [
        "drop=True 원래 index 삭제\n",
        "              "
      ]
    },
    {
      "cell_type": "markdown",
      "metadata": {
        "id": "uD7TzTudRl_W"
      },
      "source": [
        "inplace=True 변수에 즉시 적용"
      ]
    },
    {
      "cell_type": "code",
      "metadata": {
        "colab": {
          "base_uri": "https://localhost:8080/"
        },
        "id": "6jLP4c_ZRHvj",
        "outputId": "475c6829-0916-4a8d-b0ff-61190487d579"
      },
      "source": [
        "sort_asc.reset_index(drop=True, inplace=True)\n",
        "print(sort_asc)"
      ],
      "execution_count": null,
      "outputs": [
        {
          "output_type": "stream",
          "name": "stdout",
          "text": [
            "0      187\n",
            "1      188\n",
            "2      188\n",
            "3      188\n",
            "4      188\n",
            "      ... \n",
            "501    711\n",
            "502    711\n",
            "503    711\n",
            "504    711\n",
            "505    711\n",
            "Name: TAX, Length: 506, dtype: int64\n"
          ]
        }
      ]
    },
    {
      "cell_type": "code",
      "metadata": {
        "colab": {
          "base_uri": "https://localhost:8080/"
        },
        "id": "t4d3r_gsPMNk",
        "outputId": "58f0f41e-fcf6-4d66-ca06-6ad8159401f1"
      },
      "source": [
        "sort_desc.reset_index(drop=True, inplace=True)\n",
        "print(sort_desc)"
      ],
      "execution_count": null,
      "outputs": [
        {
          "output_type": "stream",
          "name": "stdout",
          "text": [
            "0      711\n",
            "1      711\n",
            "2      711\n",
            "3      711\n",
            "4      711\n",
            "      ... \n",
            "501    188\n",
            "502    188\n",
            "503    188\n",
            "504    188\n",
            "505    187\n",
            "Name: TAX, Length: 506, dtype: int64\n"
          ]
        }
      ]
    },
    {
      "cell_type": "code",
      "metadata": {
        "colab": {
          "base_uri": "https://localhost:8080/"
        },
        "id": "kfL7W_aTPMJm",
        "outputId": "3d769624-ef72-4016-c2f3-5329c8d1b1f0"
      },
      "source": [
        "sort_concat = pd.concat([sort_asc, sort_desc], axis = 1 ) #1이니까 열기준 합치기\n",
        "print(sort_concat)"
      ],
      "execution_count": null,
      "outputs": [
        {
          "output_type": "stream",
          "name": "stdout",
          "text": [
            "     TAX  TAX\n",
            "0    187  711\n",
            "1    188  711\n",
            "2    188  711\n",
            "3    188  711\n",
            "4    188  711\n",
            "..   ...  ...\n",
            "501  711  188\n",
            "502  711  188\n",
            "503  711  188\n",
            "504  711  188\n",
            "505  711  187\n",
            "\n",
            "[506 rows x 2 columns]\n"
          ]
        }
      ]
    },
    {
      "cell_type": "code",
      "metadata": {
        "colab": {
          "base_uri": "https://localhost:8080/"
        },
        "id": "e8G6wqYuPMGf",
        "outputId": "1c000734-6f49-4696-c21e-a3997d9a44e9"
      },
      "source": [
        "sort_concat['diff'] = abs( sort_concat.iloc[:,0] - sort_concat.iloc[:,1] )\n",
        "print(sort_concat)\n",
        "print(sort_concat['diff'].var())"
      ],
      "execution_count": null,
      "outputs": [
        {
          "output_type": "stream",
          "name": "stdout",
          "text": [
            "     TAX  TAX  diff\n",
            "0    187  711   524\n",
            "1    188  711   523\n",
            "2    188  711   523\n",
            "3    188  711   523\n",
            "4    188  711   523\n",
            "..   ...  ...   ...\n",
            "501  711  188   523\n",
            "502  711  188   523\n",
            "503  711  188   523\n",
            "504  711  188   523\n",
            "505  711  187   524\n",
            "\n",
            "[506 rows x 3 columns]\n",
            "28490.5986459515\n"
          ]
        }
      ]
    },
    {
      "cell_type": "markdown",
      "metadata": {
        "id": "SMIuHPe_UBGd"
      },
      "source": [
        "2.3 최소최대 변환하기"
      ]
    },
    {
      "cell_type": "code",
      "metadata": {
        "id": "sVPnxopdTO-1"
      },
      "source": [
        "import pandas as pd\n",
        "data = pd.read_csv('boston.csv')"
      ],
      "execution_count": null,
      "outputs": []
    },
    {
      "cell_type": "code",
      "metadata": {
        "id": "Iw8IxCflTO7W"
      },
      "source": [
        "from sklearn.preprocessing import MinMaxScaler\n",
        "scaler = MinMaxScaler()"
      ],
      "execution_count": null,
      "outputs": []
    },
    {
      "cell_type": "code",
      "metadata": {
        "colab": {
          "base_uri": "https://localhost:8080/"
        },
        "id": "QON5s9hATO2R",
        "outputId": "5cc67f4b-5b5a-4ac0-e2ab-029d1a148893"
      },
      "source": [
        "min_max = scaler.fit_transform(data) \n",
        "print(type(min_max))"
      ],
      "execution_count": null,
      "outputs": [
        {
          "output_type": "stream",
          "name": "stdout",
          "text": [
            "<class 'numpy.ndarray'>\n"
          ]
        }
      ]
    },
    {
      "cell_type": "code",
      "metadata": {
        "colab": {
          "base_uri": "https://localhost:8080/"
        },
        "id": "APUxgHmTTOzb",
        "outputId": "98b26845-f597-4ac1-c46d-488b2c0f30db"
      },
      "source": [
        "#numpy.ndarray타입은 pd로 가공x, 데프로 변경하기\n",
        "min_max = pd.DataFrame(min_max, columns = data.columns)\n",
        "print(min_max.head())"
      ],
      "execution_count": null,
      "outputs": [
        {
          "output_type": "stream",
          "name": "stdout",
          "text": [
            "       CRIM    ZN     INDUS  CHAS  ...   PTRATIO         B     LSTAT      MEDV\n",
            "0  0.000000  0.18  0.067815   0.0  ...  0.287234  1.000000  0.089680  0.422222\n",
            "1  0.000236  0.00  0.242302   0.0  ...  0.553191  1.000000  0.204470  0.368889\n",
            "2  0.000236  0.00  0.242302   0.0  ...  0.553191  0.989737  0.063466  0.660000\n",
            "3  0.000293  0.00  0.063050   0.0  ...  0.648936  0.994276  0.033389  0.631111\n",
            "4  0.000705  0.00  0.063050   0.0  ...  0.648936  1.000000  0.099338  0.693333\n",
            "\n",
            "[5 rows x 14 columns]\n"
          ]
        }
      ]
    },
    {
      "cell_type": "code",
      "metadata": {
        "colab": {
          "base_uri": "https://localhost:8080/"
        },
        "id": "LyAr_H6GTOvY",
        "outputId": "ca08d2e9-7240-4c99-e509-df5759b9aaab"
      },
      "source": [
        "print(min_max[min_max['MEDV'] > 0.5]['MEDV'].count())"
      ],
      "execution_count": null,
      "outputs": [
        {
          "output_type": "stream",
          "name": "stdout",
          "text": [
            "106\n"
          ]
        }
      ]
    },
    {
      "cell_type": "markdown",
      "metadata": {
        "id": "Olx92uenWHNo"
      },
      "source": [
        "2.4 빈도값 구하기"
      ]
    },
    {
      "cell_type": "code",
      "metadata": {
        "colab": {
          "base_uri": "https://localhost:8080/"
        },
        "id": "AhCMPThnTOsT",
        "outputId": "81a8af0a-d032-40d4-aa2f-f5459f2d91a9"
      },
      "source": [
        "data_copy = data['AGE'].copy()\n",
        "print(data_copy)"
      ],
      "execution_count": null,
      "outputs": [
        {
          "output_type": "stream",
          "name": "stdout",
          "text": [
            "0      65.2\n",
            "1      78.9\n",
            "2      61.1\n",
            "3      45.8\n",
            "4      54.2\n",
            "       ... \n",
            "501    69.1\n",
            "502    76.7\n",
            "503    91.0\n",
            "504    89.3\n",
            "505    80.8\n",
            "Name: AGE, Length: 506, dtype: float64\n"
          ]
        }
      ]
    },
    {
      "cell_type": "code",
      "metadata": {
        "colab": {
          "base_uri": "https://localhost:8080/"
        },
        "id": "mGUYsY4_Fhbz",
        "outputId": "4ac7326c-ae99-4e03-fd7c-ee606ea83650"
      },
      "source": [
        "data_copy = data_copy.round()\n",
        "print(data_copy)"
      ],
      "execution_count": null,
      "outputs": [
        {
          "output_type": "stream",
          "name": "stdout",
          "text": [
            "0      65.0\n",
            "1      79.0\n",
            "2      61.0\n",
            "3      46.0\n",
            "4      54.0\n",
            "       ... \n",
            "501    69.0\n",
            "502    77.0\n",
            "503    91.0\n",
            "504    89.0\n",
            "505    81.0\n",
            "Name: AGE, Length: 506, dtype: float64\n"
          ]
        }
      ]
    },
    {
      "cell_type": "markdown",
      "metadata": {
        "id": "Pu_t7PE_a0yC"
      },
      "source": [
        "최빈값 1번째 방법"
      ]
    },
    {
      "cell_type": "code",
      "metadata": {
        "colab": {
          "base_uri": "https://localhost:8080/"
        },
        "id": "ukBGYJjnYSXw",
        "outputId": "633b2951-721e-4e63-cacc-d342369c6706"
      },
      "source": [
        "# 칼럼 1개 = 시리즈 -> 데프로 변경\n",
        "print(type(data_copy))\n",
        "data_copy = pd.DataFrame(data_copy)\n",
        "print(type(data_copy))"
      ],
      "execution_count": null,
      "outputs": [
        {
          "output_type": "stream",
          "name": "stdout",
          "text": [
            "<class 'pandas.core.series.Series'>\n",
            "<class 'pandas.core.frame.DataFrame'>\n"
          ]
        }
      ]
    },
    {
      "cell_type": "code",
      "metadata": {
        "colab": {
          "base_uri": "https://localhost:8080/"
        },
        "id": "l9MA0kN-FhXr",
        "outputId": "6fff51fc-39c8-45bc-f45a-dd6107a5a824"
      },
      "source": [
        "gb = data_copy.groupby(['AGE'])['AGE'].count()\n",
        "print(gb)"
      ],
      "execution_count": null,
      "outputs": [
        {
          "output_type": "stream",
          "name": "stdout",
          "text": [
            "AGE\n",
            "3.0       1\n",
            "6.0       3\n",
            "7.0       3\n",
            "8.0       3\n",
            "9.0       1\n",
            "         ..\n",
            "96.0     15\n",
            "97.0     17\n",
            "98.0     19\n",
            "99.0     10\n",
            "100.0    43\n",
            "Name: AGE, Length: 91, dtype: int64\n"
          ]
        }
      ]
    },
    {
      "cell_type": "code",
      "metadata": {
        "colab": {
          "base_uri": "https://localhost:8080/"
        },
        "id": "NuiK52PzWw1l",
        "outputId": "51c7afaa-15eb-459c-e08e-93f2dd3f59b9"
      },
      "source": [
        "print(type(gb))\n",
        "gb = pd.DataFrame(gb)\n",
        "print(type(gb))"
      ],
      "execution_count": null,
      "outputs": [
        {
          "output_type": "stream",
          "name": "stdout",
          "text": [
            "<class 'pandas.core.series.Series'>\n",
            "<class 'pandas.core.frame.DataFrame'>\n"
          ]
        }
      ]
    },
    {
      "cell_type": "code",
      "metadata": {
        "colab": {
          "base_uri": "https://localhost:8080/"
        },
        "id": "cIlSqdfAW0QJ",
        "outputId": "48a89884-a899-4237-b735-35e9f2960111"
      },
      "source": [
        "print(gb.columns)"
      ],
      "execution_count": null,
      "outputs": [
        {
          "output_type": "stream",
          "name": "stdout",
          "text": [
            "Index(['AGE'], dtype='object')\n"
          ]
        }
      ]
    },
    {
      "cell_type": "code",
      "metadata": {
        "id": "U0qno468Wz7P"
      },
      "source": [
        "gb.columns = ['COUNT']"
      ],
      "execution_count": null,
      "outputs": []
    },
    {
      "cell_type": "code",
      "metadata": {
        "colab": {
          "base_uri": "https://localhost:8080/"
        },
        "id": "w3xCqop1Wz4f",
        "outputId": "cf8dd0ef-108a-4a56-ad56-2ae5368b54dd"
      },
      "source": [
        "print(gb.head())"
      ],
      "execution_count": null,
      "outputs": [
        {
          "output_type": "stream",
          "name": "stdout",
          "text": [
            "     COUNT\n",
            "AGE       \n",
            "3.0      1\n",
            "6.0      3\n",
            "7.0      3\n",
            "8.0      3\n",
            "9.0      1\n"
          ]
        }
      ]
    },
    {
      "cell_type": "markdown",
      "metadata": {
        "id": "HXtvIMY2Zwc3"
      },
      "source": [
        "index인 AGE를 칼럼으로 변경하고 새 index 부여"
      ]
    },
    {
      "cell_type": "code",
      "metadata": {
        "colab": {
          "base_uri": "https://localhost:8080/"
        },
        "id": "x7w3txxeWz1e",
        "outputId": "ffe36c18-8182-430d-9527-5d2cc34681d7"
      },
      "source": [
        "gb.reset_index(drop=False, inplace=True)\n",
        "print(gb.head())"
      ],
      "execution_count": null,
      "outputs": [
        {
          "output_type": "stream",
          "name": "stdout",
          "text": [
            "   AGE  COUNT\n",
            "0  3.0      1\n",
            "1  6.0      3\n",
            "2  7.0      3\n",
            "3  8.0      3\n",
            "4  9.0      1\n"
          ]
        }
      ]
    },
    {
      "cell_type": "code",
      "metadata": {
        "colab": {
          "base_uri": "https://localhost:8080/"
        },
        "id": "zrsSFlx_WzzG",
        "outputId": "79f9bc57-d046-4425-f7aa-6be3ea13ae96"
      },
      "source": [
        "gb.sort_values(by = 'COUNT', ascending=False, inplace=True)\n",
        "print(gb.head(1))"
      ],
      "execution_count": null,
      "outputs": [
        {
          "output_type": "stream",
          "name": "stdout",
          "text": [
            "      AGE  COUNT\n",
            "90  100.0     43\n"
          ]
        }
      ]
    },
    {
      "cell_type": "code",
      "metadata": {
        "colab": {
          "base_uri": "https://localhost:8080/"
        },
        "id": "xl8aQ8ywWzvP",
        "outputId": "c6e34f0d-1967-4126-d941-292d25b76f87"
      },
      "source": [
        "print(gb.iloc[0,0], gb.iloc[0,1])"
      ],
      "execution_count": null,
      "outputs": [
        {
          "output_type": "stream",
          "name": "stdout",
          "text": [
            "100.0 43\n"
          ]
        }
      ]
    },
    {
      "cell_type": "markdown",
      "metadata": {
        "id": "B7tTk6ida6KG"
      },
      "source": [
        "최빈값 2번째 방법"
      ]
    },
    {
      "cell_type": "code",
      "metadata": {
        "id": "kpbe_HO4at0P"
      },
      "source": [
        "from scipy.stats import mode"
      ],
      "execution_count": 159,
      "outputs": []
    },
    {
      "cell_type": "code",
      "metadata": {
        "id": "UhkFP9Cna7cj",
        "colab": {
          "base_uri": "https://localhost:8080/"
        },
        "outputId": "2fc85fd5-8719-48ee-bbd2-b5078043a9bb"
      },
      "source": [
        "print(mode(data_copy))"
      ],
      "execution_count": 160,
      "outputs": [
        {
          "output_type": "stream",
          "name": "stdout",
          "text": [
            "ModeResult(mode=array([[100.]]), count=array([[43]]))\n"
          ]
        }
      ]
    },
    {
      "cell_type": "code",
      "metadata": {
        "id": "XpGY87-ba70j",
        "colab": {
          "base_uri": "https://localhost:8080/"
        },
        "outputId": "be2a8b37-04bf-4f00-d62a-b7dab326b8dd"
      },
      "source": [
        "print(int(mode(data_copy)[0]), int(mode(data_copy)[1]))"
      ],
      "execution_count": 161,
      "outputs": [
        {
          "output_type": "stream",
          "name": "stdout",
          "text": [
            "100 43\n"
          ]
        }
      ]
    },
    {
      "cell_type": "markdown",
      "metadata": {
        "id": "Gajw-DCzqB0N"
      },
      "source": [
        "2.5 표준 변환하기"
      ]
    },
    {
      "cell_type": "code",
      "metadata": {
        "id": "dpWZCtl_qBlp"
      },
      "source": [
        "import pandas as pd\n",
        "data = pd.read_csv('boston.csv')\n",
        "from sklearn.preprocessing import StandardScaler"
      ],
      "execution_count": 167,
      "outputs": []
    },
    {
      "cell_type": "code",
      "metadata": {
        "colab": {
          "base_uri": "https://localhost:8080/"
        },
        "id": "fZBBvPiTqBga",
        "outputId": "99300773-2eef-49fb-becf-bb1ea127026d"
      },
      "source": [
        "scaler = StandardScaler()\n",
        "stdd = scaler.fit_transform(data)\n",
        "print(type(stdd))"
      ],
      "execution_count": 177,
      "outputs": [
        {
          "output_type": "stream",
          "name": "stdout",
          "text": [
            "<class 'numpy.ndarray'>\n"
          ]
        }
      ]
    },
    {
      "cell_type": "code",
      "metadata": {
        "id": "pe9556l7sSXs"
      },
      "source": [
        "stdd = pd.DataFrame(stdd, columns = data.columns)"
      ],
      "execution_count": 178,
      "outputs": []
    },
    {
      "cell_type": "code",
      "metadata": {
        "colab": {
          "base_uri": "https://localhost:8080/"
        },
        "id": "JY2p-sBEqBYy",
        "outputId": "43f6dd05-259e-481c-e8a2-50186a255dc6"
      },
      "source": [
        "print((stdd['DIS'] > 0.4) & (stdd['DIS'] < 0.6))"
      ],
      "execution_count": 179,
      "outputs": [
        {
          "output_type": "stream",
          "name": "stdout",
          "text": [
            "0      False\n",
            "1       True\n",
            "2       True\n",
            "3      False\n",
            "4      False\n",
            "       ...  \n",
            "501    False\n",
            "502    False\n",
            "503    False\n",
            "504    False\n",
            "505    False\n",
            "Name: DIS, Length: 506, dtype: bool\n"
          ]
        }
      ]
    },
    {
      "cell_type": "code",
      "metadata": {
        "colab": {
          "base_uri": "https://localhost:8080/"
        },
        "id": "zucxaUShqBVW",
        "outputId": "d4ada636-8ef6-4bc8-d1fc-e359845403bf"
      },
      "source": [
        "stdd = stdd[(stdd['DIS'] > 0.4) & (stdd['DIS'] < 0.6)]\n",
        "print(round(stdd['DIS'].mean(),2))"
      ],
      "execution_count": 183,
      "outputs": [
        {
          "output_type": "stream",
          "name": "stdout",
          "text": [
            "0.48\n"
          ]
        }
      ]
    },
    {
      "cell_type": "markdown",
      "metadata": {
        "id": "3sDaee2jtqak"
      },
      "source": [
        "2.6 유니크한 값 구하기"
      ]
    },
    {
      "cell_type": "code",
      "metadata": {
        "id": "XFi33vYTtqCq"
      },
      "source": [
        "import pandas as pd\n",
        "data = pd.read_csv('boston.csv')"
      ],
      "execution_count": 193,
      "outputs": []
    },
    {
      "cell_type": "code",
      "metadata": {
        "colab": {
          "base_uri": "https://localhost:8080/"
        },
        "id": "51QWvFyctp9K",
        "outputId": "cac6c88c-7584-48b9-fc21-344d1f49844e"
      },
      "source": [
        "print(data.shape)\n",
        "print(data.columns)\n",
        "print(type(data))\n",
        "cs = data.columns.size\n",
        "print(cs)"
      ],
      "execution_count": 214,
      "outputs": [
        {
          "output_type": "stream",
          "name": "stdout",
          "text": [
            "(506, 14)\n",
            "Index(['CRIM', 'ZN', 'INDUS', 'CHAS', 'NOX', 'RM', 'AGE', 'DIS', 'RAD', 'TAX',\n",
            "       'PTRATIO', 'B', 'LSTAT', 'MEDV'],\n",
            "      dtype='object')\n",
            "<class 'pandas.core.frame.DataFrame'>\n",
            "14\n"
          ]
        }
      ]
    },
    {
      "cell_type": "code",
      "metadata": {
        "colab": {
          "base_uri": "https://localhost:8080/"
        },
        "id": "nvCPnlVqtp4I",
        "outputId": "8b35769d-ecbf-4ce1-8775-19c0d3bd4808"
      },
      "source": [
        "print(data['CHAS'].unique())\n",
        "print(type(data['CHAS'].unique()))\n",
        "print(pd.DataFrame(data['CHAS'].unique()).count())"
      ],
      "execution_count": 205,
      "outputs": [
        {
          "output_type": "stream",
          "name": "stdout",
          "text": [
            "[0 1]\n",
            "<class 'numpy.ndarray'>\n",
            "0    2\n",
            "dtype: int64\n"
          ]
        }
      ]
    },
    {
      "cell_type": "code",
      "metadata": {
        "colab": {
          "base_uri": "https://localhost:8080/"
        },
        "id": "Ynlttxv-tp0I",
        "outputId": "79d107f3-a2ae-46d4-e5ba-41025f775626"
      },
      "source": [
        "print(int(pd.DataFrame(data['CHAS'].unique()).count()))"
      ],
      "execution_count": 206,
      "outputs": [
        {
          "output_type": "stream",
          "name": "stdout",
          "text": [
            "2\n"
          ]
        }
      ]
    },
    {
      "cell_type": "code",
      "metadata": {
        "colab": {
          "base_uri": "https://localhost:8080/"
        },
        "id": "Es7km6STqBOX",
        "outputId": "d8d7a407-f273-437f-bd86-aa958d62985d"
      },
      "source": [
        "print(\n",
        "    (\n",
        "    int(pd.DataFrame(data['CRIM'].unique()).count()) + \n",
        "    int(pd.DataFrame(data['ZN'].unique()).count()) + \n",
        "    int(pd.DataFrame(data['INDUS'].unique()).count()) + \n",
        "    int(pd.DataFrame(data['CHAS'].unique()).count()) + \n",
        "    int(pd.DataFrame(data['NOX'].unique()).count()) + \n",
        "    int(pd.DataFrame(data['RM'].unique()).count()) + \n",
        "    int(pd.DataFrame(data['AGE'].unique()).count()) + \n",
        "    int(pd.DataFrame(data['DIS'].unique()).count()) + \n",
        "    int(pd.DataFrame(data['RAD'].unique()).count()) + \n",
        "    int(pd.DataFrame(data['TAX'].unique()).count()) + \n",
        "    int(pd.DataFrame(data['PTRATIO'].unique()).count()) + \n",
        "    int(pd.DataFrame(data['B'].unique()).count()) + \n",
        "    int(pd.DataFrame(data['LSTAT'].unique()).count()) + \n",
        "    int(pd.DataFrame(data['MEDV'].unique()).count()) \n",
        "    )/data.columns.size\n",
        "    )"
      ],
      "execution_count": 212,
      "outputs": [
        {
          "output_type": "stream",
          "name": "stdout",
          "text": [
            "218.0\n"
          ]
        }
      ]
    },
    {
      "cell_type": "code",
      "metadata": {
        "id": "L8LcUpL8a7xK",
        "colab": {
          "base_uri": "https://localhost:8080/"
        },
        "outputId": "b373d9ce-ccf0-4604-88d1-cbe4a0e140ab"
      },
      "source": [
        "sum=0\n",
        "data_col = data.columns\n",
        "for name in data_col: \n",
        "  sum = sum + int(pd.DataFrame(data[name].unique()).count())\n",
        "print(sum/data.columns.size)"
      ],
      "execution_count": 229,
      "outputs": [
        {
          "output_type": "stream",
          "name": "stdout",
          "text": [
            "218.0\n"
          ]
        }
      ]
    },
    {
      "cell_type": "code",
      "metadata": {
        "id": "nenqqqw_a7kM"
      },
      "source": [
        ""
      ],
      "execution_count": null,
      "outputs": []
    },
    {
      "cell_type": "code",
      "metadata": {
        "id": "EjTfe-S007bs"
      },
      "source": [
        ""
      ],
      "execution_count": null,
      "outputs": []
    },
    {
      "cell_type": "code",
      "metadata": {
        "id": "bVBDP7XZ07Yy"
      },
      "source": [
        ""
      ],
      "execution_count": null,
      "outputs": []
    },
    {
      "cell_type": "code",
      "metadata": {
        "id": "nLpe-apb07WE"
      },
      "source": [
        ""
      ],
      "execution_count": null,
      "outputs": []
    },
    {
      "cell_type": "code",
      "metadata": {
        "id": "sfKjvPRf07Tv"
      },
      "source": [
        ""
      ],
      "execution_count": null,
      "outputs": []
    },
    {
      "cell_type": "code",
      "metadata": {
        "id": "s_pRfbVM07Rf"
      },
      "source": [
        ""
      ],
      "execution_count": null,
      "outputs": []
    },
    {
      "cell_type": "code",
      "metadata": {
        "id": "eSn2Bg_W07Nt"
      },
      "source": [
        ""
      ],
      "execution_count": null,
      "outputs": []
    }
  ]
}