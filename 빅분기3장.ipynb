{
  "nbformat": 4,
  "nbformat_minor": 0,
  "metadata": {
    "colab": {
      "name": "빅분기3장.ipynb",
      "provenance": [],
      "authorship_tag": "ABX9TyMUWC22aE22gMd+ZW97/qCx",
      "include_colab_link": true
    },
    "kernelspec": {
      "name": "python3",
      "display_name": "Python 3"
    },
    "language_info": {
      "name": "python"
    }
  },
  "cells": [
    {
      "cell_type": "markdown",
      "metadata": {
        "id": "view-in-github",
        "colab_type": "text"
      },
      "source": [
        "<a href=\"https://colab.research.google.com/github/LimJiYeonn/LimJiYeonn.github.io/blob/master/%EB%B9%85%EB%B6%84%EA%B8%B03%EC%9E%A5.ipynb\" target=\"_parent\"><img src=\"https://colab.research.google.com/assets/colab-badge.svg\" alt=\"Open In Colab\"/></a>"
      ]
    },
    {
      "cell_type": "code",
      "metadata": {
        "id": "I3WoUaXRmj6-"
      },
      "source": [
        "import pandas as pd\n",
        "data = pd.read_csv(\"mtcars.csv\")"
      ],
      "execution_count": 2,
      "outputs": []
    },
    {
      "cell_type": "code",
      "metadata": {
        "id": "Wq4u6PK2_rQD",
        "colab": {
          "base_uri": "https://localhost:8080/"
        },
        "outputId": "074e9aac-dc0b-424f-c93b-ac45d942ca8c"
      },
      "source": [
        "print(data)"
      ],
      "execution_count": 3,
      "outputs": [
        {
          "output_type": "stream",
          "name": "stdout",
          "text": [
            "             Unnamed: 0   mpg   cyl   disp   hp  ...    qsec  vs      am  gear carb\n",
            "0             Mazda RX4  21.0   6.0  160.0  110  ...   16.46   0  manual     4    4\n",
            "1         Mazda RX4 Wag  21.0   6.0  160.0  110  ...   17.02   0  manual     4    4\n",
            "2            Datsun 710  22.8   4.0  108.0   93  ...   18.61   1  manual     4    1\n",
            "3        Hornet 4 Drive  21.4   6.0  258.0  110  ...    0.10   1    auto     3    1\n",
            "4     Hornet Sportabout  18.7   8.0  360.0  175  ...   17.02   0    auto     3    2\n",
            "5               Valiant  18.1   6.0  225.0  105  ...   20.22   1    auto     3    1\n",
            "6            Duster 360  14.3   8.0  360.0  245  ...   15.84   0    auto     3    4\n",
            "7             Merc 240D  24.4   NaN  146.7   62  ...   20.00   1    auto     4    2\n",
            "8              Merc 230  22.8   4.0  140.8   95  ...   22.90   1    auto     4    2\n",
            "9              Merc 280  19.2   6.0  167.6  123  ...   18.30   1    auto     4    4\n",
            "10            Merc 280C  17.8   6.0  167.6  123  ...     NaN   1    auto     4    4\n",
            "11           Merc 450SE  16.4   8.0  275.8  180  ...   17.40   0    auto     3    3\n",
            "12           Merc 450SL  17.3   8.0  275.8  180  ...   17.60   0    auto    *3    3\n",
            "13          Merc 450SLC  15.2   8.0  275.8  180  ...   18.00   0    auto     3    3\n",
            "14   Cadillac Fleetwood  10.4  50.0  472.0  205  ...   17.98   0    auto     3    4\n",
            "15  Lincoln Continental  10.4   8.0  460.0  215  ...   17.82   0    auto     3    4\n",
            "16    Chrysler Imperial  14.7   8.0  440.0  230  ...   17.42   0    auto     3    4\n",
            "17             Fiat 128  32.4   4.0   78.7   66  ...   19.47   1  manual     4    1\n",
            "18          Honda Civic  30.4   4.0   75.7   52  ...   18.52   1  manual     4    2\n",
            "19       Toyota Corolla  33.9   4.0   71.1   65  ...   19.90   1  manual     4    1\n",
            "20        Toyota Corona  21.5   4.0  120.1   97  ...   20.01   1    auto     3    1\n",
            "21     Dodge Challenger  15.5   8.0  318.0  150  ...   16.87   0    auto     3    2\n",
            "22          AMC Javelin  15.2   8.0  304.0  150  ...   17.30   0    auto     3    2\n",
            "23           Camaro Z28  13.3   8.0  350.0  245  ...   15.41   0    auto     3    4\n",
            "24     Pontiac Firebird  19.2   NaN  400.0  175  ...  100.00   0    auto     3    2\n",
            "25            Fiat X1-9  27.3   4.0   79.0   66  ...   18.90   1  manual     4    1\n",
            "26        Porsche 914-2  26.0   4.0  120.3   91  ...   16.70   0  manual     5    2\n",
            "27         Lotus Europa  30.4   4.0   95.1  113  ...   16.90   1  manual     5    2\n",
            "28       Ford Pantera L  15.8   8.0  351.0  264  ...   14.50   0  manual    *5    4\n",
            "29         Ferrari Dino  19.7   6.0  145.0  175  ...   15.50   0  manual     5    6\n",
            "30        Maserati Bora  15.0   8.0  301.0  335  ...   14.60   0  manual     5    8\n",
            "31           Volvo 142E  21.4   4.0  121.0  109  ...   18.60   1  manual     4    2\n",
            "\n",
            "[32 rows x 12 columns]\n"
          ]
        }
      ]
    },
    {
      "cell_type": "code",
      "metadata": {
        "colab": {
          "base_uri": "https://localhost:8080/"
        },
        "id": "i46epxeb_sqU",
        "outputId": "b045200a-ccac-4b70-a491-2253db192fef"
      },
      "source": [
        "print(data.head())"
      ],
      "execution_count": 4,
      "outputs": [
        {
          "output_type": "stream",
          "name": "stdout",
          "text": [
            "          Unnamed: 0   mpg  cyl   disp   hp  ...   qsec  vs      am  gear carb\n",
            "0          Mazda RX4  21.0  6.0  160.0  110  ...  16.46   0  manual     4    4\n",
            "1      Mazda RX4 Wag  21.0  6.0  160.0  110  ...  17.02   0  manual     4    4\n",
            "2         Datsun 710  22.8  4.0  108.0   93  ...  18.61   1  manual     4    1\n",
            "3     Hornet 4 Drive  21.4  6.0  258.0  110  ...   0.10   1    auto     3    1\n",
            "4  Hornet Sportabout  18.7  8.0  360.0  175  ...  17.02   0    auto     3    2\n",
            "\n",
            "[5 rows x 12 columns]\n"
          ]
        }
      ]
    },
    {
      "cell_type": "code",
      "metadata": {
        "colab": {
          "base_uri": "https://localhost:8080/"
        },
        "id": "_DuOZI58BJ7K",
        "outputId": "36a4ba00-77cd-4888-8e54-522348087451"
      },
      "source": [
        "print(data.shape)"
      ],
      "execution_count": 5,
      "outputs": [
        {
          "output_type": "stream",
          "name": "stdout",
          "text": [
            "(32, 12)\n"
          ]
        }
      ]
    },
    {
      "cell_type": "code",
      "metadata": {
        "colab": {
          "base_uri": "https://localhost:8080/"
        },
        "id": "UA85N3mvBKGX",
        "outputId": "dd71123e-a0ba-496c-fdb8-2f4e6899b656"
      },
      "source": [
        "print(type(data))"
      ],
      "execution_count": 6,
      "outputs": [
        {
          "output_type": "stream",
          "name": "stdout",
          "text": [
            "<class 'pandas.core.frame.DataFrame'>\n"
          ]
        }
      ]
    },
    {
      "cell_type": "code",
      "metadata": {
        "colab": {
          "base_uri": "https://localhost:8080/"
        },
        "id": "ZeEkshMTBKQn",
        "outputId": "94a82612-c830-4e65-b7ab-acfcad989e77"
      },
      "source": [
        "print(data.columns)"
      ],
      "execution_count": 7,
      "outputs": [
        {
          "output_type": "stream",
          "name": "stdout",
          "text": [
            "Index(['Unnamed: 0', 'mpg', 'cyl', 'disp', 'hp', 'drat', 'wt', 'qsec', 'vs',\n",
            "       'am', 'gear', 'carb'],\n",
            "      dtype='object')\n"
          ]
        }
      ]
    },
    {
      "cell_type": "code",
      "metadata": {
        "colab": {
          "base_uri": "https://localhost:8080/"
        },
        "id": "vuj3luUaBKUn",
        "outputId": "065d5364-e470-4f63-dc79-d49b5e9a42d2"
      },
      "source": [
        "print(data.describe())"
      ],
      "execution_count": 8,
      "outputs": [
        {
          "output_type": "stream",
          "name": "stdout",
          "text": [
            "             mpg        cyl        disp  ...        qsec         vs     carb\n",
            "count  32.000000  30.000000   32.000000  ...   31.000000  32.000000  32.0000\n",
            "mean   20.090625   7.600000  230.721875  ...   19.866774   0.437500   2.8125\n",
            "std     6.026948   8.194195  123.938694  ...   15.310469   0.504016   1.6152\n",
            "min    10.400000   4.000000   71.100000  ...    0.100000   0.000000   1.0000\n",
            "25%    15.425000   4.000000  120.825000  ...   16.785000   0.000000   2.0000\n",
            "50%    19.200000   6.000000  196.300000  ...   17.600000   0.000000   2.0000\n",
            "75%    22.800000   8.000000  326.000000  ...   18.755000   1.000000   4.0000\n",
            "max    33.900000  50.000000  472.000000  ...  100.000000   1.000000   8.0000\n",
            "\n",
            "[8 rows x 9 columns]\n"
          ]
        }
      ]
    },
    {
      "cell_type": "code",
      "metadata": {
        "colab": {
          "base_uri": "https://localhost:8080/"
        },
        "id": "oP0Wsc_xByyr",
        "outputId": "ddc052fc-24ec-4c25-d576-1577dba13bc3"
      },
      "source": [
        "print(data['hp'].describe())"
      ],
      "execution_count": 9,
      "outputs": [
        {
          "output_type": "stream",
          "name": "stdout",
          "text": [
            "count     32.000000\n",
            "mean     146.687500\n",
            "std       68.562868\n",
            "min       52.000000\n",
            "25%       96.500000\n",
            "50%      123.000000\n",
            "75%      180.000000\n",
            "max      335.000000\n",
            "Name: hp, dtype: float64\n"
          ]
        }
      ]
    },
    {
      "cell_type": "code",
      "metadata": {
        "colab": {
          "base_uri": "https://localhost:8080/"
        },
        "id": "9azoXdcoBy1y",
        "outputId": "d5ef605d-e217-4111-e999-70ced3085275"
      },
      "source": [
        "print(data['am'].unique())\n",
        "print(data['gear'].unique())\n",
        "print(data['vs'].unique())"
      ],
      "execution_count": 10,
      "outputs": [
        {
          "output_type": "stream",
          "name": "stdout",
          "text": [
            "['manual' 'auto']\n",
            "['4' '3' '*3' '5' '*5']\n",
            "[0 1]\n"
          ]
        }
      ]
    },
    {
      "cell_type": "code",
      "metadata": {
        "colab": {
          "base_uri": "https://localhost:8080/"
        },
        "id": "u506vCdPBy61",
        "outputId": "e05208d2-f2f8-4c49-e818-469532b2d20f"
      },
      "source": [
        "print(data.info())"
      ],
      "execution_count": 11,
      "outputs": [
        {
          "output_type": "stream",
          "name": "stdout",
          "text": [
            "<class 'pandas.core.frame.DataFrame'>\n",
            "RangeIndex: 32 entries, 0 to 31\n",
            "Data columns (total 12 columns):\n",
            " #   Column      Non-Null Count  Dtype  \n",
            "---  ------      --------------  -----  \n",
            " 0   Unnamed: 0  32 non-null     object \n",
            " 1   mpg         32 non-null     float64\n",
            " 2   cyl         30 non-null     float64\n",
            " 3   disp        32 non-null     float64\n",
            " 4   hp          32 non-null     int64  \n",
            " 5   drat        32 non-null     float64\n",
            " 6   wt          32 non-null     float64\n",
            " 7   qsec        31 non-null     float64\n",
            " 8   vs          32 non-null     int64  \n",
            " 9   am          32 non-null     object \n",
            " 10  gear        32 non-null     object \n",
            " 11  carb        32 non-null     int64  \n",
            "dtypes: float64(6), int64(3), object(3)\n",
            "memory usage: 3.1+ KB\n",
            "None\n"
          ]
        }
      ]
    },
    {
      "cell_type": "code",
      "metadata": {
        "colab": {
          "base_uri": "https://localhost:8080/"
        },
        "id": "j9FL0V1oBzQP",
        "outputId": "6319bf6b-7ebe-4d81-fb80-e62d48a4a0c1"
      },
      "source": [
        "print(data.corr())"
      ],
      "execution_count": 12,
      "outputs": [
        {
          "output_type": "stream",
          "name": "stdout",
          "text": [
            "           mpg       cyl      disp  ...      qsec        vs      carb\n",
            "mpg   1.000000 -0.460227 -0.847551  ...  0.013668  0.664039 -0.550925\n",
            "cyl  -0.460227  1.000000  0.544876  ... -0.012755 -0.323960  0.239980\n",
            "disp -0.847551  0.544876  1.000000  ...  0.181810 -0.710416  0.394977\n",
            "hp   -0.776168  0.323293  0.790949  ...  0.010807 -0.723097  0.749812\n",
            "drat  0.681172 -0.372671 -0.710214  ... -0.120283  0.440278 -0.090790\n",
            "wt   -0.867659  0.533690  0.887980  ...  0.093900 -0.554916  0.427606\n",
            "qsec  0.013668 -0.012755  0.181810  ...  1.000000 -0.112146 -0.120312\n",
            "vs    0.664039 -0.323960 -0.710416  ... -0.112146  1.000000 -0.569607\n",
            "carb -0.550925  0.239980  0.394977  ... -0.120312 -0.569607  1.000000\n",
            "\n",
            "[9 rows x 9 columns]\n"
          ]
        }
      ]
    },
    {
      "cell_type": "code",
      "metadata": {
        "id": "vaZoNs1DIv2v"
      },
      "source": [
        "X = data.drop(columns = 'mpg')  # 독립변수\n",
        "Y = data['mpg']                 # 종속변수"
      ],
      "execution_count": 13,
      "outputs": []
    },
    {
      "cell_type": "code",
      "metadata": {
        "id": "eCD4f5JqIv51",
        "colab": {
          "base_uri": "https://localhost:8080/"
        },
        "outputId": "95b2b1ab-c8b8-4858-e11e-95635f79a4ab"
      },
      "source": [
        "print(X)"
      ],
      "execution_count": 14,
      "outputs": [
        {
          "output_type": "stream",
          "name": "stdout",
          "text": [
            "             Unnamed: 0   cyl   disp   hp  drat  ...    qsec  vs      am gear carb\n",
            "0             Mazda RX4   6.0  160.0  110  3.90  ...   16.46   0  manual    4    4\n",
            "1         Mazda RX4 Wag   6.0  160.0  110  3.90  ...   17.02   0  manual    4    4\n",
            "2            Datsun 710   4.0  108.0   93  3.85  ...   18.61   1  manual    4    1\n",
            "3        Hornet 4 Drive   6.0  258.0  110  3.08  ...    0.10   1    auto    3    1\n",
            "4     Hornet Sportabout   8.0  360.0  175  3.15  ...   17.02   0    auto    3    2\n",
            "5               Valiant   6.0  225.0  105  2.76  ...   20.22   1    auto    3    1\n",
            "6            Duster 360   8.0  360.0  245  3.21  ...   15.84   0    auto    3    4\n",
            "7             Merc 240D   NaN  146.7   62  3.69  ...   20.00   1    auto    4    2\n",
            "8              Merc 230   4.0  140.8   95  3.92  ...   22.90   1    auto    4    2\n",
            "9              Merc 280   6.0  167.6  123  3.92  ...   18.30   1    auto    4    4\n",
            "10            Merc 280C   6.0  167.6  123  3.92  ...     NaN   1    auto    4    4\n",
            "11           Merc 450SE   8.0  275.8  180  3.07  ...   17.40   0    auto    3    3\n",
            "12           Merc 450SL   8.0  275.8  180  3.07  ...   17.60   0    auto   *3    3\n",
            "13          Merc 450SLC   8.0  275.8  180  3.07  ...   18.00   0    auto    3    3\n",
            "14   Cadillac Fleetwood  50.0  472.0  205  2.93  ...   17.98   0    auto    3    4\n",
            "15  Lincoln Continental   8.0  460.0  215  3.00  ...   17.82   0    auto    3    4\n",
            "16    Chrysler Imperial   8.0  440.0  230  3.23  ...   17.42   0    auto    3    4\n",
            "17             Fiat 128   4.0   78.7   66  4.08  ...   19.47   1  manual    4    1\n",
            "18          Honda Civic   4.0   75.7   52  4.93  ...   18.52   1  manual    4    2\n",
            "19       Toyota Corolla   4.0   71.1   65  4.22  ...   19.90   1  manual    4    1\n",
            "20        Toyota Corona   4.0  120.1   97  3.70  ...   20.01   1    auto    3    1\n",
            "21     Dodge Challenger   8.0  318.0  150  2.76  ...   16.87   0    auto    3    2\n",
            "22          AMC Javelin   8.0  304.0  150  3.15  ...   17.30   0    auto    3    2\n",
            "23           Camaro Z28   8.0  350.0  245  3.73  ...   15.41   0    auto    3    4\n",
            "24     Pontiac Firebird   NaN  400.0  175  3.08  ...  100.00   0    auto    3    2\n",
            "25            Fiat X1-9   4.0   79.0   66  4.08  ...   18.90   1  manual    4    1\n",
            "26        Porsche 914-2   4.0  120.3   91  4.43  ...   16.70   0  manual    5    2\n",
            "27         Lotus Europa   4.0   95.1  113  3.77  ...   16.90   1  manual    5    2\n",
            "28       Ford Pantera L   8.0  351.0  264  4.22  ...   14.50   0  manual   *5    4\n",
            "29         Ferrari Dino   6.0  145.0  175  3.62  ...   15.50   0  manual    5    6\n",
            "30        Maserati Bora   8.0  301.0  335  3.54  ...   14.60   0  manual    5    8\n",
            "31           Volvo 142E   4.0  121.0  109  4.11  ...   18.60   1  manual    4    2\n",
            "\n",
            "[32 rows x 11 columns]\n"
          ]
        }
      ]
    },
    {
      "cell_type": "code",
      "metadata": {
        "colab": {
          "base_uri": "https://localhost:8080/"
        },
        "id": "hkrjHGxAIv-b",
        "outputId": "da75548d-9429-42b7-b8a1-48e56cc34695"
      },
      "source": [
        "print(Y.head())"
      ],
      "execution_count": 15,
      "outputs": [
        {
          "output_type": "stream",
          "name": "stdout",
          "text": [
            "0    21.0\n",
            "1    21.0\n",
            "2    22.8\n",
            "3    21.4\n",
            "4    18.7\n",
            "Name: mpg, dtype: float64\n"
          ]
        }
      ]
    },
    {
      "cell_type": "code",
      "metadata": {
        "colab": {
          "base_uri": "https://localhost:8080/"
        },
        "id": "5HF1C7_3IwBz",
        "outputId": "93fe2d03-ab06-49e7-e8e7-f28411da44d7"
      },
      "source": [
        "print(X.iloc[:,1:])"
      ],
      "execution_count": 16,
      "outputs": [
        {
          "output_type": "stream",
          "name": "stdout",
          "text": [
            "     cyl   disp   hp  drat     wt    qsec  vs      am gear  carb\n",
            "0    6.0  160.0  110  3.90  2.620   16.46   0  manual    4     4\n",
            "1    6.0  160.0  110  3.90  2.875   17.02   0  manual    4     4\n",
            "2    4.0  108.0   93  3.85  2.320   18.61   1  manual    4     1\n",
            "3    6.0  258.0  110  3.08  3.215    0.10   1    auto    3     1\n",
            "4    8.0  360.0  175  3.15  3.440   17.02   0    auto    3     2\n",
            "5    6.0  225.0  105  2.76  3.460   20.22   1    auto    3     1\n",
            "6    8.0  360.0  245  3.21  3.570   15.84   0    auto    3     4\n",
            "7    NaN  146.7   62  3.69  3.190   20.00   1    auto    4     2\n",
            "8    4.0  140.8   95  3.92  3.150   22.90   1    auto    4     2\n",
            "9    6.0  167.6  123  3.92  3.440   18.30   1    auto    4     4\n",
            "10   6.0  167.6  123  3.92  3.440     NaN   1    auto    4     4\n",
            "11   8.0  275.8  180  3.07  4.070   17.40   0    auto    3     3\n",
            "12   8.0  275.8  180  3.07  3.730   17.60   0    auto   *3     3\n",
            "13   8.0  275.8  180  3.07  3.780   18.00   0    auto    3     3\n",
            "14  50.0  472.0  205  2.93  5.250   17.98   0    auto    3     4\n",
            "15   8.0  460.0  215  3.00  5.424   17.82   0    auto    3     4\n",
            "16   8.0  440.0  230  3.23  5.345   17.42   0    auto    3     4\n",
            "17   4.0   78.7   66  4.08  2.200   19.47   1  manual    4     1\n",
            "18   4.0   75.7   52  4.93  1.615   18.52   1  manual    4     2\n",
            "19   4.0   71.1   65  4.22  1.835   19.90   1  manual    4     1\n",
            "20   4.0  120.1   97  3.70  2.465   20.01   1    auto    3     1\n",
            "21   8.0  318.0  150  2.76  3.520   16.87   0    auto    3     2\n",
            "22   8.0  304.0  150  3.15  3.435   17.30   0    auto    3     2\n",
            "23   8.0  350.0  245  3.73  3.840   15.41   0    auto    3     4\n",
            "24   NaN  400.0  175  3.08  3.845  100.00   0    auto    3     2\n",
            "25   4.0   79.0   66  4.08  1.935   18.90   1  manual    4     1\n",
            "26   4.0  120.3   91  4.43  2.140   16.70   0  manual    5     2\n",
            "27   4.0   95.1  113  3.77  1.513   16.90   1  manual    5     2\n",
            "28   8.0  351.0  264  4.22  3.170   14.50   0  manual   *5     4\n",
            "29   6.0  145.0  175  3.62  2.770   15.50   0  manual    5     6\n",
            "30   8.0  301.0  335  3.54  3.570   14.60   0  manual    5     8\n",
            "31   4.0  121.0  109  4.11  2.780   18.60   1  manual    4     2\n"
          ]
        }
      ]
    },
    {
      "cell_type": "code",
      "metadata": {
        "id": "ek5kqRSVgzkz"
      },
      "source": [
        "X = X.iloc[:,1:]"
      ],
      "execution_count": 17,
      "outputs": []
    },
    {
      "cell_type": "code",
      "metadata": {
        "colab": {
          "base_uri": "https://localhost:8080/"
        },
        "id": "MThE6AE7g-jE",
        "outputId": "e244eec4-e6bc-46ff-950a-b7d83bd52184"
      },
      "source": [
        "print(X)"
      ],
      "execution_count": 18,
      "outputs": [
        {
          "output_type": "stream",
          "name": "stdout",
          "text": [
            "     cyl   disp   hp  drat     wt    qsec  vs      am gear  carb\n",
            "0    6.0  160.0  110  3.90  2.620   16.46   0  manual    4     4\n",
            "1    6.0  160.0  110  3.90  2.875   17.02   0  manual    4     4\n",
            "2    4.0  108.0   93  3.85  2.320   18.61   1  manual    4     1\n",
            "3    6.0  258.0  110  3.08  3.215    0.10   1    auto    3     1\n",
            "4    8.0  360.0  175  3.15  3.440   17.02   0    auto    3     2\n",
            "5    6.0  225.0  105  2.76  3.460   20.22   1    auto    3     1\n",
            "6    8.0  360.0  245  3.21  3.570   15.84   0    auto    3     4\n",
            "7    NaN  146.7   62  3.69  3.190   20.00   1    auto    4     2\n",
            "8    4.0  140.8   95  3.92  3.150   22.90   1    auto    4     2\n",
            "9    6.0  167.6  123  3.92  3.440   18.30   1    auto    4     4\n",
            "10   6.0  167.6  123  3.92  3.440     NaN   1    auto    4     4\n",
            "11   8.0  275.8  180  3.07  4.070   17.40   0    auto    3     3\n",
            "12   8.0  275.8  180  3.07  3.730   17.60   0    auto   *3     3\n",
            "13   8.0  275.8  180  3.07  3.780   18.00   0    auto    3     3\n",
            "14  50.0  472.0  205  2.93  5.250   17.98   0    auto    3     4\n",
            "15   8.0  460.0  215  3.00  5.424   17.82   0    auto    3     4\n",
            "16   8.0  440.0  230  3.23  5.345   17.42   0    auto    3     4\n",
            "17   4.0   78.7   66  4.08  2.200   19.47   1  manual    4     1\n",
            "18   4.0   75.7   52  4.93  1.615   18.52   1  manual    4     2\n",
            "19   4.0   71.1   65  4.22  1.835   19.90   1  manual    4     1\n",
            "20   4.0  120.1   97  3.70  2.465   20.01   1    auto    3     1\n",
            "21   8.0  318.0  150  2.76  3.520   16.87   0    auto    3     2\n",
            "22   8.0  304.0  150  3.15  3.435   17.30   0    auto    3     2\n",
            "23   8.0  350.0  245  3.73  3.840   15.41   0    auto    3     4\n",
            "24   NaN  400.0  175  3.08  3.845  100.00   0    auto    3     2\n",
            "25   4.0   79.0   66  4.08  1.935   18.90   1  manual    4     1\n",
            "26   4.0  120.3   91  4.43  2.140   16.70   0  manual    5     2\n",
            "27   4.0   95.1  113  3.77  1.513   16.90   1  manual    5     2\n",
            "28   8.0  351.0  264  4.22  3.170   14.50   0  manual   *5     4\n",
            "29   6.0  145.0  175  3.62  2.770   15.50   0  manual    5     6\n",
            "30   8.0  301.0  335  3.54  3.570   14.60   0  manual    5     8\n",
            "31   4.0  121.0  109  4.11  2.780   18.60   1  manual    4     2\n"
          ]
        }
      ]
    },
    {
      "cell_type": "code",
      "metadata": {
        "colab": {
          "base_uri": "https://localhost:8080/"
        },
        "id": "Nl_j-w27IwGa",
        "outputId": "be22a124-4182-4094-8050-c41736bbaeba"
      },
      "source": [
        "print(X.isnull().sum())"
      ],
      "execution_count": 19,
      "outputs": [
        {
          "output_type": "stream",
          "name": "stdout",
          "text": [
            "cyl     2\n",
            "disp    0\n",
            "hp      0\n",
            "drat    0\n",
            "wt      0\n",
            "qsec    1\n",
            "vs      0\n",
            "am      0\n",
            "gear    0\n",
            "carb    0\n",
            "dtype: int64\n"
          ]
        }
      ]
    },
    {
      "cell_type": "code",
      "metadata": {
        "id": "rQ8fKHfWIwJT"
      },
      "source": [
        "cyl_mean = X['cyl'].mean()"
      ],
      "execution_count": 20,
      "outputs": []
    },
    {
      "cell_type": "code",
      "metadata": {
        "id": "3vIL75AOLMF9"
      },
      "source": [
        "X['cyl'] = X['cyl'].fillna(cyl_mean)"
      ],
      "execution_count": 21,
      "outputs": []
    },
    {
      "cell_type": "code",
      "metadata": {
        "id": "QPPWMXlgjXlq"
      },
      "source": [
        "qsec_mean = X['qsec'].mean()"
      ],
      "execution_count": 22,
      "outputs": []
    },
    {
      "cell_type": "code",
      "metadata": {
        "id": "yWsFQfV4jXIc"
      },
      "source": [
        "X['qsec'] = X['qsec'].fillna(qsec_mean)"
      ],
      "execution_count": 23,
      "outputs": []
    },
    {
      "cell_type": "code",
      "metadata": {
        "colab": {
          "base_uri": "https://localhost:8080/"
        },
        "id": "BsmRvsQKLMB1",
        "outputId": "2a388ab4-8126-4108-e28e-33a0eda737bc"
      },
      "source": [
        "print(X['gear'].unique())"
      ],
      "execution_count": 24,
      "outputs": [
        {
          "output_type": "stream",
          "name": "stdout",
          "text": [
            "['4' '3' '*3' '5' '*5']\n"
          ]
        }
      ]
    },
    {
      "cell_type": "code",
      "metadata": {
        "id": "URTo6BnHLL-_"
      },
      "source": [
        "X['gear'] = X['gear'].replace('*3', '3').replace('*5', '5')"
      ],
      "execution_count": 25,
      "outputs": []
    },
    {
      "cell_type": "code",
      "metadata": {
        "colab": {
          "base_uri": "https://localhost:8080/"
        },
        "id": "FIe_rwPef0a3",
        "outputId": "77beaba3-6577-4226-e628-589ee74d749d"
      },
      "source": [
        "print(X['gear'])"
      ],
      "execution_count": 26,
      "outputs": [
        {
          "output_type": "stream",
          "name": "stdout",
          "text": [
            "0     4\n",
            "1     4\n",
            "2     4\n",
            "3     3\n",
            "4     3\n",
            "5     3\n",
            "6     3\n",
            "7     4\n",
            "8     4\n",
            "9     4\n",
            "10    4\n",
            "11    3\n",
            "12    3\n",
            "13    3\n",
            "14    3\n",
            "15    3\n",
            "16    3\n",
            "17    4\n",
            "18    4\n",
            "19    4\n",
            "20    3\n",
            "21    3\n",
            "22    3\n",
            "23    3\n",
            "24    3\n",
            "25    4\n",
            "26    5\n",
            "27    5\n",
            "28    5\n",
            "29    5\n",
            "30    5\n",
            "31    4\n",
            "Name: gear, dtype: object\n"
          ]
        }
      ]
    },
    {
      "cell_type": "code",
      "metadata": {
        "colab": {
          "base_uri": "https://localhost:8080/"
        },
        "id": "MOKD8Nt9LL8B",
        "outputId": "fb41b210-c14b-43ae-c4a3-2ee8af080193"
      },
      "source": [
        "X_discribe = X.describe()\n",
        "print(X_discribe)"
      ],
      "execution_count": 27,
      "outputs": [
        {
          "output_type": "stream",
          "name": "stdout",
          "text": [
            "             cyl        disp          hp  ...        qsec         vs     carb\n",
            "count  32.000000   32.000000   32.000000  ...   32.000000  32.000000  32.0000\n",
            "mean    7.600000  230.721875  146.687500  ...   19.866774   0.437500   2.8125\n",
            "std     7.925459  123.938694   68.562868  ...   15.061502   0.504016   1.6152\n",
            "min     4.000000   71.100000   52.000000  ...    0.100000   0.000000   1.0000\n",
            "25%     4.000000  120.825000   96.500000  ...   16.827500   0.000000   2.0000\n",
            "50%     6.000000  196.300000  123.000000  ...   17.710000   0.000000   2.0000\n",
            "75%     8.000000  326.000000  180.000000  ...   19.042500   1.000000   4.0000\n",
            "max    50.000000  472.000000  335.000000  ...  100.000000   1.000000   8.0000\n",
            "\n",
            "[8 rows x 8 columns]\n"
          ]
        }
      ]
    },
    {
      "cell_type": "code",
      "metadata": {
        "colab": {
          "base_uri": "https://localhost:8080/"
        },
        "id": "_yOU6DQlLL5B",
        "outputId": "cb109367-6f7a-4589-a97d-4356577fac9a"
      },
      "source": [
        "print(X_discribe.loc['75%'], X_discribe.loc['25%'])"
      ],
      "execution_count": 28,
      "outputs": [
        {
          "output_type": "stream",
          "name": "stdout",
          "text": [
            "cyl       8.0000\n",
            "disp    326.0000\n",
            "hp      180.0000\n",
            "drat      3.9200\n",
            "wt        3.6100\n",
            "qsec     19.0425\n",
            "vs        1.0000\n",
            "carb      4.0000\n",
            "Name: 75%, dtype: float64 cyl       4.00000\n",
            "disp    120.82500\n",
            "hp       96.50000\n",
            "drat      3.08000\n",
            "wt        2.58125\n",
            "qsec     16.82750\n",
            "vs        0.00000\n",
            "carb      2.00000\n",
            "Name: 25%, dtype: float64\n"
          ]
        }
      ]
    },
    {
      "cell_type": "code",
      "metadata": {
        "colab": {
          "base_uri": "https://localhost:8080/"
        },
        "id": "9zbJwpDXRFHy",
        "outputId": "9e44a93a-8adf-4346-ab1f-47530373d098"
      },
      "source": [
        "X_iqr = X_discribe.loc[\"75%\"] - X_discribe.loc[\"25%\"]\n",
        "print(X_iqr)"
      ],
      "execution_count": 29,
      "outputs": [
        {
          "output_type": "stream",
          "name": "stdout",
          "text": [
            "cyl       4.00000\n",
            "disp    205.17500\n",
            "hp       83.50000\n",
            "drat      0.84000\n",
            "wt        1.02875\n",
            "qsec      2.21500\n",
            "vs        1.00000\n",
            "carb      2.00000\n",
            "dtype: float64\n"
          ]
        }
      ]
    },
    {
      "cell_type": "code",
      "metadata": {
        "colab": {
          "base_uri": "https://localhost:8080/"
        },
        "id": "tXUkt05MRE7I",
        "outputId": "3b03311b-86d6-453f-e566-1fac3571f8e1"
      },
      "source": [
        "print(X_discribe.loc['75%'] + (1.5 * X_iqr))"
      ],
      "execution_count": 30,
      "outputs": [
        {
          "output_type": "stream",
          "name": "stdout",
          "text": [
            "cyl      14.000000\n",
            "disp    633.762500\n",
            "hp      305.250000\n",
            "drat      5.180000\n",
            "wt        5.153125\n",
            "qsec     22.365000\n",
            "vs        2.500000\n",
            "carb      7.000000\n",
            "dtype: float64\n"
          ]
        }
      ]
    },
    {
      "cell_type": "code",
      "metadata": {
        "colab": {
          "base_uri": "https://localhost:8080/"
        },
        "id": "iBB25DqhRE3-",
        "outputId": "e032ce34-0371-43cb-a716-87c67c327db3"
      },
      "source": [
        "print(X_discribe.loc['max'])"
      ],
      "execution_count": 31,
      "outputs": [
        {
          "output_type": "stream",
          "name": "stdout",
          "text": [
            "cyl      50.000\n",
            "disp    472.000\n",
            "hp      335.000\n",
            "drat      4.930\n",
            "wt        5.424\n",
            "qsec    100.000\n",
            "vs        1.000\n",
            "carb      8.000\n",
            "Name: max, dtype: float64\n"
          ]
        }
      ]
    },
    {
      "cell_type": "code",
      "metadata": {
        "colab": {
          "base_uri": "https://localhost:8080/"
        },
        "id": "bDAOCxbwRE0k",
        "outputId": "d48b3309-7c63-41e3-8d01-42f263c17f9f"
      },
      "source": [
        "print(X.loc[X['cyl'] > 14])"
      ],
      "execution_count": 32,
      "outputs": [
        {
          "output_type": "stream",
          "name": "stdout",
          "text": [
            "     cyl   disp   hp  drat    wt   qsec  vs    am gear  carb\n",
            "14  50.0  472.0  205  2.93  5.25  17.98   0  auto    3     4\n"
          ]
        }
      ]
    },
    {
      "cell_type": "code",
      "metadata": {
        "id": "_yGFUF_9REw6"
      },
      "source": [
        "X.loc[14, 'cyl'] = 14"
      ],
      "execution_count": 33,
      "outputs": []
    },
    {
      "cell_type": "code",
      "metadata": {
        "colab": {
          "base_uri": "https://localhost:8080/"
        },
        "id": "R8TnfezMREtU",
        "outputId": "5dd0fa73-9177-4e8f-8fdd-c80e29f8200d"
      },
      "source": [
        "X.loc[14, 'cyl']"
      ],
      "execution_count": 34,
      "outputs": [
        {
          "output_type": "execute_result",
          "data": {
            "text/plain": [
              "14.0"
            ]
          },
          "metadata": {},
          "execution_count": 34
        }
      ]
    },
    {
      "cell_type": "code",
      "metadata": {
        "colab": {
          "base_uri": "https://localhost:8080/"
        },
        "id": "dgGoTXuHREqM",
        "outputId": "17b5092a-69da-4ebf-b4a5-188465368fb4"
      },
      "source": [
        "print(X.loc[ X['hp'] > 305.25 ] )"
      ],
      "execution_count": 35,
      "outputs": [
        {
          "output_type": "stream",
          "name": "stdout",
          "text": [
            "    cyl   disp   hp  drat    wt  qsec  vs      am gear  carb\n",
            "30  8.0  301.0  335  3.54  3.57  14.6   0  manual    5     8\n"
          ]
        }
      ]
    },
    {
      "cell_type": "code",
      "metadata": {
        "id": "AXCl1f-QREl3"
      },
      "source": [
        "X.loc[30,'hp'] = 305.25"
      ],
      "execution_count": 36,
      "outputs": []
    },
    {
      "cell_type": "code",
      "metadata": {
        "colab": {
          "base_uri": "https://localhost:8080/"
        },
        "id": "tBBpPUZBREiY",
        "outputId": "f5fd3448-eeba-4ded-fc72-ffdd55c870ed"
      },
      "source": [
        "print(X.loc[30,'hp'])"
      ],
      "execution_count": 37,
      "outputs": [
        {
          "output_type": "stream",
          "name": "stdout",
          "text": [
            "305.25\n"
          ]
        }
      ]
    },
    {
      "cell_type": "code",
      "metadata": {
        "colab": {
          "base_uri": "https://localhost:8080/"
        },
        "id": "b8WxrrYvS5lb",
        "outputId": "422e2fd8-d016-4e88-8509-80d90026bc11"
      },
      "source": [
        "print(X_discribe.loc['25%'] - X_iqr)"
      ],
      "execution_count": 38,
      "outputs": [
        {
          "output_type": "stream",
          "name": "stdout",
          "text": [
            "cyl      0.0000\n",
            "disp   -84.3500\n",
            "hp      13.0000\n",
            "drat     2.2400\n",
            "wt       1.5525\n",
            "qsec    14.6125\n",
            "vs      -1.0000\n",
            "carb     0.0000\n",
            "dtype: float64\n"
          ]
        }
      ]
    },
    {
      "cell_type": "code",
      "metadata": {
        "colab": {
          "base_uri": "https://localhost:8080/"
        },
        "id": "UjBrqdJYS5iF",
        "outputId": "28a19c9c-54e0-4d9a-9b92-9bebc620faf0"
      },
      "source": [
        "print(X_discribe.loc['min'])"
      ],
      "execution_count": 39,
      "outputs": [
        {
          "output_type": "stream",
          "name": "stdout",
          "text": [
            "cyl      4.000\n",
            "disp    71.100\n",
            "hp      52.000\n",
            "drat     2.760\n",
            "wt       1.513\n",
            "qsec     0.100\n",
            "vs       0.000\n",
            "carb     1.000\n",
            "Name: min, dtype: float64\n"
          ]
        }
      ]
    },
    {
      "cell_type": "code",
      "metadata": {
        "colab": {
          "base_uri": "https://localhost:8080/"
        },
        "id": "CeYUinYXiOI6",
        "outputId": "627fad48-cd1f-4442-eb7c-b94be11ab2e5"
      },
      "source": [
        "print(X.loc[X['qsec'] < 14.815 ])"
      ],
      "execution_count": 40,
      "outputs": [
        {
          "output_type": "stream",
          "name": "stdout",
          "text": [
            "    cyl   disp      hp  drat     wt  qsec  vs      am gear  carb\n",
            "3   6.0  258.0  110.00  3.08  3.215   0.1   1    auto    3     1\n",
            "28  8.0  351.0  264.00  4.22  3.170  14.5   0  manual    5     4\n",
            "30  8.0  301.0  305.25  3.54  3.570  14.6   0  manual    5     8\n"
          ]
        }
      ]
    },
    {
      "cell_type": "code",
      "metadata": {
        "id": "ZDUPdKQein2M"
      },
      "source": [
        "X.loc[[3,28,30],'qsec'] = 14.815"
      ],
      "execution_count": 41,
      "outputs": []
    },
    {
      "cell_type": "code",
      "metadata": {
        "colab": {
          "base_uri": "https://localhost:8080/"
        },
        "id": "2cPypqkcinlW",
        "outputId": "a451300c-0bf7-44db-b6b2-2ef5504aed82"
      },
      "source": [
        "print(X.loc[[3,28,30],'qsec'])"
      ],
      "execution_count": 42,
      "outputs": [
        {
          "output_type": "stream",
          "name": "stdout",
          "text": [
            "3     14.815\n",
            "28    14.815\n",
            "30    14.815\n",
            "Name: qsec, dtype: float64\n"
          ]
        }
      ]
    },
    {
      "cell_type": "code",
      "metadata": {
        "id": "vwxCQLknS5fF"
      },
      "source": [
        "def outlier(data, column):\n",
        "    mean = data[column].mean()\n",
        "    std = data[column].std()\n",
        "    lowest = mean - ( 1.5 * std )\n",
        "    highest = mean + (1.5 * std)\n",
        "    print('최소 경계값 : ', lowest, '최대 경계값 : ', highest)\n",
        "    outlier_index =+ data.loc[ data[column] < lowest ] \n",
        "    outlier_index =+  data.loc[ data[column] > highest ] \n",
        "    return outlier_index"
      ],
      "execution_count": 43,
      "outputs": []
    },
    {
      "cell_type": "code",
      "metadata": {
        "colab": {
          "base_uri": "https://localhost:8080/",
          "height": 99
        },
        "id": "tRelvk0eS5bN",
        "outputId": "c25dfe3f-440e-474e-df29-83b5309adabb"
      },
      "source": [
        "outlier(X, 'qsec')"
      ],
      "execution_count": 44,
      "outputs": [
        {
          "output_type": "stream",
          "name": "stdout",
          "text": [
            "최소 경계값 :  -1.6335506794634185 최대 경계값 :  42.3199115665602\n"
          ]
        },
        {
          "output_type": "execute_result",
          "data": {
            "text/html": [
              "<div>\n",
              "<style scoped>\n",
              "    .dataframe tbody tr th:only-of-type {\n",
              "        vertical-align: middle;\n",
              "    }\n",
              "\n",
              "    .dataframe tbody tr th {\n",
              "        vertical-align: top;\n",
              "    }\n",
              "\n",
              "    .dataframe thead th {\n",
              "        text-align: right;\n",
              "    }\n",
              "</style>\n",
              "<table border=\"1\" class=\"dataframe\">\n",
              "  <thead>\n",
              "    <tr style=\"text-align: right;\">\n",
              "      <th></th>\n",
              "      <th>cyl</th>\n",
              "      <th>disp</th>\n",
              "      <th>hp</th>\n",
              "      <th>drat</th>\n",
              "      <th>wt</th>\n",
              "      <th>qsec</th>\n",
              "      <th>vs</th>\n",
              "      <th>am</th>\n",
              "      <th>gear</th>\n",
              "      <th>carb</th>\n",
              "    </tr>\n",
              "  </thead>\n",
              "  <tbody>\n",
              "    <tr>\n",
              "      <th>24</th>\n",
              "      <td>7.6</td>\n",
              "      <td>400</td>\n",
              "      <td>175</td>\n",
              "      <td>3.08</td>\n",
              "      <td>3.845</td>\n",
              "      <td>100</td>\n",
              "      <td>0</td>\n",
              "      <td>auto</td>\n",
              "      <td>3</td>\n",
              "      <td>2</td>\n",
              "    </tr>\n",
              "  </tbody>\n",
              "</table>\n",
              "</div>"
            ],
            "text/plain": [
              "    cyl disp   hp  drat     wt qsec vs    am gear carb\n",
              "24  7.6  400  175  3.08  3.845  100  0  auto    3    2"
            ]
          },
          "metadata": {},
          "execution_count": 44
        }
      ]
    },
    {
      "cell_type": "code",
      "metadata": {
        "colab": {
          "base_uri": "https://localhost:8080/"
        },
        "id": "_7EIVSONamzo",
        "outputId": "5d9ef957-89e3-4d76-ecb3-10bf16193227"
      },
      "source": [
        "print(X.loc[24, 'qsec'] )"
      ],
      "execution_count": 45,
      "outputs": [
        {
          "output_type": "stream",
          "name": "stdout",
          "text": [
            "100.0\n"
          ]
        }
      ]
    },
    {
      "cell_type": "code",
      "metadata": {
        "id": "0rO16gQRac0Z"
      },
      "source": [
        "X.loc[24, 'qsec'] = 42.245"
      ],
      "execution_count": 46,
      "outputs": []
    },
    {
      "cell_type": "code",
      "metadata": {
        "colab": {
          "base_uri": "https://localhost:8080/"
        },
        "id": "L1K9_jPda2Tz",
        "outputId": "7472e949-4a4b-4cc2-e894-e136a1c9d6dc"
      },
      "source": [
        "print(outlier(X, 'carb'))"
      ],
      "execution_count": 47,
      "outputs": [
        {
          "output_type": "stream",
          "name": "stdout",
          "text": [
            "최소 경계값 :  0.3897000335522218 최대 경계값 :  5.235299966447778\n",
            "   cyl disp      hp  drat    wt    qsec vs      am gear carb\n",
            "29   6  145     175  3.62  2.77    15.5  0  manual    5    6\n",
            "30   8  301  305.25  3.54  3.57  14.815  0  manual    5    8\n"
          ]
        }
      ]
    },
    {
      "cell_type": "code",
      "metadata": {
        "colab": {
          "base_uri": "https://localhost:8080/"
        },
        "id": "XdVsCSEoa2KQ",
        "outputId": "03a31fd1-eb69-48c2-fd09-75f269045884"
      },
      "source": [
        "print(X.loc[ [29, 30], 'carb'])"
      ],
      "execution_count": 48,
      "outputs": [
        {
          "output_type": "stream",
          "name": "stdout",
          "text": [
            "29    6\n",
            "30    8\n",
            "Name: carb, dtype: int64\n"
          ]
        }
      ]
    },
    {
      "cell_type": "code",
      "metadata": {
        "id": "YxonRBm-acrh"
      },
      "source": [
        "X.loc[ [29, 30], 'carb'] = 5.235"
      ],
      "execution_count": 49,
      "outputs": []
    },
    {
      "cell_type": "code",
      "metadata": {
        "id": "FD9_FOg0blqE"
      },
      "source": [
        ""
      ],
      "execution_count": 49,
      "outputs": []
    },
    {
      "cell_type": "code",
      "metadata": {
        "id": "CzDbm8ihYoyK"
      },
      "source": [
        "    mean = X['qsec'].mean()\n",
        "    std = X['qsec'].std()\n",
        "    lowest = mean - ( 1.5 * std )\n",
        "    highest = mean + (1.5 * std)\n"
      ],
      "execution_count": 50,
      "outputs": []
    },
    {
      "cell_type": "code",
      "metadata": {
        "colab": {
          "base_uri": "https://localhost:8080/"
        },
        "id": "9_QAZO24Yoo7",
        "outputId": "009599c4-4d9b-4746-f20d-2c3071edb881"
      },
      "source": [
        "print(lowest, highest)"
      ],
      "execution_count": 51,
      "outputs": [
        {
          "output_type": "stream",
          "name": "stdout",
          "text": [
            "11.489377395464974 25.58729599163181\n"
          ]
        }
      ]
    },
    {
      "cell_type": "code",
      "metadata": {
        "id": "bQ91FBijYol4"
      },
      "source": [
        "  outlier_index =+ X.loc[ X['qsec'] < lowest ] "
      ],
      "execution_count": 52,
      "outputs": []
    },
    {
      "cell_type": "code",
      "metadata": {
        "id": "eS--AejNS5X9"
      },
      "source": [
        "  outlier_index =+  X.loc[ X['qsec'] > highest ] "
      ],
      "execution_count": 53,
      "outputs": []
    },
    {
      "cell_type": "code",
      "metadata": {
        "colab": {
          "base_uri": "https://localhost:8080/"
        },
        "id": "gV723vtJaG_9",
        "outputId": "e1dcbbaf-24ed-4136-90c2-14d66d0d20c5"
      },
      "source": [
        "print(outlier_index)"
      ],
      "execution_count": 54,
      "outputs": [
        {
          "output_type": "stream",
          "name": "stdout",
          "text": [
            "    cyl disp   hp  drat     wt    qsec vs    am gear carb\n",
            "24  7.6  400  175  3.08  3.845  42.245  0  auto    3    2\n"
          ]
        }
      ]
    },
    {
      "cell_type": "code",
      "metadata": {
        "id": "lMo6SvHi-pzf",
        "colab": {
          "base_uri": "https://localhost:8080/"
        },
        "outputId": "0b86568b-657b-4aa0-dfe2-b2ef05f431d0"
      },
      "source": [
        "from sklearn.preprocessing import StandardScaler  ##Scaler!!! r 꼭 붙이기\n",
        "temp = X[['qsec']]\n",
        "scaler = StandardScaler()  #StandardScaler()함수 호출하여 scaler 객체 생성\n",
        "#fit_transform() 함수에 temp 변수 전달하여 표준 크기 변환 수행\n",
        "qsec_s_scaler = pd.DataFrame(scaler.fit_transform(temp)) \n",
        "print(qsec_s_scaler.describe())"
      ],
      "execution_count": 55,
      "outputs": [
        {
          "output_type": "stream",
          "name": "stdout",
          "text": [
            "                  0\n",
            "count  3.200000e+01\n",
            "mean  -2.010111e-16\n",
            "std    1.016001e+00\n",
            "min   -8.049941e-01\n",
            "25%   -3.698869e-01\n",
            "50%   -1.790883e-01\n",
            "75%    1.090013e-01\n",
            "max    5.125436e+00\n"
          ]
        }
      ]
    },
    {
      "cell_type": "code",
      "metadata": {
        "id": "DoHlY0cBc3VO"
      },
      "source": [
        "from sklearn.preprocessing import MinMaxScaler"
      ],
      "execution_count": 56,
      "outputs": []
    },
    {
      "cell_type": "code",
      "metadata": {
        "id": "fE8PWaA8c3Pa"
      },
      "source": [
        "scaler = MinMaxScaler()"
      ],
      "execution_count": 57,
      "outputs": []
    },
    {
      "cell_type": "code",
      "metadata": {
        "id": "TziELgFJGJOY"
      },
      "source": [
        "temp = X[['qsec']]"
      ],
      "execution_count": 58,
      "outputs": []
    },
    {
      "cell_type": "code",
      "metadata": {
        "id": "aFqnYCKcc3GD"
      },
      "source": [
        "min_max_scaler = pd.DataFrame(scaler.fit_transform(temp))"
      ],
      "execution_count": 59,
      "outputs": []
    },
    {
      "cell_type": "code",
      "metadata": {
        "colab": {
          "base_uri": "https://localhost:8080/"
        },
        "id": "8SvZyKfPGY1I",
        "outputId": "db36e4f6-ebc9-42fa-b56f-e2593c18d85b"
      },
      "source": [
        "print(min_max_scaler.describe())"
      ],
      "execution_count": 60,
      "outputs": [
        {
          "output_type": "stream",
          "name": "stdout",
          "text": [
            "               0\n",
            "count  32.000000\n",
            "mean    0.135740\n",
            "std     0.171320\n",
            "min     0.000000\n",
            "25%     0.073369\n",
            "50%     0.105541\n",
            "75%     0.154120\n",
            "max     1.000000\n"
          ]
        }
      ]
    },
    {
      "cell_type": "code",
      "metadata": {
        "id": "EzRtb-w5GYyR"
      },
      "source": [
        "from sklearn.preprocessing import RobustScaler"
      ],
      "execution_count": 61,
      "outputs": []
    },
    {
      "cell_type": "code",
      "metadata": {
        "id": "rMQde_PYGYtm"
      },
      "source": [
        "scaler = RobustScaler()"
      ],
      "execution_count": 62,
      "outputs": []
    },
    {
      "cell_type": "code",
      "metadata": {
        "id": "W4QYJ7OOGYp-"
      },
      "source": [
        "s_scale = pd.DataFrame(scaler.fit_transform(temp))"
      ],
      "execution_count": 63,
      "outputs": []
    },
    {
      "cell_type": "code",
      "metadata": {
        "colab": {
          "base_uri": "https://localhost:8080/"
        },
        "id": "V7P5lNAwHtAB",
        "outputId": "31241db8-1389-4546-b064-1a8743833a46"
      },
      "source": [
        "print(s_scale.describe())"
      ],
      "execution_count": 64,
      "outputs": [
        {
          "output_type": "stream",
          "name": "stdout",
          "text": [
            "               0\n",
            "count  32.000000\n",
            "mean    0.373967\n",
            "std     2.121583\n",
            "min    -1.306998\n",
            "25%    -0.398420\n",
            "50%     0.000000\n",
            "75%     0.601580\n",
            "max    11.076749\n"
          ]
        }
      ]
    },
    {
      "cell_type": "code",
      "metadata": {
        "colab": {
          "base_uri": "https://localhost:8080/"
        },
        "id": "1rEknbiNHs96",
        "outputId": "f18c83a2-4e74-4564-b8e9-dca3be31e402"
      },
      "source": [
        "print(X.info())"
      ],
      "execution_count": 65,
      "outputs": [
        {
          "output_type": "stream",
          "name": "stdout",
          "text": [
            "<class 'pandas.core.frame.DataFrame'>\n",
            "RangeIndex: 32 entries, 0 to 31\n",
            "Data columns (total 10 columns):\n",
            " #   Column  Non-Null Count  Dtype  \n",
            "---  ------  --------------  -----  \n",
            " 0   cyl     32 non-null     float64\n",
            " 1   disp    32 non-null     float64\n",
            " 2   hp      32 non-null     float64\n",
            " 3   drat    32 non-null     float64\n",
            " 4   wt      32 non-null     float64\n",
            " 5   qsec    32 non-null     float64\n",
            " 6   vs      32 non-null     int64  \n",
            " 7   am      32 non-null     object \n",
            " 8   gear    32 non-null     object \n",
            " 9   carb    32 non-null     float64\n",
            "dtypes: float64(7), int64(1), object(2)\n",
            "memory usage: 2.6+ KB\n",
            "None\n"
          ]
        }
      ]
    },
    {
      "cell_type": "code",
      "metadata": {
        "id": "8EaMmMSAHs8H"
      },
      "source": [
        "X['gear'] = X['gear'].astype('int64') "
      ],
      "execution_count": 66,
      "outputs": []
    },
    {
      "cell_type": "code",
      "metadata": {
        "colab": {
          "base_uri": "https://localhost:8080/"
        },
        "id": "5lythCA-Hs15",
        "outputId": "d95505fc-a27b-4b8d-bdaf-b6df60e4cec0"
      },
      "source": [
        "X['gear'].dtype"
      ],
      "execution_count": 67,
      "outputs": [
        {
          "output_type": "execute_result",
          "data": {
            "text/plain": [
              "dtype('int64')"
            ]
          },
          "metadata": {},
          "execution_count": 67
        }
      ]
    },
    {
      "cell_type": "code",
      "metadata": {
        "colab": {
          "base_uri": "https://localhost:8080/"
        },
        "id": "PShmNHgbLhRX",
        "outputId": "a9bc6598-756f-4e14-9451-32d7ab265fcb"
      },
      "source": [
        "print(X['am'].unique())"
      ],
      "execution_count": 68,
      "outputs": [
        {
          "output_type": "stream",
          "name": "stdout",
          "text": [
            "['manual' 'auto']\n"
          ]
        }
      ]
    },
    {
      "cell_type": "code",
      "metadata": {
        "colab": {
          "base_uri": "https://localhost:8080/"
        },
        "id": "0zgXua9iLhMt",
        "outputId": "294f808d-846c-479b-b2ac-63541620354a"
      },
      "source": [
        "print(pd.get_dummies(X['am']))"
      ],
      "execution_count": 69,
      "outputs": [
        {
          "output_type": "stream",
          "name": "stdout",
          "text": [
            "    auto  manual\n",
            "0      0       1\n",
            "1      0       1\n",
            "2      0       1\n",
            "3      1       0\n",
            "4      1       0\n",
            "5      1       0\n",
            "6      1       0\n",
            "7      1       0\n",
            "8      1       0\n",
            "9      1       0\n",
            "10     1       0\n",
            "11     1       0\n",
            "12     1       0\n",
            "13     1       0\n",
            "14     1       0\n",
            "15     1       0\n",
            "16     1       0\n",
            "17     0       1\n",
            "18     0       1\n",
            "19     0       1\n",
            "20     1       0\n",
            "21     1       0\n",
            "22     1       0\n",
            "23     1       0\n",
            "24     1       0\n",
            "25     0       1\n",
            "26     0       1\n",
            "27     0       1\n",
            "28     0       1\n",
            "29     0       1\n",
            "30     0       1\n",
            "31     0       1\n"
          ]
        }
      ]
    },
    {
      "cell_type": "code",
      "metadata": {
        "colab": {
          "base_uri": "https://localhost:8080/"
        },
        "id": "8Q8612wgLhJK",
        "outputId": "88888ad4-bac2-4c05-dee8-a2feaae6a4da"
      },
      "source": [
        "print(pd.get_dummies(X['am'],drop_first = True ))"
      ],
      "execution_count": 70,
      "outputs": [
        {
          "output_type": "stream",
          "name": "stdout",
          "text": [
            "    manual\n",
            "0        1\n",
            "1        1\n",
            "2        1\n",
            "3        0\n",
            "4        0\n",
            "5        0\n",
            "6        0\n",
            "7        0\n",
            "8        0\n",
            "9        0\n",
            "10       0\n",
            "11       0\n",
            "12       0\n",
            "13       0\n",
            "14       0\n",
            "15       0\n",
            "16       0\n",
            "17       1\n",
            "18       1\n",
            "19       1\n",
            "20       0\n",
            "21       0\n",
            "22       0\n",
            "23       0\n",
            "24       0\n",
            "25       1\n",
            "26       1\n",
            "27       1\n",
            "28       1\n",
            "29       1\n",
            "30       1\n",
            "31       1\n"
          ]
        }
      ]
    },
    {
      "cell_type": "code",
      "metadata": {
        "colab": {
          "base_uri": "https://localhost:8080/"
        },
        "id": "t3BNqmq7LhBI",
        "outputId": "fe5ec95a-bd16-4e39-edbc-44984b6c33da"
      },
      "source": [
        "print(X['am'].head())\n",
        "from sklearn.preprocessing import LabelEncoder\n",
        "encoder = LabelEncoder()"
      ],
      "execution_count": 71,
      "outputs": [
        {
          "output_type": "stream",
          "name": "stdout",
          "text": [
            "0    manual\n",
            "1    manual\n",
            "2    manual\n",
            "3      auto\n",
            "4      auto\n",
            "Name: am, dtype: object\n"
          ]
        }
      ]
    },
    {
      "cell_type": "code",
      "metadata": {
        "colab": {
          "base_uri": "https://localhost:8080/"
        },
        "id": "RGZA-W9SLg-e",
        "outputId": "730fccd9-74ae-46ba-b1a4-206cca72cf15"
      },
      "source": [
        "print(encoder.fit_transform(X['am']))"
      ],
      "execution_count": 72,
      "outputs": [
        {
          "output_type": "stream",
          "name": "stdout",
          "text": [
            "[1 1 1 0 0 0 0 0 0 0 0 0 0 0 0 0 0 1 1 1 0 0 0 0 0 1 1 1 1 1 1 1]\n"
          ]
        }
      ]
    },
    {
      "cell_type": "code",
      "metadata": {
        "colab": {
          "base_uri": "https://localhost:8080/"
        },
        "id": "5IHG-5trLg7n",
        "outputId": "42cdb2d8-29e5-4885-bb69-389e847eba62"
      },
      "source": [
        "fruit = ['apple', 'banana', 'grape']\n",
        "fruit_en = encoder.fit_transform(fruit)\n",
        "print(fruit, fruit_en)"
      ],
      "execution_count": 73,
      "outputs": [
        {
          "output_type": "stream",
          "name": "stdout",
          "text": [
            "['apple', 'banana', 'grape'] [0 1 2]\n"
          ]
        }
      ]
    },
    {
      "cell_type": "code",
      "metadata": {
        "id": "Pggs4wdNkpC3"
      },
      "source": [
        "X['am_new'] = X['am'].replace('manual', 0).replace('auto', 1)"
      ],
      "execution_count": 74,
      "outputs": []
    },
    {
      "cell_type": "code",
      "metadata": {
        "colab": {
          "base_uri": "https://localhost:8080/"
        },
        "id": "rKVBIe6Dko5J",
        "outputId": "72eafb8f-405a-4455-8997-beac98fe90ae"
      },
      "source": [
        "print(X.head())"
      ],
      "execution_count": 75,
      "outputs": [
        {
          "output_type": "stream",
          "name": "stdout",
          "text": [
            "   cyl   disp     hp  drat     wt    qsec  vs      am  gear  carb  am_new\n",
            "0  6.0  160.0  110.0  3.90  2.620  16.460   0  manual     4   4.0       0\n",
            "1  6.0  160.0  110.0  3.90  2.875  17.020   0  manual     4   4.0       0\n",
            "2  4.0  108.0   93.0  3.85  2.320  18.610   1  manual     4   1.0       0\n",
            "3  6.0  258.0  110.0  3.08  3.215  14.815   1    auto     3   1.0       1\n",
            "4  8.0  360.0  175.0  3.15  3.440  17.020   0    auto     3   2.0       1\n"
          ]
        }
      ]
    },
    {
      "cell_type": "code",
      "metadata": {
        "id": "jdxY2neHk5bc"
      },
      "source": [
        "X = X.drop(columns = 'am')"
      ],
      "execution_count": 76,
      "outputs": []
    },
    {
      "cell_type": "code",
      "metadata": {
        "id": "3pafxDhmLg5p"
      },
      "source": [
        "condition = X['wt'] < 3.3"
      ],
      "execution_count": 77,
      "outputs": []
    },
    {
      "cell_type": "code",
      "metadata": {
        "id": "d-SOmM_KOn8q"
      },
      "source": [
        "X.loc[condition, 'wt_class'] = 0\n",
        "X.loc[~condition, 'wt_class'] = 1"
      ],
      "execution_count": 78,
      "outputs": []
    },
    {
      "cell_type": "code",
      "metadata": {
        "id": "dAndOkNCOn2w",
        "colab": {
          "base_uri": "https://localhost:8080/",
          "height": 1000
        },
        "outputId": "0a018623-5061-497e-a208-b8c81f966d22"
      },
      "source": [
        "X[ ['wt', 'wt_class']]  #두 개 이상의 열 출력시 [ ] 대괄호로 묶기"
      ],
      "execution_count": 79,
      "outputs": [
        {
          "output_type": "execute_result",
          "data": {
            "text/html": [
              "<div>\n",
              "<style scoped>\n",
              "    .dataframe tbody tr th:only-of-type {\n",
              "        vertical-align: middle;\n",
              "    }\n",
              "\n",
              "    .dataframe tbody tr th {\n",
              "        vertical-align: top;\n",
              "    }\n",
              "\n",
              "    .dataframe thead th {\n",
              "        text-align: right;\n",
              "    }\n",
              "</style>\n",
              "<table border=\"1\" class=\"dataframe\">\n",
              "  <thead>\n",
              "    <tr style=\"text-align: right;\">\n",
              "      <th></th>\n",
              "      <th>wt</th>\n",
              "      <th>wt_class</th>\n",
              "    </tr>\n",
              "  </thead>\n",
              "  <tbody>\n",
              "    <tr>\n",
              "      <th>0</th>\n",
              "      <td>2.620</td>\n",
              "      <td>0.0</td>\n",
              "    </tr>\n",
              "    <tr>\n",
              "      <th>1</th>\n",
              "      <td>2.875</td>\n",
              "      <td>0.0</td>\n",
              "    </tr>\n",
              "    <tr>\n",
              "      <th>2</th>\n",
              "      <td>2.320</td>\n",
              "      <td>0.0</td>\n",
              "    </tr>\n",
              "    <tr>\n",
              "      <th>3</th>\n",
              "      <td>3.215</td>\n",
              "      <td>0.0</td>\n",
              "    </tr>\n",
              "    <tr>\n",
              "      <th>4</th>\n",
              "      <td>3.440</td>\n",
              "      <td>1.0</td>\n",
              "    </tr>\n",
              "    <tr>\n",
              "      <th>5</th>\n",
              "      <td>3.460</td>\n",
              "      <td>1.0</td>\n",
              "    </tr>\n",
              "    <tr>\n",
              "      <th>6</th>\n",
              "      <td>3.570</td>\n",
              "      <td>1.0</td>\n",
              "    </tr>\n",
              "    <tr>\n",
              "      <th>7</th>\n",
              "      <td>3.190</td>\n",
              "      <td>0.0</td>\n",
              "    </tr>\n",
              "    <tr>\n",
              "      <th>8</th>\n",
              "      <td>3.150</td>\n",
              "      <td>0.0</td>\n",
              "    </tr>\n",
              "    <tr>\n",
              "      <th>9</th>\n",
              "      <td>3.440</td>\n",
              "      <td>1.0</td>\n",
              "    </tr>\n",
              "    <tr>\n",
              "      <th>10</th>\n",
              "      <td>3.440</td>\n",
              "      <td>1.0</td>\n",
              "    </tr>\n",
              "    <tr>\n",
              "      <th>11</th>\n",
              "      <td>4.070</td>\n",
              "      <td>1.0</td>\n",
              "    </tr>\n",
              "    <tr>\n",
              "      <th>12</th>\n",
              "      <td>3.730</td>\n",
              "      <td>1.0</td>\n",
              "    </tr>\n",
              "    <tr>\n",
              "      <th>13</th>\n",
              "      <td>3.780</td>\n",
              "      <td>1.0</td>\n",
              "    </tr>\n",
              "    <tr>\n",
              "      <th>14</th>\n",
              "      <td>5.250</td>\n",
              "      <td>1.0</td>\n",
              "    </tr>\n",
              "    <tr>\n",
              "      <th>15</th>\n",
              "      <td>5.424</td>\n",
              "      <td>1.0</td>\n",
              "    </tr>\n",
              "    <tr>\n",
              "      <th>16</th>\n",
              "      <td>5.345</td>\n",
              "      <td>1.0</td>\n",
              "    </tr>\n",
              "    <tr>\n",
              "      <th>17</th>\n",
              "      <td>2.200</td>\n",
              "      <td>0.0</td>\n",
              "    </tr>\n",
              "    <tr>\n",
              "      <th>18</th>\n",
              "      <td>1.615</td>\n",
              "      <td>0.0</td>\n",
              "    </tr>\n",
              "    <tr>\n",
              "      <th>19</th>\n",
              "      <td>1.835</td>\n",
              "      <td>0.0</td>\n",
              "    </tr>\n",
              "    <tr>\n",
              "      <th>20</th>\n",
              "      <td>2.465</td>\n",
              "      <td>0.0</td>\n",
              "    </tr>\n",
              "    <tr>\n",
              "      <th>21</th>\n",
              "      <td>3.520</td>\n",
              "      <td>1.0</td>\n",
              "    </tr>\n",
              "    <tr>\n",
              "      <th>22</th>\n",
              "      <td>3.435</td>\n",
              "      <td>1.0</td>\n",
              "    </tr>\n",
              "    <tr>\n",
              "      <th>23</th>\n",
              "      <td>3.840</td>\n",
              "      <td>1.0</td>\n",
              "    </tr>\n",
              "    <tr>\n",
              "      <th>24</th>\n",
              "      <td>3.845</td>\n",
              "      <td>1.0</td>\n",
              "    </tr>\n",
              "    <tr>\n",
              "      <th>25</th>\n",
              "      <td>1.935</td>\n",
              "      <td>0.0</td>\n",
              "    </tr>\n",
              "    <tr>\n",
              "      <th>26</th>\n",
              "      <td>2.140</td>\n",
              "      <td>0.0</td>\n",
              "    </tr>\n",
              "    <tr>\n",
              "      <th>27</th>\n",
              "      <td>1.513</td>\n",
              "      <td>0.0</td>\n",
              "    </tr>\n",
              "    <tr>\n",
              "      <th>28</th>\n",
              "      <td>3.170</td>\n",
              "      <td>0.0</td>\n",
              "    </tr>\n",
              "    <tr>\n",
              "      <th>29</th>\n",
              "      <td>2.770</td>\n",
              "      <td>0.0</td>\n",
              "    </tr>\n",
              "    <tr>\n",
              "      <th>30</th>\n",
              "      <td>3.570</td>\n",
              "      <td>1.0</td>\n",
              "    </tr>\n",
              "    <tr>\n",
              "      <th>31</th>\n",
              "      <td>2.780</td>\n",
              "      <td>0.0</td>\n",
              "    </tr>\n",
              "  </tbody>\n",
              "</table>\n",
              "</div>"
            ],
            "text/plain": [
              "       wt  wt_class\n",
              "0   2.620       0.0\n",
              "1   2.875       0.0\n",
              "2   2.320       0.0\n",
              "3   3.215       0.0\n",
              "4   3.440       1.0\n",
              "5   3.460       1.0\n",
              "6   3.570       1.0\n",
              "7   3.190       0.0\n",
              "8   3.150       0.0\n",
              "9   3.440       1.0\n",
              "10  3.440       1.0\n",
              "11  4.070       1.0\n",
              "12  3.730       1.0\n",
              "13  3.780       1.0\n",
              "14  5.250       1.0\n",
              "15  5.424       1.0\n",
              "16  5.345       1.0\n",
              "17  2.200       0.0\n",
              "18  1.615       0.0\n",
              "19  1.835       0.0\n",
              "20  2.465       0.0\n",
              "21  3.520       1.0\n",
              "22  3.435       1.0\n",
              "23  3.840       1.0\n",
              "24  3.845       1.0\n",
              "25  1.935       0.0\n",
              "26  2.140       0.0\n",
              "27  1.513       0.0\n",
              "28  3.170       0.0\n",
              "29  2.770       0.0\n",
              "30  3.570       1.0\n",
              "31  2.780       0.0"
            ]
          },
          "metadata": {},
          "execution_count": 79
        }
      ]
    },
    {
      "cell_type": "code",
      "metadata": {
        "id": "yMH_eBG3Onz3"
      },
      "source": [
        "X = X.drop(columns = 'wt' )"
      ],
      "execution_count": 80,
      "outputs": []
    },
    {
      "cell_type": "code",
      "metadata": {
        "colab": {
          "base_uri": "https://localhost:8080/"
        },
        "id": "htxIf3w3OnxC",
        "outputId": "a71b5973-c440-4789-bbe0-281b636d2342"
      },
      "source": [
        "print(X.head())"
      ],
      "execution_count": 81,
      "outputs": [
        {
          "output_type": "stream",
          "name": "stdout",
          "text": [
            "   cyl   disp     hp  drat    qsec  vs  gear  carb  am_new  wt_class\n",
            "0  6.0  160.0  110.0  3.90  16.460   0     4   4.0       0       0.0\n",
            "1  6.0  160.0  110.0  3.90  17.020   0     4   4.0       0       0.0\n",
            "2  4.0  108.0   93.0  3.85  18.610   1     4   1.0       0       0.0\n",
            "3  6.0  258.0  110.0  3.08  14.815   1     3   1.0       1       0.0\n",
            "4  8.0  360.0  175.0  3.15  17.020   0     3   2.0       1       1.0\n"
          ]
        }
      ]
    },
    {
      "cell_type": "code",
      "metadata": {
        "id": "PjUWUBXQSmIG"
      },
      "source": [
        "from sklearn.model_selection import train_test_split"
      ],
      "execution_count": 82,
      "outputs": []
    },
    {
      "cell_type": "code",
      "metadata": {
        "id": "xpJ6d5piSmEz"
      },
      "source": [
        "x_train, x_test, y_train, y_test = train_test_split(X, Y, test_size = 0.3, random_state = 10)"
      ],
      "execution_count": 83,
      "outputs": []
    },
    {
      "cell_type": "code",
      "metadata": {
        "colab": {
          "base_uri": "https://localhost:8080/"
        },
        "id": "6NNqkYx8SmAo",
        "outputId": "94c25334-4765-4486-8266-0c8060ac154b"
      },
      "source": [
        "print(x_train.head())"
      ],
      "execution_count": 84,
      "outputs": [
        {
          "output_type": "stream",
          "name": "stdout",
          "text": [
            "     cyl   disp     hp  drat   qsec  vs  gear  carb  am_new  wt_class\n",
            "19   4.0   71.1   65.0  4.22  19.90   1     4   1.0       0       0.0\n",
            "14  14.0  472.0  205.0  2.93  17.98   0     3   4.0       1       1.0\n",
            "18   4.0   75.7   52.0  4.93  18.52   1     4   2.0       0       0.0\n",
            "6    8.0  360.0  245.0  3.21  15.84   0     3   4.0       1       1.0\n",
            "11   8.0  275.8  180.0  3.07  17.40   0     3   3.0       1       1.0\n"
          ]
        }
      ]
    },
    {
      "cell_type": "code",
      "metadata": {
        "colab": {
          "base_uri": "https://localhost:8080/"
        },
        "id": "TQWnJb80Slx8",
        "outputId": "0430d19e-57e2-46c3-eede-e5d3daf16bab"
      },
      "source": [
        "print(y_train.head())"
      ],
      "execution_count": 85,
      "outputs": [
        {
          "output_type": "stream",
          "name": "stdout",
          "text": [
            "19    33.9\n",
            "14    10.4\n",
            "18    30.4\n",
            "6     14.3\n",
            "11    16.4\n",
            "Name: mpg, dtype: float64\n"
          ]
        }
      ]
    },
    {
      "cell_type": "code",
      "metadata": {
        "id": "cpPiyi7HSlvB"
      },
      "source": [
        "from sklearn.linear_model import LinearRegression\n",
        "model = LinearRegression()"
      ],
      "execution_count": 86,
      "outputs": []
    },
    {
      "cell_type": "code",
      "metadata": {
        "colab": {
          "base_uri": "https://localhost:8080/"
        },
        "id": "xHv4AcEySlsu",
        "outputId": "55c93862-3923-4ee3-e7d0-d255e2247064"
      },
      "source": [
        "model.fit(x_train, y_train)"
      ],
      "execution_count": 87,
      "outputs": [
        {
          "output_type": "execute_result",
          "data": {
            "text/plain": [
              "LinearRegression()"
            ]
          },
          "metadata": {},
          "execution_count": 87
        }
      ]
    },
    {
      "cell_type": "code",
      "metadata": {
        "id": "WQ_yWy_JSlqg"
      },
      "source": [
        "y_train_predicted = model.predict(x_train)"
      ],
      "execution_count": 88,
      "outputs": []
    },
    {
      "cell_type": "code",
      "metadata": {
        "id": "YDJ-qRJOSlog"
      },
      "source": [
        "y_test_predicted = model.predict(x_test)"
      ],
      "execution_count": 89,
      "outputs": []
    },
    {
      "cell_type": "code",
      "metadata": {
        "id": "8PDPuNpYSli7",
        "colab": {
          "base_uri": "https://localhost:8080/"
        },
        "outputId": "f8e367aa-8947-4986-9ae7-bc64d5c8d343"
      },
      "source": [
        "print(model.intercept_) #y절편 값"
      ],
      "execution_count": 90,
      "outputs": [
        {
          "output_type": "stream",
          "name": "stdout",
          "text": [
            "24.465757362844762\n"
          ]
        }
      ]
    },
    {
      "cell_type": "code",
      "metadata": {
        "id": "j_cWAAqASldW",
        "colab": {
          "base_uri": "https://localhost:8080/"
        },
        "outputId": "c5fb65d1-f7b5-4ca9-f16d-86891cc5a732"
      },
      "source": [
        "print(model.coef_ ) #회귀게수 값"
      ],
      "execution_count": 91,
      "outputs": [
        {
          "output_type": "stream",
          "name": "stdout",
          "text": [
            "[-0.14227967 -0.01201885 -0.00394577  0.95357399  0.09050247  1.10396898\n",
            "  0.6543528  -1.99665825 -3.58134895 -0.05433545]\n"
          ]
        }
      ]
    },
    {
      "cell_type": "code",
      "metadata": {
        "id": "Ka8kMJH6SlTK",
        "colab": {
          "base_uri": "https://localhost:8080/"
        },
        "outputId": "7a790351-dbc9-4a09-a6c4-8635a6d655c2"
      },
      "source": [
        "print(model.score(x_train, y_train)) #학습데이터에 대한 결정계수"
      ],
      "execution_count": 92,
      "outputs": [
        {
          "output_type": "stream",
          "name": "stdout",
          "text": [
            "0.905890993167077\n"
          ]
        }
      ]
    },
    {
      "cell_type": "code",
      "metadata": {
        "id": "4cDsnUJfnYYl",
        "colab": {
          "base_uri": "https://localhost:8080/"
        },
        "outputId": "f516b1d6-6dd2-4faf-a00c-44eb94f73142"
      },
      "source": [
        "print(model.score(x_test, y_test)) #테스트데이터에 대한 결정계수"
      ],
      "execution_count": 95,
      "outputs": [
        {
          "output_type": "stream",
          "name": "stdout",
          "text": [
            "0.09995641878914518\n"
          ]
        }
      ]
    },
    {
      "cell_type": "code",
      "metadata": {
        "id": "HU-iwXaknYWT"
      },
      "source": [
        "from sklearn.metrics import r2_score  #결정계수\n",
        "from sklearn.metrics import mean_absolute_error  #MAE\n",
        "from sklearn.metrics import mean_squared_error   #MSE  squared!!! \"ed\"\n",
        "import numpy as np"
      ],
      "execution_count": 101,
      "outputs": []
    },
    {
      "cell_type": "code",
      "metadata": {
        "colab": {
          "base_uri": "https://localhost:8080/"
        },
        "id": "TPU3SS0yUU65",
        "outputId": "f8172518-95dc-4cd1-9dda-4877d20808a5"
      },
      "source": [
        "print(r2_score(y_train, y_train_predicted)) #학습데이터의 실제값과 예측값 -> R^2"
      ],
      "execution_count": 98,
      "outputs": [
        {
          "output_type": "stream",
          "name": "stdout",
          "text": [
            "0.905890993167077\n"
          ]
        }
      ]
    },
    {
      "cell_type": "code",
      "metadata": {
        "colab": {
          "base_uri": "https://localhost:8080/"
        },
        "id": "oPiECyGEUUvn",
        "outputId": "1663c6be-d581-49bf-d075-dc0ec60e1027"
      },
      "source": [
        "print(r2_score(y_test, y_test_predicted))  #테스트데이터의 실제값과 예측값 -> R^2"
      ],
      "execution_count": 99,
      "outputs": [
        {
          "output_type": "stream",
          "name": "stdout",
          "text": [
            "0.09995641878914518\n"
          ]
        }
      ]
    },
    {
      "cell_type": "code",
      "metadata": {
        "colab": {
          "base_uri": "https://localhost:8080/"
        },
        "id": "j6bY1zfkUUtZ",
        "outputId": "72c05270-b9bb-48ff-e2b5-bb6b3e549ef7"
      },
      "source": [
        "print(mean_absolute_error(y_test, y_test_predicted))\n",
        "print(mean_squared_error(y_test, y_test_predicted))\n",
        "print(np.sqrt(mean_squared_error(y_test, y_test_predicted)))"
      ],
      "execution_count": 102,
      "outputs": [
        {
          "output_type": "stream",
          "name": "stdout",
          "text": [
            "2.329735541161217\n",
            "8.94103293574863\n",
            "2.990156005252674\n"
          ]
        }
      ]
    },
    {
      "cell_type": "code",
      "metadata": {
        "id": "8yQcIriEUUqL"
      },
      "source": [
        "from sklearn.ensemble import RandomForestRegressor\n",
        "model = RandomForestRegressor(random_state = 10)"
      ],
      "execution_count": 104,
      "outputs": []
    },
    {
      "cell_type": "code",
      "metadata": {
        "colab": {
          "base_uri": "https://localhost:8080/"
        },
        "id": "myjwbWnvXWiM",
        "outputId": "cd641117-8613-499a-fc94-59eb8f67a255"
      },
      "source": [
        "model.fit(x_train, y_train)\n",
        "y_train_predicted = model.predict(x_train)\n",
        "y_test_predicted = model.predict(x_test)"
      ],
      "execution_count": 109,
      "outputs": [
        {
          "output_type": "stream",
          "name": "stderr",
          "text": [
            "/usr/local/lib/python3.7/dist-packages/sklearn/ensemble/_forest.py:399: FutureWarning: Criterion 'mae' was deprecated in v1.0 and will be removed in version 1.2. Use `criterion='absolute_error'` which is equivalent.\n",
            "  FutureWarning,\n"
          ]
        }
      ]
    },
    {
      "cell_type": "code",
      "metadata": {
        "colab": {
          "base_uri": "https://localhost:8080/"
        },
        "id": "Foga-kSVXWfN",
        "outputId": "77ff13d0-5e34-4ac0-d77a-4c4db6009228"
      },
      "source": [
        "from sklearn.metrics import r2_score, mean_absolute_error, mean_squared_error\n",
        "print(r2_score(y_train, y_train_predicted))\n",
        "print(r2_score(y_test, y_test_predicted))\n",
        "print(mean_absolute_error(y_test, y_test_predicted))\n",
        "print(mean_squared_error(y_test, y_test_predicted))"
      ],
      "execution_count": 110,
      "outputs": [
        {
          "output_type": "stream",
          "name": "stdout",
          "text": [
            "0.980110693462169\n",
            "0.4554251067042411\n",
            "1.7274400000000134\n",
            "5.409806990000068\n"
          ]
        }
      ]
    },
    {
      "cell_type": "code",
      "metadata": {
        "id": "umC6FfRtXWb7"
      },
      "source": [
        "model = RandomForestRegressor(n_estimators = 1000, criterion = 'mae', random_state=10)"
      ],
      "execution_count": 108,
      "outputs": []
    },
    {
      "cell_type": "code",
      "metadata": {
        "id": "0UIghc_5XWW8"
      },
      "source": [
        "from sklearn.ensemble import GradientBoostingRegressor\n",
        "model = GradientBoostingRegressor(random_state = 10)\n",
        "model.fit(x_train, y_train)\n",
        "y_train_predicted = model.predict(x_train)\n",
        "y_test_predicted = model.predict(x_test)"
      ],
      "execution_count": 115,
      "outputs": []
    },
    {
      "cell_type": "code",
      "metadata": {
        "colab": {
          "base_uri": "https://localhost:8080/"
        },
        "id": "V1sfUCNMXWU_",
        "outputId": "14d7e8d3-a012-4fac-db41-944bd7348c35"
      },
      "source": [
        "from sklearn.metrics import r2_score, mean_absolute_error, mean_squared_error\n",
        "print(r2_score(y_train, y_train_predicted))\n",
        "print(r2_score(y_test, y_test_predicted))"
      ],
      "execution_count": 116,
      "outputs": [
        {
          "output_type": "stream",
          "name": "stdout",
          "text": [
            "0.9999902306679717\n",
            "0.05940396008643711\n"
          ]
        }
      ]
    },
    {
      "cell_type": "code",
      "metadata": {
        "colab": {
          "base_uri": "https://localhost:8080/"
        },
        "id": "4QR-lQFHXWTa",
        "outputId": "454351ba-996a-4f1e-c3ac-0cef01f88586"
      },
      "source": [
        "print(mean_absolute_error(y_test, y_test_predicted))\n",
        "print(mean_squared_error(y_test, y_test_predicted))"
      ],
      "execution_count": 117,
      "outputs": [
        {
          "output_type": "stream",
          "name": "stdout",
          "text": [
            "2.1191938741171388\n",
            "9.343881060501333\n"
          ]
        }
      ]
    },
    {
      "cell_type": "code",
      "metadata": {
        "colab": {
          "base_uri": "https://localhost:8080/"
        },
        "id": "1eI9_i_3XWPS",
        "outputId": "a188405c-d25b-49d5-f5a2-52b53110aa2a"
      },
      "source": [
        "from xgboost import XGBRegressor\n",
        "model = XGBRegressor(random_state = 10)\n",
        "model.fit(x_train, y_train)\n",
        "y_train_predicted = model.predict(x_train)\n",
        "y_test_predicted = model.predict(x_test)"
      ],
      "execution_count": 118,
      "outputs": [
        {
          "output_type": "stream",
          "name": "stdout",
          "text": [
            "[07:06:27] WARNING: /workspace/src/objective/regression_obj.cu:152: reg:linear is now deprecated in favor of reg:squarederror.\n"
          ]
        }
      ]
    },
    {
      "cell_type": "code",
      "metadata": {
        "id": "oeFn8eCCnYTh",
        "colab": {
          "base_uri": "https://localhost:8080/"
        },
        "outputId": "00e31332-c2ef-4315-864c-2178f81e8d04"
      },
      "source": [
        "from sklearn.metrics import r2_score, mean_absolute_error, mean_squared_error\n",
        "print(r2_score(y_train, y_train_predicted))\n",
        "print(r2_score(y_test, y_test_predicted))\n",
        "print(mean_absolute_error(y_test, y_test_predicted))\n",
        "print(mean_squared_error(y_test, y_test_predicted))"
      ],
      "execution_count": 120,
      "outputs": [
        {
          "output_type": "stream",
          "name": "stdout",
          "text": [
            "0.9994285985841564\n",
            "0.4396929565197726\n",
            "1.9754573631286618\n",
            "5.566090169932578\n"
          ]
        }
      ]
    },
    {
      "cell_type": "code",
      "metadata": {
        "id": "rkm8-rlYnYPU"
      },
      "source": [
        "x_train2 = x_train.drop(columns = 'am_new')"
      ],
      "execution_count": 121,
      "outputs": []
    },
    {
      "cell_type": "code",
      "metadata": {
        "colab": {
          "base_uri": "https://localhost:8080/"
        },
        "id": "OMqQ3npwjAX8",
        "outputId": "f0be3368-c2ad-4ab9-c84a-0128b1552d7f"
      },
      "source": [
        "print(y_train.head())"
      ],
      "execution_count": 123,
      "outputs": [
        {
          "output_type": "stream",
          "name": "stdout",
          "text": [
            "19    33.9\n",
            "14    10.4\n",
            "18    30.4\n",
            "6     14.3\n",
            "11    16.4\n",
            "Name: mpg, dtype: float64\n"
          ]
        }
      ]
    },
    {
      "cell_type": "code",
      "metadata": {
        "id": "_7AdsDMaiwmi"
      },
      "source": [
        "y_train2 = x_train['am_new']"
      ],
      "execution_count": 124,
      "outputs": []
    },
    {
      "cell_type": "code",
      "metadata": {
        "id": "pj5K1UqAiwj4"
      },
      "source": [
        "x_test2 = x_test.drop(columns = 'am_new')"
      ],
      "execution_count": 125,
      "outputs": []
    },
    {
      "cell_type": "code",
      "metadata": {
        "id": "LV7jHAxDiwhW"
      },
      "source": [
        "y_test2 = x_test['am_new']"
      ],
      "execution_count": 126,
      "outputs": []
    },
    {
      "cell_type": "code",
      "metadata": {
        "colab": {
          "base_uri": "https://localhost:8080/"
        },
        "id": "9RsgpMhLiwfE",
        "outputId": "608c6cc3-7cfd-4a21-b2c4-08f4d2f656c0"
      },
      "source": [
        "print(x_train2.head())"
      ],
      "execution_count": 127,
      "outputs": [
        {
          "output_type": "stream",
          "name": "stdout",
          "text": [
            "     cyl   disp     hp  drat   qsec  vs  gear  carb  wt_class\n",
            "19   4.0   71.1   65.0  4.22  19.90   1     4   1.0       0.0\n",
            "14  14.0  472.0  205.0  2.93  17.98   0     3   4.0       1.0\n",
            "18   4.0   75.7   52.0  4.93  18.52   1     4   2.0       0.0\n",
            "6    8.0  360.0  245.0  3.21  15.84   0     3   4.0       1.0\n",
            "11   8.0  275.8  180.0  3.07  17.40   0     3   3.0       1.0\n"
          ]
        }
      ]
    },
    {
      "cell_type": "code",
      "metadata": {
        "colab": {
          "base_uri": "https://localhost:8080/"
        },
        "id": "hDV24W33iwcS",
        "outputId": "116ae340-fa52-446b-b03f-5acb24c9fe2a"
      },
      "source": [
        "print(x_test2.head())"
      ],
      "execution_count": 128,
      "outputs": [
        {
          "output_type": "stream",
          "name": "stdout",
          "text": [
            "    cyl   disp     hp  drat    qsec  vs  gear  carb  wt_class\n",
            "20  4.0  120.1   97.0  3.70  20.010   1     3   1.0       0.0\n",
            "7   7.6  146.7   62.0  3.69  20.000   1     4   2.0       0.0\n",
            "5   6.0  225.0  105.0  2.76  20.220   1     3   1.0       1.0\n",
            "2   4.0  108.0   93.0  3.85  18.610   1     4   1.0       0.0\n",
            "3   6.0  258.0  110.0  3.08  14.815   1     3   1.0       0.0\n"
          ]
        }
      ]
    },
    {
      "cell_type": "code",
      "metadata": {
        "id": "l2MH6oY9kDRx"
      },
      "source": [
        "from sklearn.tree import DecisionTreeClassifier\n",
        "model = DecisionTreeClassifier()\n",
        "model.fit(x_train2, y_train2)\n",
        "#y_train2_predict = model.predict(x_train2)\n",
        "y_test2_predict = model.predict(x_test2)"
      ],
      "execution_count": 130,
      "outputs": []
    },
    {
      "cell_type": "code",
      "metadata": {
        "colab": {
          "base_uri": "https://localhost:8080/"
        },
        "id": "rFgHsMFykDOo",
        "outputId": "fe0519fc-3aeb-461e-b3b6-986a49717783"
      },
      "source": [
        "from sklearn.metrics import roc_auc_score, accuracy_score, precision_score, recall_score\n",
        "print(roc_auc_score(y_test2, y_test2_predict))\n",
        "print(accuracy_score(y_test2, y_test2_predict))\n",
        "print(precision_score(y_test2, y_test2_predict))\n",
        "print(recall_score(y_test2, y_test2_predict))"
      ],
      "execution_count": 131,
      "outputs": [
        {
          "output_type": "stream",
          "name": "stdout",
          "text": [
            "0.8571428571428572\n",
            "0.8\n",
            "1.0\n",
            "0.7142857142857143\n"
          ]
        }
      ]
    },
    {
      "cell_type": "code",
      "metadata": {
        "id": "DZYDE5BPkDLn"
      },
      "source": [
        "from sklearn.ensemble import RandomForestClassifier\n",
        "model = RandomForestClassifier()\n",
        "model.fit(x_train2, y_train2)\n",
        "y_test2_predict = model.predict(x_test2)"
      ],
      "execution_count": 132,
      "outputs": []
    },
    {
      "cell_type": "code",
      "metadata": {
        "colab": {
          "base_uri": "https://localhost:8080/"
        },
        "id": "ekErtY4hkDIl",
        "outputId": "052e8667-bb32-489b-af08-d99e3c0e7927"
      },
      "source": [
        "from sklearn.metrics import roc_auc_score, accuracy_score, precision_score, recall_score\n",
        "print(roc_auc_score(y_test2, y_test2_predict))\n",
        "print(accuracy_score(y_test2, y_test2_predict))\n",
        "print(precision_score(y_test2, y_test2_predict))\n",
        "print(recall_score(y_test2, y_test2_predict))"
      ],
      "execution_count": 134,
      "outputs": [
        {
          "output_type": "stream",
          "name": "stdout",
          "text": [
            "0.7857142857142857\n",
            "0.7\n",
            "1.0\n",
            "0.5714285714285714\n"
          ]
        }
      ]
    },
    {
      "cell_type": "code",
      "metadata": {
        "colab": {
          "base_uri": "https://localhost:8080/"
        },
        "id": "WWjgMT0DkDDn",
        "outputId": "a7584175-2860-4218-a1bb-ba40cf984083"
      },
      "source": [
        "from sklearn.linear_model import LogisticRegression\n",
        "model = LogisticRegression()\n",
        "model.fit(x_train2, y_train2)\n",
        "y_test2_predict = model.predict(x_test2)"
      ],
      "execution_count": 136,
      "outputs": [
        {
          "output_type": "stream",
          "name": "stderr",
          "text": [
            "/usr/local/lib/python3.7/dist-packages/sklearn/linear_model/_logistic.py:818: ConvergenceWarning: lbfgs failed to converge (status=1):\n",
            "STOP: TOTAL NO. of ITERATIONS REACHED LIMIT.\n",
            "\n",
            "Increase the number of iterations (max_iter) or scale the data as shown in:\n",
            "    https://scikit-learn.org/stable/modules/preprocessing.html\n",
            "Please also refer to the documentation for alternative solver options:\n",
            "    https://scikit-learn.org/stable/modules/linear_model.html#logistic-regression\n",
            "  extra_warning_msg=_LOGISTIC_SOLVER_CONVERGENCE_MSG,\n"
          ]
        }
      ]
    },
    {
      "cell_type": "code",
      "metadata": {
        "colab": {
          "base_uri": "https://localhost:8080/"
        },
        "id": "WJ18dVOMkDAb",
        "outputId": "345bbf66-5872-407a-8667-ccae5b93c9c3"
      },
      "source": [
        "print(roc_auc_score(y_test2, y_test2_predict))"
      ],
      "execution_count": 137,
      "outputs": [
        {
          "output_type": "stream",
          "name": "stdout",
          "text": [
            "0.7619047619047621\n"
          ]
        }
      ]
    },
    {
      "cell_type": "code",
      "metadata": {
        "colab": {
          "base_uri": "https://localhost:8080/"
        },
        "id": "-zEyCnITkC9H",
        "outputId": "da489e93-ef91-4564-a1ac-988026425050"
      },
      "source": [
        "from xgboost import XGBClassifier\n",
        "model = XGBClassifier()\n",
        "model.fit(x_train2, y_train2)\n",
        "y_test2_predict = model.predict(x_test2)\n",
        "print(y_test2_predict)"
      ],
      "execution_count": 139,
      "outputs": [
        {
          "output_type": "stream",
          "name": "stdout",
          "text": [
            "[0 0 1 0 1 1 1 1 1 0]\n"
          ]
        }
      ]
    },
    {
      "cell_type": "code",
      "metadata": {
        "colab": {
          "base_uri": "https://localhost:8080/"
        },
        "id": "QiNDlhA1kC6k",
        "outputId": "feca5ce7-5113-4b83-9c98-47bf75b70543"
      },
      "source": [
        "y_test2_proba = model.predict_proba(x_test2)\n",
        "print(y_test2_proba)"
      ],
      "execution_count": 140,
      "outputs": [
        {
          "output_type": "stream",
          "name": "stdout",
          "text": [
            "[[0.58977365 0.41022635]\n",
            " [0.63185716 0.3681428 ]\n",
            " [0.03517669 0.9648233 ]\n",
            " [0.8720591  0.12794091]\n",
            " [0.13779056 0.86220944]\n",
            " [0.08792663 0.9120734 ]\n",
            " [0.0393728  0.9606272 ]\n",
            " [0.40353793 0.5964621 ]\n",
            " [0.04754734 0.95245266]\n",
            " [0.8571916  0.1428084 ]]\n"
          ]
        }
      ]
    },
    {
      "cell_type": "code",
      "metadata": {
        "id": "1fG-DoLAkC4C"
      },
      "source": [
        "from sklearn.svm import SVC\n",
        "model = SVC()"
      ],
      "execution_count": 141,
      "outputs": []
    },
    {
      "cell_type": "code",
      "metadata": {
        "id": "3uaNW59miwZ8"
      },
      "source": [
        "from sklearn.ensemble import BaggingClassifier"
      ],
      "execution_count": null,
      "outputs": []
    },
    {
      "cell_type": "code",
      "metadata": {
        "id": "ZqpSrQTRiwW-"
      },
      "source": [
        "from sklearn.neighbors import KNeighborsClassifier\n",
        "model = KNeighborsClassifier()"
      ],
      "execution_count": 143,
      "outputs": []
    },
    {
      "cell_type": "code",
      "metadata": {
        "id": "y8KcYoDbwo9Q"
      },
      "source": [
        "from sklearn.neural_network import MLPClassifier"
      ],
      "execution_count": 144,
      "outputs": []
    },
    {
      "cell_type": "code",
      "metadata": {
        "colab": {
          "base_uri": "https://localhost:8080/"
        },
        "id": "fK9p0y11xB9K",
        "outputId": "b889c7e5-056b-4ea4-b6e2-b99eca43dfb4"
      },
      "source": [
        "print(type(y_test2_predict))"
      ],
      "execution_count": 145,
      "outputs": [
        {
          "output_type": "stream",
          "name": "stdout",
          "text": [
            "<class 'numpy.ndarray'>\n"
          ]
        }
      ]
    },
    {
      "cell_type": "code",
      "metadata": {
        "id": "rikoHq35ywHk"
      },
      "source": [
        "pd.DataFrame(y_test2_predict).to_csv('sample_data/12345.csv', index = False)"
      ],
      "execution_count": 147,
      "outputs": []
    },
    {
      "cell_type": "code",
      "metadata": {
        "id": "JVKGThW8y6tS"
      },
      "source": [
        ""
      ],
      "execution_count": null,
      "outputs": []
    }
  ]
}