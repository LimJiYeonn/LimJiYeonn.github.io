{
  "nbformat": 4,
  "nbformat_minor": 0,
  "metadata": {
    "colab": {
      "name": "연습_4장.ipynb",
      "provenance": [],
      "authorship_tag": "ABX9TyOJPBzuxUsbphm8CZyoiZv0",
      "include_colab_link": true
    },
    "kernelspec": {
      "name": "python3",
      "display_name": "Python 3"
    },
    "language_info": {
      "name": "python"
    }
  },
  "cells": [
    {
      "cell_type": "markdown",
      "metadata": {
        "id": "view-in-github",
        "colab_type": "text"
      },
      "source": [
        "<a href=\"https://colab.research.google.com/github/LimJiYeonn/LimJiYeonn.github.io/blob/master/%EC%97%B0%EC%8A%B5_4%EC%9E%A5.ipynb\" target=\"_parent\"><img src=\"https://colab.research.google.com/assets/colab-badge.svg\" alt=\"Open In Colab\"/></a>"
      ]
    },
    {
      "cell_type": "code",
      "metadata": {
        "colab": {
          "base_uri": "https://localhost:8080/"
        },
        "id": "PLITqbNlYH05",
        "outputId": "d8de881d-948d-497e-92e7-9a378dd536bd"
      },
      "source": [
        "import pandas as pd\n",
        "data = pd.read_csv('boston.csv')\n",
        "medv_sort = data.sort_values('MEDV', ascending=True)\n",
        "print(medv_sort['MEDV'].iloc[0:10])"
      ],
      "execution_count": 6,
      "outputs": [
        {
          "output_type": "stream",
          "name": "stdout",
          "text": [
            "398    5.0\n",
            "405    5.0\n",
            "400    5.6\n",
            "399    6.3\n",
            "414    7.0\n",
            "489    7.0\n",
            "401    7.2\n",
            "385    7.2\n",
            "415    7.2\n",
            "387    7.4\n",
            "Name: MEDV, dtype: float64\n"
          ]
        }
      ]
    },
    {
      "cell_type": "code",
      "metadata": {
        "colab": {
          "base_uri": "https://localhost:8080/"
        },
        "id": "jt4yGghlZAT_",
        "outputId": "99af2c35-05ac-4151-a405-4b8217a2ce98"
      },
      "source": [
        "import pandas as pd\n",
        "data = pd.read_csv('boston.csv')\n",
        "print(data['RM'].isnull().sum())\n",
        "rm_copy1 = data['RM'].copy()\n",
        "rm_copy2 = data['RM'].copy()\n",
        "rm_m = data['RM'].mean()\n",
        "rm_copy1.fillna(rm_m, inplace=True)\n",
        "rm_copy1.dropna(inplace=True)\n",
        "print(abs(rm_copy1.std() - rm_copy2.std()))"
      ],
      "execution_count": 13,
      "outputs": [
        {
          "output_type": "stream",
          "name": "stdout",
          "text": [
            "15\n",
            "0.010595546094104513\n"
          ]
        }
      ]
    },
    {
      "cell_type": "code",
      "metadata": {
        "colab": {
          "base_uri": "https://localhost:8080/"
        },
        "id": "aUpk6ZH1an51",
        "outputId": "e101776c-7570-4276-eb8d-685e9f56796c"
      },
      "source": [
        "import pandas as pd\n",
        "data = pd.read_csv('boston.csv')\n",
        "m = data['ZN'].mean()\n",
        "s = data['ZN'].std()\n",
        "print(data[(data['ZN'] < m - s*1.5) | (data['ZN'] > m + s*1.5)]['ZN'].sum())"
      ],
      "execution_count": 16,
      "outputs": [
        {
          "output_type": "stream",
          "name": "stdout",
          "text": [
            "3462.5\n"
          ]
        }
      ]
    },
    {
      "cell_type": "code",
      "metadata": {
        "colab": {
          "base_uri": "https://localhost:8080/"
        },
        "id": "SEJqRsK6dQ3P",
        "outputId": "99743303-568d-48c9-9d83-d8ea2e2267e4"
      },
      "source": [
        "import pandas as pd\n",
        "data = pd.read_csv('boston.csv')\n",
        "data_copy = data.copy()\n",
        "data_copy.drop(columns=['CHAS', 'RAD'], inplace=True)\n",
        "data_copy=data_copy.describe().loc[['25%', '75%']].T\n",
        "\n",
        "data_copy['IQR'] = data_copy.iloc[:,1] - data_copy.iloc[:,0]\n",
        "data_copy.drop(columns=['25%', '75%'], inplace=True)\n",
        "print(data_copy)"
      ],
      "execution_count": 25,
      "outputs": [
        {
          "output_type": "stream",
          "name": "stdout",
          "text": [
            "                IQR\n",
            "CRIM       3.595037\n",
            "ZN        12.500000\n",
            "INDUS     12.910000\n",
            "NOX        0.175000\n",
            "RM         0.736000\n",
            "AGE       49.050000\n",
            "DIS        3.088250\n",
            "TAX      387.000000\n",
            "PTRATIO    2.800000\n",
            "B         20.847500\n",
            "LSTAT     10.005000\n",
            "MEDV       7.975000\n"
          ]
        }
      ]
    },
    {
      "cell_type": "code",
      "metadata": {
        "colab": {
          "base_uri": "https://localhost:8080/"
        },
        "id": "_bAsRxJeddrC",
        "outputId": "8e4086e6-35f7-4ac1-f910-3d68c041e5e5"
      },
      "source": [
        "import pandas as pd\n",
        "data = pd.read_csv('boston.csv')\n",
        "data_new = data['MEDV'].sort_values(ascending = False)\n",
        "#print(data['MEDV'].iloc[0:29])\n",
        "data_new.iloc[0:29] = data_new.iloc[30]\n",
        "#print(data['MEDV'].iloc[0:29])\n",
        "print(data_new.mean(), data_new.median(), data_new.min(),data_new.max())"
      ],
      "execution_count": 62,
      "outputs": [
        {
          "output_type": "stream",
          "name": "stdout",
          "text": [
            "22.156719367588924 21.2 5.0 41.7\n"
          ]
        },
        {
          "output_type": "execute_result",
          "data": {
            "text/plain": [
              "pandas.core.series.Series"
            ]
          },
          "metadata": {},
          "execution_count": 62
        }
      ]
    },
    {
      "cell_type": "code",
      "metadata": {
        "colab": {
          "base_uri": "https://localhost:8080/"
        },
        "id": "6XvhIs9jddgs",
        "outputId": "cceb4c9a-3eef-46f1-a3be-9c46ae4c6f42"
      },
      "source": [
        "import pandas as pd\n",
        "data = pd.read_csv('boston.csv')\n",
        "m = data['TAX'].median()\n",
        "data_new = data[data['TAX']>m]\n",
        "\n",
        "result = pd.DataFrame(data_new.groupby(['CHAS','RAD'])['CHAS'].count())\n",
        "result.columns = ['COUNT']\n",
        "print(result)"
      ],
      "execution_count": 60,
      "outputs": [
        {
          "output_type": "stream",
          "name": "stdout",
          "text": [
            "          COUNT\n",
            "CHAS RAD       \n",
            "0    1        3\n",
            "     2        2\n",
            "     3        5\n",
            "     4       33\n",
            "     5       51\n",
            "     6       17\n",
            "     24     124\n",
            "1    5        7\n",
            "     24       8\n"
          ]
        }
      ]
    },
    {
      "cell_type": "code",
      "metadata": {
        "colab": {
          "base_uri": "https://localhost:8080/"
        },
        "id": "mYBU8G8thasV",
        "outputId": "59cde365-9d92-406c-ef1d-7724286a56da"
      },
      "source": [
        "import pandas as pd\n",
        "data = pd.read_csv('boston.csv')\n",
        "data1 = data.copy()\n",
        "data2 = data.copy()\n",
        "data1 = pd.DataFrame(data['TAX'].sort_values(ascending=True))\n",
        "data2 = pd.DataFrame(data['TAX'].sort_values(ascending=False))\n",
        "#print(data1.head(3))\n",
        "#print(data2.head(3))\n",
        "data1.reset_index(drop=True, inplace=True)\n",
        "data2.reset_index(drop=True, inplace=True)\n",
        "#print(data1.head(3))\n",
        "#print(data2.head(3))\n",
        "data3 = pd.concat([data1, data2],axis=1)\n",
        "\n",
        "data3['diff'] = abs(data3.iloc[:,0]-data3.iloc[:,1])\n",
        "print(data3['diff'].var())"
      ],
      "execution_count": 82,
      "outputs": [
        {
          "output_type": "stream",
          "name": "stdout",
          "text": [
            "28490.5986459515\n"
          ]
        }
      ]
    },
    {
      "cell_type": "code",
      "metadata": {
        "colab": {
          "base_uri": "https://localhost:8080/"
        },
        "id": "Mj60uabGkqNg",
        "outputId": "030d88ce-bbb1-442a-d18e-8b8b4efb0c63"
      },
      "source": [
        "import pandas as pd\n",
        "data = pd.read_csv('boston.csv')\n",
        "from sklearn.preprocessing import MinMaxScaler\n",
        "scaler = MinMaxScaler()\n",
        "medv_sc = pd.DataFrame(scaler.fit_transform(data[['MEDV']]))\n",
        "print(medv_sc.describe())\n",
        "print(medv_sc[ medv_sc > 0.5 ].count() )"
      ],
      "execution_count": 93,
      "outputs": [
        {
          "output_type": "stream",
          "name": "stdout",
          "text": [
            "                0\n",
            "count  506.000000\n",
            "mean     0.389618\n",
            "std      0.204380\n",
            "min      0.000000\n",
            "25%      0.267222\n",
            "50%      0.360000\n",
            "75%      0.444444\n",
            "max      1.000000\n",
            "0    106\n",
            "dtype: int64\n"
          ]
        }
      ]
    },
    {
      "cell_type": "code",
      "metadata": {
        "colab": {
          "base_uri": "https://localhost:8080/"
        },
        "id": "cRfd0b3unqD6",
        "outputId": "1b403dad-482e-4e8d-b14e-7d3ab2ae9354"
      },
      "source": [
        "# 위와 같은 결과\n",
        "import pandas as pd\n",
        "data = pd.read_csv('boston.csv')\n",
        "from sklearn.preprocessing import MinMaxScaler\n",
        "scaler = MinMaxScaler()\n",
        "medv_sc = pd.DataFrame(scaler.fit_transform(data),columns=data.columns)\n",
        "print(medv_sc[ medv_sc['MEDV'] > 0.5 ]['MEDV'].count() )"
      ],
      "execution_count": 95,
      "outputs": [
        {
          "output_type": "stream",
          "name": "stdout",
          "text": [
            "106\n"
          ]
        }
      ]
    },
    {
      "cell_type": "code",
      "metadata": {
        "colab": {
          "base_uri": "https://localhost:8080/"
        },
        "id": "OK-T93fzpwJv",
        "outputId": "f6d2f81e-6bb8-48a8-ba08-9e85e6d42203"
      },
      "source": [
        "import pandas as pd\n",
        "data = pd.read_csv('boston.csv')\n",
        "data['AGE_new'] = round(data['AGE'])\n",
        "#print(data['AGE_new'].head(3))\n",
        "from scipy.stats import mode\n",
        "print(int(mode(data['AGE_new'])[0]),int(mode(data['AGE_new'])[1]))"
      ],
      "execution_count": 101,
      "outputs": [
        {
          "output_type": "stream",
          "name": "stdout",
          "text": [
            "100 43\n",
            "<class 'numpy.ndarray'>\n"
          ]
        }
      ]
    },
    {
      "cell_type": "code",
      "metadata": {
        "colab": {
          "base_uri": "https://localhost:8080/"
        },
        "id": "GjjNyfnKxbEa",
        "outputId": "7ae6e606-9a19-4b78-c8f8-1b1b3c487b4e"
      },
      "source": [
        "import pandas as pd\n",
        "data = pd.read_csv('boston.csv')\n",
        "from sklearn.preprocessing import StandardScaler\n",
        "scaler = StandardScaler()\n",
        "sc = pd.DataFrame(scaler.fit_transform(data),columns=data.columns)\n",
        "print(round(sc[ (sc['DIS'] > 0.4) & (sc['DIS'] < 0.6)]['DIS'].mean(),2))"
      ],
      "execution_count": 102,
      "outputs": [
        {
          "output_type": "stream",
          "name": "stdout",
          "text": [
            "0.48\n"
          ]
        }
      ]
    },
    {
      "cell_type": "code",
      "metadata": {
        "colab": {
          "base_uri": "https://localhost:8080/"
        },
        "id": "8YwK_ZHay7DH",
        "outputId": "9e45fa6f-0a17-40b5-cf64-6d865c72ade3"
      },
      "source": [
        "import pandas as pd\n",
        "data = pd.read_csv('boston.csv')\n",
        "print(data.columns)\n",
        "print(int(pd.DataFrame(data['CRIM'].unique()).count()))\n",
        "print(type(data['CRIM'].unique()))\n",
        "print(data.shape[1])"
      ],
      "execution_count": 121,
      "outputs": [
        {
          "output_type": "stream",
          "name": "stdout",
          "text": [
            "Index(['CRIM', 'ZN', 'INDUS', 'CHAS', 'NOX', 'RM', 'AGE', 'DIS', 'RAD', 'TAX',\n",
            "       'PTRATIO', 'B', 'LSTAT', 'MEDV'],\n",
            "      dtype='object')\n",
            "504\n",
            "<class 'numpy.ndarray'>\n",
            "14\n"
          ]
        }
      ]
    },
    {
      "cell_type": "code",
      "metadata": {
        "colab": {
          "base_uri": "https://localhost:8080/"
        },
        "id": "j8E8wl-pzHFv",
        "outputId": "3c0a0ec0-1c75-4a90-a7f6-f0b4b0f4a513"
      },
      "source": [
        "sum=0\n",
        "for i in data.columns:\n",
        "  sum = sum + int(pd.DataFrame(data[i].unique()).count())\n",
        "print(sum/data.shape[1])"
      ],
      "execution_count": 122,
      "outputs": [
        {
          "output_type": "stream",
          "name": "stdout",
          "text": [
            "218.0\n"
          ]
        }
      ]
    },
    {
      "cell_type": "code",
      "metadata": {
        "id": "FE9knWhD1HD5"
      },
      "source": [
        ""
      ],
      "execution_count": null,
      "outputs": []
    }
  ]
}