{
  "nbformat": 4,
  "nbformat_minor": 0,
  "metadata": {
    "colab": {
      "name": "연습_5장_2.ipynb",
      "provenance": [],
      "authorship_tag": "ABX9TyM/S8f7sU3MTtQAUVaF5kMY",
      "include_colab_link": true
    },
    "kernelspec": {
      "name": "python3",
      "display_name": "Python 3"
    },
    "language_info": {
      "name": "python"
    }
  },
  "cells": [
    {
      "cell_type": "markdown",
      "metadata": {
        "id": "view-in-github",
        "colab_type": "text"
      },
      "source": [
        "<a href=\"https://colab.research.google.com/github/LimJiYeonn/LimJiYeonn.github.io/blob/master/%EC%97%B0%EC%8A%B5_5%EC%9E%A5_2.ipynb\" target=\"_parent\"><img src=\"https://colab.research.google.com/assets/colab-badge.svg\" alt=\"Open In Colab\"/></a>"
      ]
    },
    {
      "cell_type": "code",
      "metadata": {
        "colab": {
          "base_uri": "https://localhost:8080/"
        },
        "id": "8cEOkPfGw5kC",
        "outputId": "ae0906a6-a082-41e1-f31c-7c1450b56a82"
      },
      "source": [
        "# 데이터 파일 읽기 예제\n",
        "# 분류 모델\n",
        "import pandas as pd\n",
        "x_train = pd.read_csv('titanic_x_train.csv',encoding='CP949')\n",
        "y_train = pd.read_csv('titanic_y_train.csv')\n",
        "x_test = pd.read_csv('titanic_x_test.csv',encoding='CP949')\n",
        "\n",
        "#print(y_train.head(3))\n",
        "\n",
        "#1\n",
        "id = pd.DataFrame(x_test['PassengerId'])\n",
        "x_train.drop(columns='PassengerId',inplace=True)\n",
        "y_train.drop(columns='PassengerId',inplace=True)\n",
        "x_test.drop(columns='PassengerId',inplace=True)\n",
        "\n",
        "x_train.drop(columns='승객이름',inplace=True)\n",
        "x_test.drop(columns='승객이름',inplace=True)\n",
        "\n",
        "x_train.drop(columns='티켓번호',inplace=True)\n",
        "x_test.drop(columns='티켓번호',inplace=True)\n",
        "\n",
        "#결측값\n",
        "#print(x_train.isnull().sum())\n",
        "x_train.drop(columns='나이',inplace=True)\n",
        "x_test.drop(columns='나이',inplace=True)\n",
        "x_test['운임요금'].fillna(x_test['운임요금'].mean(),inplace=True)\n",
        "\n",
        "#print(x_train['객실번호'].unique())\n",
        "x_train.drop(columns='객실번호',inplace=True)\n",
        "x_test.drop(columns='객실번호',inplace=True)\n",
        "\n",
        "#print(x_train['선착장'].unique())\n",
        "#print(x_train.groupby(['선착장'])['선착장'].count())\n",
        "x_train['선착장'].fillna('S',inplace=True)\n",
        "#print(x_train.isnull().sum())\n",
        "\n",
        "x_train['성별'] = x_train['성별'].replace('male',0).replace('female',1)\n",
        "x_test['성별'] = x_test['성별'].replace('male',0).replace('female',1)\n",
        "x_train['성별'].astype('int64')\n",
        "x_test['성별'].astype('int64')\n",
        "\n",
        "선착장_dummy = pd.get_dummies(x_train['선착장'], drop_first=True).rename(columns={'Q':'선착장Q','S':'선착장S'})\n",
        "x_train = pd.concat([x_train,선착장_dummy],axis=1)\n",
        "x_train.drop(columns='선착장',inplace=True)\n",
        "x_train['선착장Q'] = x_train['선착장Q'].astype('int64')\n",
        "x_train['선착장S'] = x_train['선착장S'].astype('int64')\n",
        "\n",
        "선착장_dummy = pd.get_dummies(x_test['선착장'], drop_first=True).rename(columns={'Q':'선착장Q','S':'선착장S'})\n",
        "x_test = pd.concat([x_test,선착장_dummy],axis=1)\n",
        "x_test['선착장Q'] = x_test['선착장Q'].astype('int64')\n",
        "x_test['선착장S'] = x_test['선착장S'].astype('int64')\n",
        "x_test.drop(columns='선착장',inplace=True)\n",
        "\n",
        "x_train['가족수'] = x_train['형제자매배우자수'] + x_train['부모자식수']\n",
        "x_test['가족수'] = x_test['형제자매배우자수'] + x_test['부모자식수']\n",
        "x_train.drop(columns=['형제자매배우자수','부모자식수'],inplace=True)\n",
        "x_test.drop(columns=['형제자매배우자수','부모자식수'],inplace=True)\n",
        "\n",
        "from sklearn.preprocessing import StandardScaler\n",
        "scaler = StandardScaler()\n",
        "x_train = pd.DataFrame(scaler.fit_transform(x_train),columns = x_train.columns)\n",
        "x_test = pd.DataFrame(scaler.transform(x_test),columns = x_train.columns)\n",
        "\n",
        "\n",
        "# print(x_train.describe().T)\n",
        "# print(x_train.head(3).T)\n",
        "# print(x_test.head(3).T)\n",
        "# print(x_train.info())\n",
        "# print(x_test.info())\n",
        "\n",
        "from sklearn.model_selection import train_test_split\n",
        "from xgboost import XGBClassifier\n",
        "from sklearn.metrics import roc_auc_score\n",
        "X_TRAIN,X_TEST,Y_TRAIN,Y_TEST = train_test_split(x_train, y_train, test_size=0.2, random_state=5)\n",
        "#model1 = XGBClassifier(eval_metric = 'error', n_estimators = 1000, max_depth = 3)\n",
        "model2 = XGBClassifier(eval_metric = 'error', n_estimators = 2000, max_depth = 5)\n",
        "#model1.fit(X_TRAIN,Y_TRAIN)\n",
        "#Y_TEST_P1 = model1.predict(X_TEST)\n",
        "model2.fit(X_TRAIN,Y_TRAIN)\n",
        "Y_TEST_P2 = model2.predict(X_TEST)\n",
        "#print(roc_auc_score(Y_TEST,Y_TEST_P1))\n",
        "print(roc_auc_score(Y_TEST,Y_TEST_P2))\n",
        "\n",
        "model2.fit(x_train,y_train)\n",
        "y_test_p = pd.DataFrame(model2.predict(x_test))\n",
        "result = pd.concat([id,y_test_p],axis=1).rename(columns={0:'Survived'})\n",
        "print(result)\n",
        "result.to_csv('sample_data/2.csv',index=False)\n",
        "\n",
        "\n"
      ],
      "execution_count": 78,
      "outputs": [
        {
          "output_type": "stream",
          "name": "stderr",
          "text": [
            "/usr/local/lib/python3.7/dist-packages/sklearn/preprocessing/_label.py:98: DataConversionWarning: A column-vector y was passed when a 1d array was expected. Please change the shape of y to (n_samples, ), for example using ravel().\n",
            "  y = column_or_1d(y, warn=True)\n",
            "/usr/local/lib/python3.7/dist-packages/sklearn/preprocessing/_label.py:133: DataConversionWarning: A column-vector y was passed when a 1d array was expected. Please change the shape of y to (n_samples, ), for example using ravel().\n",
            "  y = column_or_1d(y, warn=True)\n"
          ]
        },
        {
          "output_type": "stream",
          "name": "stdout",
          "text": [
            "0.8062400635930048\n"
          ]
        },
        {
          "output_type": "stream",
          "name": "stderr",
          "text": [
            "/usr/local/lib/python3.7/dist-packages/sklearn/preprocessing/_label.py:98: DataConversionWarning: A column-vector y was passed when a 1d array was expected. Please change the shape of y to (n_samples, ), for example using ravel().\n",
            "  y = column_or_1d(y, warn=True)\n",
            "/usr/local/lib/python3.7/dist-packages/sklearn/preprocessing/_label.py:133: DataConversionWarning: A column-vector y was passed when a 1d array was expected. Please change the shape of y to (n_samples, ), for example using ravel().\n",
            "  y = column_or_1d(y, warn=True)\n"
          ]
        },
        {
          "output_type": "stream",
          "name": "stdout",
          "text": [
            "     PassengerId  Survived\n",
            "0            892         0\n",
            "1            893         1\n",
            "2            894         0\n",
            "3            895         0\n",
            "4            896         1\n",
            "..           ...       ...\n",
            "413         1305         0\n",
            "414         1306         1\n",
            "415         1307         0\n",
            "416         1308         0\n",
            "417         1309         1\n",
            "\n",
            "[418 rows x 2 columns]\n"
          ]
        }
      ]
    }
  ]
}