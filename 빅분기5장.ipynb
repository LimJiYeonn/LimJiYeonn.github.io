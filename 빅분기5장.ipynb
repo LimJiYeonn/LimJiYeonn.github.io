{
  "nbformat": 4,
  "nbformat_minor": 0,
  "metadata": {
    "colab": {
      "name": "빅분기5장.ipynb",
      "provenance": [],
      "authorship_tag": "ABX9TyP21u7vxVY70ky9S2caLHhy",
      "include_colab_link": true
    },
    "kernelspec": {
      "name": "python3",
      "display_name": "Python 3"
    },
    "language_info": {
      "name": "python"
    }
  },
  "cells": [
    {
      "cell_type": "markdown",
      "metadata": {
        "id": "view-in-github",
        "colab_type": "text"
      },
      "source": [
        "<a href=\"https://colab.research.google.com/github/LimJiYeonn/LimJiYeonn.github.io/blob/master/%EB%B9%85%EB%B6%84%EA%B8%B05%EC%9E%A5.ipynb\" target=\"_parent\"><img src=\"https://colab.research.google.com/assets/colab-badge.svg\" alt=\"Open In Colab\"/></a>"
      ]
    },
    {
      "cell_type": "code",
      "metadata": {
        "colab": {
          "base_uri": "https://localhost:8080/"
        },
        "id": "nFrd4lvu1bh_",
        "outputId": "913439f1-6ddc-44b3-f1b8-1ec362809060"
      },
      "source": [
        "import sklearn\n",
        "print(dir(sklearn))"
      ],
      "execution_count": 1,
      "outputs": [
        {
          "output_type": "stream",
          "name": "stdout",
          "text": [
            "['__SKLEARN_SETUP__', '__all__', '__builtins__', '__cached__', '__check_build', '__doc__', '__file__', '__loader__', '__name__', '__package__', '__path__', '__spec__', '__version__', '_config', '_distributor_init', 'base', 'clone', 'config_context', 'exceptions', 'externals', 'get_config', 'logger', 'logging', 'os', 'random', 'set_config', 'setup_module', 'show_versions', 'sys', 'utils']\n"
          ]
        }
      ]
    },
    {
      "cell_type": "code",
      "metadata": {
        "colab": {
          "base_uri": "https://localhost:8080/"
        },
        "id": "ICfEPOig1faP",
        "outputId": "290b3c02-9d78-412b-f523-0628c356d883"
      },
      "source": [
        "import sklearn.preprocessing\n",
        "print(dir(sklearn.preprocessing))"
      ],
      "execution_count": 2,
      "outputs": [
        {
          "output_type": "stream",
          "name": "stdout",
          "text": [
            "['Binarizer', 'FunctionTransformer', 'KBinsDiscretizer', 'KernelCenterer', 'LabelBinarizer', 'LabelEncoder', 'MaxAbsScaler', 'MinMaxScaler', 'MultiLabelBinarizer', 'Normalizer', 'OneHotEncoder', 'OrdinalEncoder', 'PolynomialFeatures', 'PowerTransformer', 'QuantileTransformer', 'RobustScaler', 'SplineTransformer', 'StandardScaler', '__all__', '__builtins__', '__cached__', '__doc__', '__file__', '__loader__', '__name__', '__package__', '__path__', '__spec__', '_csr_polynomial_expansion', '_data', '_discretization', '_encoders', '_function_transformer', '_label', '_polynomial', 'add_dummy_feature', 'binarize', 'label_binarize', 'maxabs_scale', 'minmax_scale', 'normalize', 'power_transform', 'quantile_transform', 'robust_scale', 'scale']\n"
          ]
        }
      ]
    },
    {
      "cell_type": "code",
      "metadata": {
        "id": "hVt8hUey1fXX",
        "colab": {
          "base_uri": "https://localhost:8080/"
        },
        "outputId": "27b6ed4e-3ff6-4777-c09a-58b5e8de1121"
      },
      "source": [
        "from sklearn.preprocessing import StandardScaler\n",
        "print(help(StandardScaler))"
      ],
      "execution_count": 3,
      "outputs": [
        {
          "output_type": "stream",
          "name": "stdout",
          "text": [
            "Help on class StandardScaler in module sklearn.preprocessing._data:\n",
            "\n",
            "class StandardScaler(sklearn.base._OneToOneFeatureMixin, sklearn.base.TransformerMixin, sklearn.base.BaseEstimator)\n",
            " |  StandardScaler(*, copy=True, with_mean=True, with_std=True)\n",
            " |  \n",
            " |  Standardize features by removing the mean and scaling to unit variance.\n",
            " |  \n",
            " |  The standard score of a sample `x` is calculated as:\n",
            " |  \n",
            " |      z = (x - u) / s\n",
            " |  \n",
            " |  where `u` is the mean of the training samples or zero if `with_mean=False`,\n",
            " |  and `s` is the standard deviation of the training samples or one if\n",
            " |  `with_std=False`.\n",
            " |  \n",
            " |  Centering and scaling happen independently on each feature by computing\n",
            " |  the relevant statistics on the samples in the training set. Mean and\n",
            " |  standard deviation are then stored to be used on later data using\n",
            " |  :meth:`transform`.\n",
            " |  \n",
            " |  Standardization of a dataset is a common requirement for many\n",
            " |  machine learning estimators: they might behave badly if the\n",
            " |  individual features do not more or less look like standard normally\n",
            " |  distributed data (e.g. Gaussian with 0 mean and unit variance).\n",
            " |  \n",
            " |  For instance many elements used in the objective function of\n",
            " |  a learning algorithm (such as the RBF kernel of Support Vector\n",
            " |  Machines or the L1 and L2 regularizers of linear models) assume that\n",
            " |  all features are centered around 0 and have variance in the same\n",
            " |  order. If a feature has a variance that is orders of magnitude larger\n",
            " |  that others, it might dominate the objective function and make the\n",
            " |  estimator unable to learn from other features correctly as expected.\n",
            " |  \n",
            " |  This scaler can also be applied to sparse CSR or CSC matrices by passing\n",
            " |  `with_mean=False` to avoid breaking the sparsity structure of the data.\n",
            " |  \n",
            " |  Read more in the :ref:`User Guide <preprocessing_scaler>`.\n",
            " |  \n",
            " |  Parameters\n",
            " |  ----------\n",
            " |  copy : bool, default=True\n",
            " |      If False, try to avoid a copy and do inplace scaling instead.\n",
            " |      This is not guaranteed to always work inplace; e.g. if the data is\n",
            " |      not a NumPy array or scipy.sparse CSR matrix, a copy may still be\n",
            " |      returned.\n",
            " |  \n",
            " |  with_mean : bool, default=True\n",
            " |      If True, center the data before scaling.\n",
            " |      This does not work (and will raise an exception) when attempted on\n",
            " |      sparse matrices, because centering them entails building a dense\n",
            " |      matrix which in common use cases is likely to be too large to fit in\n",
            " |      memory.\n",
            " |  \n",
            " |  with_std : bool, default=True\n",
            " |      If True, scale the data to unit variance (or equivalently,\n",
            " |      unit standard deviation).\n",
            " |  \n",
            " |  Attributes\n",
            " |  ----------\n",
            " |  scale_ : ndarray of shape (n_features,) or None\n",
            " |      Per feature relative scaling of the data to achieve zero mean and unit\n",
            " |      variance. Generally this is calculated using `np.sqrt(var_)`. If a\n",
            " |      variance is zero, we can't achieve unit variance, and the data is left\n",
            " |      as-is, giving a scaling factor of 1. `scale_` is equal to `None`\n",
            " |      when `with_std=False`.\n",
            " |  \n",
            " |      .. versionadded:: 0.17\n",
            " |         *scale_*\n",
            " |  \n",
            " |  mean_ : ndarray of shape (n_features,) or None\n",
            " |      The mean value for each feature in the training set.\n",
            " |      Equal to ``None`` when ``with_mean=False``.\n",
            " |  \n",
            " |  var_ : ndarray of shape (n_features,) or None\n",
            " |      The variance for each feature in the training set. Used to compute\n",
            " |      `scale_`. Equal to ``None`` when ``with_std=False``.\n",
            " |  \n",
            " |  n_features_in_ : int\n",
            " |      Number of features seen during :term:`fit`.\n",
            " |  \n",
            " |      .. versionadded:: 0.24\n",
            " |  \n",
            " |  feature_names_in_ : ndarray of shape (`n_features_in_`,)\n",
            " |      Names of features seen during :term:`fit`. Defined only when `X`\n",
            " |      has feature names that are all strings.\n",
            " |  \n",
            " |      .. versionadded:: 1.0\n",
            " |  \n",
            " |  n_samples_seen_ : int or ndarray of shape (n_features,)\n",
            " |      The number of samples processed by the estimator for each feature.\n",
            " |      If there are no missing samples, the ``n_samples_seen`` will be an\n",
            " |      integer, otherwise it will be an array of dtype int. If\n",
            " |      `sample_weights` are used it will be a float (if no missing data)\n",
            " |      or an array of dtype float that sums the weights seen so far.\n",
            " |      Will be reset on new calls to fit, but increments across\n",
            " |      ``partial_fit`` calls.\n",
            " |  \n",
            " |  See Also\n",
            " |  --------\n",
            " |  scale : Equivalent function without the estimator API.\n",
            " |  \n",
            " |  :class:`~sklearn.decomposition.PCA` : Further removes the linear\n",
            " |      correlation across features with 'whiten=True'.\n",
            " |  \n",
            " |  Notes\n",
            " |  -----\n",
            " |  NaNs are treated as missing values: disregarded in fit, and maintained in\n",
            " |  transform.\n",
            " |  \n",
            " |  We use a biased estimator for the standard deviation, equivalent to\n",
            " |  `numpy.std(x, ddof=0)`. Note that the choice of `ddof` is unlikely to\n",
            " |  affect model performance.\n",
            " |  \n",
            " |  For a comparison of the different scalers, transformers, and normalizers,\n",
            " |  see :ref:`examples/preprocessing/plot_all_scaling.py\n",
            " |  <sphx_glr_auto_examples_preprocessing_plot_all_scaling.py>`.\n",
            " |  \n",
            " |  Examples\n",
            " |  --------\n",
            " |  >>> from sklearn.preprocessing import StandardScaler\n",
            " |  >>> data = [[0, 0], [0, 0], [1, 1], [1, 1]]\n",
            " |  >>> scaler = StandardScaler()\n",
            " |  >>> print(scaler.fit(data))\n",
            " |  StandardScaler()\n",
            " |  >>> print(scaler.mean_)\n",
            " |  [0.5 0.5]\n",
            " |  >>> print(scaler.transform(data))\n",
            " |  [[-1. -1.]\n",
            " |   [-1. -1.]\n",
            " |   [ 1.  1.]\n",
            " |   [ 1.  1.]]\n",
            " |  >>> print(scaler.transform([[2, 2]]))\n",
            " |  [[3. 3.]]\n",
            " |  \n",
            " |  Method resolution order:\n",
            " |      StandardScaler\n",
            " |      sklearn.base._OneToOneFeatureMixin\n",
            " |      sklearn.base.TransformerMixin\n",
            " |      sklearn.base.BaseEstimator\n",
            " |      builtins.object\n",
            " |  \n",
            " |  Methods defined here:\n",
            " |  \n",
            " |  __init__(self, *, copy=True, with_mean=True, with_std=True)\n",
            " |      Initialize self.  See help(type(self)) for accurate signature.\n",
            " |  \n",
            " |  fit(self, X, y=None, sample_weight=None)\n",
            " |      Compute the mean and std to be used for later scaling.\n",
            " |      \n",
            " |      Parameters\n",
            " |      ----------\n",
            " |      X : {array-like, sparse matrix} of shape (n_samples, n_features)\n",
            " |          The data used to compute the mean and standard deviation\n",
            " |          used for later scaling along the features axis.\n",
            " |      \n",
            " |      y : None\n",
            " |          Ignored.\n",
            " |      \n",
            " |      sample_weight : array-like of shape (n_samples,), default=None\n",
            " |          Individual weights for each sample.\n",
            " |      \n",
            " |          .. versionadded:: 0.24\n",
            " |             parameter *sample_weight* support to StandardScaler.\n",
            " |      \n",
            " |      Returns\n",
            " |      -------\n",
            " |      self : object\n",
            " |          Fitted scaler.\n",
            " |  \n",
            " |  inverse_transform(self, X, copy=None)\n",
            " |      Scale back the data to the original representation.\n",
            " |      \n",
            " |      Parameters\n",
            " |      ----------\n",
            " |      X : {array-like, sparse matrix} of shape (n_samples, n_features)\n",
            " |          The data used to scale along the features axis.\n",
            " |      copy : bool, default=None\n",
            " |          Copy the input X or not.\n",
            " |      \n",
            " |      Returns\n",
            " |      -------\n",
            " |      X_tr : {ndarray, sparse matrix} of shape (n_samples, n_features)\n",
            " |          Transformed array.\n",
            " |  \n",
            " |  partial_fit(self, X, y=None, sample_weight=None)\n",
            " |      Online computation of mean and std on X for later scaling.\n",
            " |      \n",
            " |      All of X is processed as a single batch. This is intended for cases\n",
            " |      when :meth:`fit` is not feasible due to very large number of\n",
            " |      `n_samples` or because X is read from a continuous stream.\n",
            " |      \n",
            " |      The algorithm for incremental mean and std is given in Equation 1.5a,b\n",
            " |      in Chan, Tony F., Gene H. Golub, and Randall J. LeVeque. \"Algorithms\n",
            " |      for computing the sample variance: Analysis and recommendations.\"\n",
            " |      The American Statistician 37.3 (1983): 242-247:\n",
            " |      \n",
            " |      Parameters\n",
            " |      ----------\n",
            " |      X : {array-like, sparse matrix} of shape (n_samples, n_features)\n",
            " |          The data used to compute the mean and standard deviation\n",
            " |          used for later scaling along the features axis.\n",
            " |      \n",
            " |      y : None\n",
            " |          Ignored.\n",
            " |      \n",
            " |      sample_weight : array-like of shape (n_samples,), default=None\n",
            " |          Individual weights for each sample.\n",
            " |      \n",
            " |          .. versionadded:: 0.24\n",
            " |             parameter *sample_weight* support to StandardScaler.\n",
            " |      \n",
            " |      Returns\n",
            " |      -------\n",
            " |      self : object\n",
            " |          Fitted scaler.\n",
            " |  \n",
            " |  transform(self, X, copy=None)\n",
            " |      Perform standardization by centering and scaling.\n",
            " |      \n",
            " |      Parameters\n",
            " |      ----------\n",
            " |      X : {array-like, sparse matrix of shape (n_samples, n_features)\n",
            " |          The data used to scale along the features axis.\n",
            " |      copy : bool, default=None\n",
            " |          Copy the input X or not.\n",
            " |      \n",
            " |      Returns\n",
            " |      -------\n",
            " |      X_tr : {ndarray, sparse matrix} of shape (n_samples, n_features)\n",
            " |          Transformed array.\n",
            " |  \n",
            " |  ----------------------------------------------------------------------\n",
            " |  Methods inherited from sklearn.base._OneToOneFeatureMixin:\n",
            " |  \n",
            " |  get_feature_names_out(self, input_features=None)\n",
            " |      Get output feature names for transformation.\n",
            " |      \n",
            " |      Parameters\n",
            " |      ----------\n",
            " |      input_features : array-like of str or None, default=None\n",
            " |          Input features.\n",
            " |      \n",
            " |          - If `input_features` is `None`, then `feature_names_in_` is\n",
            " |            used as feature names in. If `feature_names_in_` is not defined,\n",
            " |            then names are generated: `[x0, x1, ..., x(n_features_in_)]`.\n",
            " |          - If `input_features` is an array-like, then `input_features` must\n",
            " |            match `feature_names_in_` if `feature_names_in_` is defined.\n",
            " |      \n",
            " |      Returns\n",
            " |      -------\n",
            " |      feature_names_out : ndarray of str objects\n",
            " |          Same as input features.\n",
            " |  \n",
            " |  ----------------------------------------------------------------------\n",
            " |  Data descriptors inherited from sklearn.base._OneToOneFeatureMixin:\n",
            " |  \n",
            " |  __dict__\n",
            " |      dictionary for instance variables (if defined)\n",
            " |  \n",
            " |  __weakref__\n",
            " |      list of weak references to the object (if defined)\n",
            " |  \n",
            " |  ----------------------------------------------------------------------\n",
            " |  Methods inherited from sklearn.base.TransformerMixin:\n",
            " |  \n",
            " |  fit_transform(self, X, y=None, **fit_params)\n",
            " |      Fit to data, then transform it.\n",
            " |      \n",
            " |      Fits transformer to `X` and `y` with optional parameters `fit_params`\n",
            " |      and returns a transformed version of `X`.\n",
            " |      \n",
            " |      Parameters\n",
            " |      ----------\n",
            " |      X : array-like of shape (n_samples, n_features)\n",
            " |          Input samples.\n",
            " |      \n",
            " |      y :  array-like of shape (n_samples,) or (n_samples, n_outputs),                 default=None\n",
            " |          Target values (None for unsupervised transformations).\n",
            " |      \n",
            " |      **fit_params : dict\n",
            " |          Additional fit parameters.\n",
            " |      \n",
            " |      Returns\n",
            " |      -------\n",
            " |      X_new : ndarray array of shape (n_samples, n_features_new)\n",
            " |          Transformed array.\n",
            " |  \n",
            " |  ----------------------------------------------------------------------\n",
            " |  Methods inherited from sklearn.base.BaseEstimator:\n",
            " |  \n",
            " |  __getstate__(self)\n",
            " |  \n",
            " |  __repr__(self, N_CHAR_MAX=700)\n",
            " |      Return repr(self).\n",
            " |  \n",
            " |  __setstate__(self, state)\n",
            " |  \n",
            " |  get_params(self, deep=True)\n",
            " |      Get parameters for this estimator.\n",
            " |      \n",
            " |      Parameters\n",
            " |      ----------\n",
            " |      deep : bool, default=True\n",
            " |          If True, will return the parameters for this estimator and\n",
            " |          contained subobjects that are estimators.\n",
            " |      \n",
            " |      Returns\n",
            " |      -------\n",
            " |      params : dict\n",
            " |          Parameter names mapped to their values.\n",
            " |  \n",
            " |  set_params(self, **params)\n",
            " |      Set the parameters of this estimator.\n",
            " |      \n",
            " |      The method works on simple estimators as well as on nested objects\n",
            " |      (such as :class:`~sklearn.pipeline.Pipeline`). The latter have\n",
            " |      parameters of the form ``<component>__<parameter>`` so that it's\n",
            " |      possible to update each component of a nested object.\n",
            " |      \n",
            " |      Parameters\n",
            " |      ----------\n",
            " |      **params : dict\n",
            " |          Estimator parameters.\n",
            " |      \n",
            " |      Returns\n",
            " |      -------\n",
            " |      self : estimator instance\n",
            " |          Estimator instance.\n",
            "\n",
            "None\n"
          ]
        }
      ]
    },
    {
      "cell_type": "markdown",
      "metadata": {
        "id": "xoGxeyfP30Mk"
      },
      "source": [
        "### 1.데이터 분석 연습"
      ]
    },
    {
      "cell_type": "markdown",
      "metadata": {
        "id": "BAnMkA9G83lE"
      },
      "source": [
        "1.1 탐색"
      ]
    },
    {
      "cell_type": "code",
      "metadata": {
        "id": "pcDmSLT91fUv"
      },
      "source": [
        "import pandas as pd\n",
        "x_train = pd.read_csv('x_train.csv', encoding='CP949')\n",
        "y_train = pd.read_csv('y_train.csv', encoding='CP949')\n",
        "x_test = pd.read_csv('x_test.csv', encoding='CP949')"
      ],
      "execution_count": 4,
      "outputs": []
    },
    {
      "cell_type": "code",
      "metadata": {
        "colab": {
          "base_uri": "https://localhost:8080/"
        },
        "id": "7ybMP_QN1fSB",
        "outputId": "7f700d8c-ee27-46ed-bee8-32a7fed6ee95"
      },
      "source": [
        "print(x_train.head().T)"
      ],
      "execution_count": 5,
      "outputs": [
        {
          "output_type": "stream",
          "name": "stdout",
          "text": [
            "                0        1        2         3         4\n",
            "cust_id         0        1        2         3         4\n",
            "총구매액     68282840  2136000  3197000  16077620  29050000\n",
            "최대구매액    11264000  2136000  1639000   4935000  24000000\n",
            "환불금액     6.86e+06   300000      NaN       NaN       NaN\n",
            "주구매상품          기타      스포츠   남성 캐주얼        기타        보석\n",
            "주구매지점         강남점      잠실점      관악점       광주점      본  점\n",
            "내점일수           19        2        2        18         2\n",
            "내점당구매건수   3.89474      1.5        2   2.44444       1.5\n",
            "주말방문비율   0.527027        0        0  0.318182         0\n",
            "구매주기           17        1        1        16        85\n"
          ]
        }
      ]
    },
    {
      "cell_type": "code",
      "metadata": {
        "colab": {
          "base_uri": "https://localhost:8080/"
        },
        "id": "0NZqxld61fPJ",
        "outputId": "aa1b49a7-b1a3-468b-873c-c5321515f3c8"
      },
      "source": [
        "print(x_train.shape)\n",
        "print(y_train.shape)\n",
        "print(x_test.shape)\n",
        "print(x_train.info())"
      ],
      "execution_count": 6,
      "outputs": [
        {
          "output_type": "stream",
          "name": "stdout",
          "text": [
            "(3500, 10)\n",
            "(3500, 2)\n",
            "(2482, 10)\n",
            "<class 'pandas.core.frame.DataFrame'>\n",
            "RangeIndex: 3500 entries, 0 to 3499\n",
            "Data columns (total 10 columns):\n",
            " #   Column   Non-Null Count  Dtype  \n",
            "---  ------   --------------  -----  \n",
            " 0   cust_id  3500 non-null   int64  \n",
            " 1   총구매액     3500 non-null   int64  \n",
            " 2   최대구매액    3500 non-null   int64  \n",
            " 3   환불금액     1205 non-null   float64\n",
            " 4   주구매상품    3500 non-null   object \n",
            " 5   주구매지점    3500 non-null   object \n",
            " 6   내점일수     3500 non-null   int64  \n",
            " 7   내점당구매건수  3500 non-null   float64\n",
            " 8   주말방문비율   3500 non-null   float64\n",
            " 9   구매주기     3500 non-null   int64  \n",
            "dtypes: float64(3), int64(5), object(2)\n",
            "memory usage: 273.6+ KB\n",
            "None\n"
          ]
        }
      ]
    },
    {
      "cell_type": "code",
      "metadata": {
        "colab": {
          "base_uri": "https://localhost:8080/"
        },
        "id": "OsqzE0WN3pwm",
        "outputId": "805aabba-6b5d-4dd2-c5a8-aabe300d2bfe"
      },
      "source": [
        "print(x_train.describe().T)"
      ],
      "execution_count": 7,
      "outputs": [
        {
          "output_type": "stream",
          "name": "stdout",
          "text": [
            "          count          mean  ...           75%           max\n",
            "cust_id  3500.0  1.749500e+03  ...  2.624250e+03  3.499000e+03\n",
            "총구매액     3500.0  9.191925e+07  ...  1.065079e+08  2.323180e+09\n",
            "최대구매액    3500.0  1.966424e+07  ...  2.296250e+07  7.066290e+08\n",
            "환불금액     1205.0  2.407822e+07  ...  2.412000e+07  5.637530e+08\n",
            "내점일수     3500.0  1.925371e+01  ...  2.500000e+01  2.850000e+02\n",
            "내점당구매건수  3500.0  2.834963e+00  ...  3.375000e+00  2.208333e+01\n",
            "주말방문비율   3500.0  3.072463e-01  ...  4.489796e-01  1.000000e+00\n",
            "구매주기     3500.0  2.095829e+01  ...  2.800000e+01  1.660000e+02\n",
            "\n",
            "[8 rows x 8 columns]\n"
          ]
        }
      ]
    },
    {
      "cell_type": "markdown",
      "metadata": {
        "id": "Lvkclone8-WZ"
      },
      "source": [
        "1.2 전처리"
      ]
    },
    {
      "cell_type": "code",
      "metadata": {
        "id": "wGxD1rZ43psQ"
      },
      "source": [
        "# 불필요한 칼럼 삭제\n",
        "x_test_cust_id = x_test['cust_id'] #test의 id만 따로 저장\n",
        "x_train = x_train.drop(columns = 'cust_id')\n",
        "y_train = y_train.drop(columns = 'cust_id')\n",
        "x_test = x_test.drop(columns = 'cust_id')"
      ],
      "execution_count": 8,
      "outputs": []
    },
    {
      "cell_type": "code",
      "metadata": {
        "colab": {
          "base_uri": "https://localhost:8080/"
        },
        "id": "u_2OIdnR3ppT",
        "outputId": "4f87db68-6a20-404d-ff7a-ccff29c71abb"
      },
      "source": [
        "print(x_train.head(3))"
      ],
      "execution_count": 9,
      "outputs": [
        {
          "output_type": "stream",
          "name": "stdout",
          "text": [
            "       총구매액     최대구매액       환불금액   주구매상품 주구매지점  내점일수   내점당구매건수    주말방문비율  구매주기\n",
            "0  68282840  11264000  6860000.0      기타   강남점    19  3.894737  0.527027    17\n",
            "1   2136000   2136000   300000.0     스포츠   잠실점     2  1.500000  0.000000     1\n",
            "2   3197000   1639000        NaN  남성 캐주얼   관악점     2  2.000000  0.000000     1\n"
          ]
        }
      ]
    },
    {
      "cell_type": "code",
      "metadata": {
        "colab": {
          "base_uri": "https://localhost:8080/"
        },
        "id": "jicAanw7KSHr",
        "outputId": "afe56f86-d634-40b7-bb98-77600dc84ea4"
      },
      "source": [
        "print(y_train.head(3))"
      ],
      "execution_count": 10,
      "outputs": [
        {
          "output_type": "stream",
          "name": "stdout",
          "text": [
            "   gender\n",
            "0       0\n",
            "1       0\n",
            "2       1\n"
          ]
        }
      ]
    },
    {
      "cell_type": "code",
      "metadata": {
        "colab": {
          "base_uri": "https://localhost:8080/"
        },
        "id": "0hMPS4xC3pmL",
        "outputId": "8ec39744-4ebc-491c-f077-5f9c426f9eb1"
      },
      "source": [
        "# 결측치 처리\n",
        "print(x_train.isnull().sum())"
      ],
      "execution_count": 11,
      "outputs": [
        {
          "output_type": "stream",
          "name": "stdout",
          "text": [
            "총구매액          0\n",
            "최대구매액         0\n",
            "환불금액       2295\n",
            "주구매상품         0\n",
            "주구매지점         0\n",
            "내점일수          0\n",
            "내점당구매건수       0\n",
            "주말방문비율        0\n",
            "구매주기          0\n",
            "dtype: int64\n"
          ]
        }
      ]
    },
    {
      "cell_type": "code",
      "metadata": {
        "id": "4M6DXasI3pa1"
      },
      "source": [
        "x_train['환불금액'] = x_train['환불금액'].fillna(0)\n",
        "x_test['환불금액'] = x_test['환불금액'].fillna(0)"
      ],
      "execution_count": 12,
      "outputs": []
    },
    {
      "cell_type": "code",
      "metadata": {
        "colab": {
          "base_uri": "https://localhost:8080/"
        },
        "id": "SYo4Q1TN9ywF",
        "outputId": "0f423080-b855-456e-f8c2-11bdf59bbdb4"
      },
      "source": [
        "print(x_train['환불금액'].isnull().sum())\n",
        "print(x_test['환불금액'].isnull().sum())"
      ],
      "execution_count": 13,
      "outputs": [
        {
          "output_type": "stream",
          "name": "stdout",
          "text": [
            "0\n",
            "0\n"
          ]
        }
      ]
    },
    {
      "cell_type": "code",
      "metadata": {
        "colab": {
          "base_uri": "https://localhost:8080/"
        },
        "id": "BN9wsbcb9yry",
        "outputId": "fc4b56c0-68d9-4b21-98a3-8d395adc5123"
      },
      "source": [
        "# 범주형 변수 인코딩\n",
        "print(x_train['주구매상품'].unique())\n",
        "print(x_train['주구매상품'].unique().size)\n",
        "print(x_train['주구매지점'].unique())\n",
        "print(x_train['주구매지점'].unique().size)"
      ],
      "execution_count": 14,
      "outputs": [
        {
          "output_type": "stream",
          "name": "stdout",
          "text": [
            "['기타' '스포츠' '남성 캐주얼' '보석' '디자이너' '시티웨어' '명품' '농산물' '화장품' '골프' '구두' '가공식품'\n",
            " '수산품' '아동' '차/커피' '캐주얼' '섬유잡화' '육류' '축산가공' '젓갈/반찬' '액세서리' '피혁잡화' '일용잡화'\n",
            " '주방가전' '주방용품' '건강식품' '가구' '주류' '모피/피혁' '남성 트랜디' '셔츠' '남성정장' '생활잡화'\n",
            " '트래디셔널' '란제리/내의' '커리어' '침구/수예' '대형가전' '통신/컴퓨터' '식기' '소형가전' '악기']\n",
            "42\n",
            "['강남점' '잠실점' '관악점' '광주점' '본  점' '일산점' '대전점' '부산본점' '분당점' '영등포점' '미아점'\n",
            " '청량리점' '안양점' '부평점' '동래점' '포항점' '노원점' '창원점' '센텀시티점' '인천점' '대구점' '전주점'\n",
            " '울산점' '상인점']\n",
            "24\n"
          ]
        }
      ]
    },
    {
      "cell_type": "code",
      "metadata": {
        "colab": {
          "base_uri": "https://localhost:8080/"
        },
        "id": "RFoKY8xK9yin",
        "outputId": "791a53b5-444f-40ea-bac3-8ec300f8ade8"
      },
      "source": [
        "# 라벨 인코딩 수행\n",
        "from sklearn.preprocessing import LabelEncoder\n",
        "encoder = LabelEncoder()\n",
        "x_train['주구매상품'] = encoder.fit_transform(x_train['주구매상품'])\n",
        "x_test['주구매상품'] = encoder.fit_transform(x_test['주구매상품'])\n",
        "print(x_train['주구매상품'].head(3))\n",
        "print(x_test['주구매상품'].head(3))"
      ],
      "execution_count": 15,
      "outputs": [
        {
          "output_type": "stream",
          "name": "stdout",
          "text": [
            "0     5\n",
            "1    21\n",
            "2     6\n",
            "Name: 주구매상품, dtype: int64\n",
            "0    3\n",
            "1    9\n",
            "2    0\n",
            "Name: 주구매상품, dtype: int64\n"
          ]
        }
      ]
    },
    {
      "cell_type": "markdown",
      "metadata": {
        "id": "sWZuAApA_S-v"
      },
      "source": [
        "classes_  인코딩의 변환 결과 알 수 있다. "
      ]
    },
    {
      "cell_type": "code",
      "metadata": {
        "colab": {
          "base_uri": "https://localhost:8080/"
        },
        "id": "wkArnf519ye4",
        "outputId": "72fe6cf4-24bb-4a62-ea47-b6054b7e5e05"
      },
      "source": [
        "print(encoder.classes_)"
      ],
      "execution_count": 16,
      "outputs": [
        {
          "output_type": "stream",
          "name": "stdout",
          "text": [
            "['가공식품' '가구' '건강식품' '골프' '구두' '기타' '남성 캐주얼' '남성 트랜디' '남성정장' '농산물' '대형가전'\n",
            " '디자이너' '란제리/내의' '명품' '모피/피혁' '보석' '생활잡화' '섬유잡화' '셔츠' '수산품' '스포츠' '시티웨어'\n",
            " '식기' '아동' '악기' '액세서리' '육류' '일용잡화' '젓갈/반찬' '주류' '주방가전' '주방용품' '차/커피'\n",
            " '축산가공' '침구/수예' '캐주얼' '커리어' '통신/컴퓨터' '트래디셔널' '피혁잡화' '화장품']\n"
          ]
        }
      ]
    },
    {
      "cell_type": "code",
      "metadata": {
        "colab": {
          "base_uri": "https://localhost:8080/"
        },
        "id": "jfjPt__E_K_1",
        "outputId": "8d05b94d-da0e-46c5-8eab-7891ce79359a"
      },
      "source": [
        "x_train['주구매지점'] = encoder.fit_transform(x_train['주구매지점'])\n",
        "x_test['주구매지점'] = encoder.fit_transform(x_test['주구매지점'])\n",
        "print(x_train['주구매지점'].head(3))\n",
        "print(x_test['주구매지점'].head(3))"
      ],
      "execution_count": 17,
      "outputs": [
        {
          "output_type": "stream",
          "name": "stdout",
          "text": [
            "0     0\n",
            "1    19\n",
            "2     1\n",
            "Name: 주구매지점, dtype: int64\n",
            "0     9\n",
            "1    19\n",
            "2     8\n",
            "Name: 주구매지점, dtype: int64\n"
          ]
        }
      ]
    },
    {
      "cell_type": "code",
      "metadata": {
        "colab": {
          "base_uri": "https://localhost:8080/"
        },
        "id": "ukiBbbBC_K8W",
        "outputId": "30f4c1d7-f376-4ffb-aa08-3de6dfa69332"
      },
      "source": [
        "print(encoder.classes_)"
      ],
      "execution_count": 18,
      "outputs": [
        {
          "output_type": "stream",
          "name": "stdout",
          "text": [
            "['강남점' '관악점' '광주점' '노원점' '대구점' '대전점' '동래점' '미아점' '본  점' '부산본점' '부평점' '분당점'\n",
            " '상인점' '센텀시티점' '안양점' '영등포점' '울산점' '인천점' '일산점' '잠실점' '전주점' '창원점' '청량리점'\n",
            " '포항점']\n"
          ]
        }
      ]
    },
    {
      "cell_type": "code",
      "metadata": {
        "colab": {
          "base_uri": "https://localhost:8080/"
        },
        "id": "jGryyIX6_K5W",
        "outputId": "dd218ee1-71e8-4b46-cf14-297d9740926a"
      },
      "source": [
        "# 파생변수 생성\n",
        "condition = x_train['환불금액'] > 0  # 0보다 크면 1, 0이면 0\n",
        "x_train.loc[condition, '환불금액_new'] = 1\n",
        "x_train.loc[~condition, '환불금액_new'] = 0\n",
        "print(x_train[['환불금액', '환불금액_new']].head(5))"
      ],
      "execution_count": 19,
      "outputs": [
        {
          "output_type": "stream",
          "name": "stdout",
          "text": [
            "        환불금액  환불금액_new\n",
            "0  6860000.0       1.0\n",
            "1   300000.0       1.0\n",
            "2        0.0       0.0\n",
            "3        0.0       0.0\n",
            "4        0.0       0.0\n"
          ]
        }
      ]
    },
    {
      "cell_type": "code",
      "metadata": {
        "id": "3Mr5WrfJ_Kvq"
      },
      "source": [
        "x_train = x_train.drop(columns = '환불금액')"
      ],
      "execution_count": 20,
      "outputs": []
    },
    {
      "cell_type": "code",
      "metadata": {
        "id": "U5Uca-Z4_Kth"
      },
      "source": [
        "condition = x_test['환불금액'] > 0 \n",
        "x_test.loc[condition, '환불금액_new'] = 1\n",
        "x_test.loc[~condition, '환불금액_new'] = 0\n",
        "x_test = x_test.drop(columns = '환불금액')"
      ],
      "execution_count": 21,
      "outputs": []
    },
    {
      "cell_type": "code",
      "metadata": {
        "colab": {
          "base_uri": "https://localhost:8080/"
        },
        "id": "7wa71Jf-_Kqe",
        "outputId": "dc6af288-a4d1-4ce3-cee5-ff411588a61a"
      },
      "source": [
        "# 표준화 크기로 변환\n",
        "print(x_train.describe().T) # 평균이 엄청 큰 거 찾기"
      ],
      "execution_count": 22,
      "outputs": [
        {
          "output_type": "stream",
          "name": "stdout",
          "text": [
            "           count          mean  ...           75%           max\n",
            "총구매액      3500.0  9.191925e+07  ...  1.065079e+08  2.323180e+09\n",
            "최대구매액     3500.0  1.966424e+07  ...  2.296250e+07  7.066290e+08\n",
            "주구매상품     3500.0  1.461200e+01  ...  2.200000e+01  4.100000e+01\n",
            "주구매지점     3500.0  1.073429e+01  ...  1.500000e+01  2.300000e+01\n",
            "내점일수      3500.0  1.925371e+01  ...  2.500000e+01  2.850000e+02\n",
            "내점당구매건수   3500.0  2.834963e+00  ...  3.375000e+00  2.208333e+01\n",
            "주말방문비율    3500.0  3.072463e-01  ...  4.489796e-01  1.000000e+00\n",
            "구매주기      3500.0  2.095829e+01  ...  2.800000e+01  1.660000e+02\n",
            "환불금액_new  3500.0  3.442857e-01  ...  1.000000e+00  1.000000e+00\n",
            "\n",
            "[9 rows x 8 columns]\n"
          ]
        }
      ]
    },
    {
      "cell_type": "code",
      "metadata": {
        "id": "EHLuyvR2BpOx"
      },
      "source": [
        "from sklearn.preprocessing import StandardScaler\n",
        "scaler = StandardScaler()\n",
        "x_train = pd.DataFrame(scaler.fit_transform(x_train), columns = x_train.columns)\n",
        "x_test = pd.DataFrame(scaler.fit_transform(x_test), columns = x_test.columns)"
      ],
      "execution_count": 23,
      "outputs": []
    },
    {
      "cell_type": "code",
      "metadata": {
        "colab": {
          "base_uri": "https://localhost:8080/"
        },
        "id": "kEKWmWkaBpLZ",
        "outputId": "ef8b82c6-e623-42ee-ee91-5ee15c8746cd"
      },
      "source": [
        "print(x_train.describe().T)"
      ],
      "execution_count": 24,
      "outputs": [
        {
          "output_type": "stream",
          "name": "stdout",
          "text": [
            "           count          mean       std  ...       50%       75%        max\n",
            "총구매액      3500.0 -4.409171e-17  1.000143  ... -0.389621  0.089237  13.648260\n",
            "최대구매액     3500.0 -4.838986e-17  1.000143  ... -0.307219  0.103110  21.475852\n",
            "주구매상품     3500.0 -6.236281e-17  1.000143  ... -0.431093  0.567518   2.027026\n",
            "주구매지점     3500.0 -8.333017e-17  1.000143  ... -0.307733  0.756913   2.176441\n",
            "내점일수      3500.0  2.518303e-16  1.000143  ... -0.414180  0.211486   9.780490\n",
            "내점당구매건수   3500.0 -2.346536e-16  1.000143  ... -0.262346  0.282432  10.066639\n",
            "주말방문비율    3500.0  1.402687e-16  1.000143  ... -0.175472  0.489224   2.391196\n",
            "구매주기      3500.0 -1.220294e-16  1.000143  ... -0.321610  0.284570   5.861421\n",
            "환불금액_new  3500.0  3.445498e-16  1.000143  ... -0.724606  1.380060   1.380060\n",
            "\n",
            "[9 rows x 8 columns]\n"
          ]
        }
      ]
    },
    {
      "cell_type": "code",
      "metadata": {
        "colab": {
          "base_uri": "https://localhost:8080/"
        },
        "id": "j_wX3QuLBpH1",
        "outputId": "42bca56c-49ba-4765-b12b-f2fe237e2780"
      },
      "source": [
        "#상관관계 확인 0.6이상이면 강한 상관관계, 0.7부터 칼럼 삭제\n",
        "print(x_train[['총구매액', '최대구매액','환불금액_new']].corr())"
      ],
      "execution_count": 25,
      "outputs": [
        {
          "output_type": "stream",
          "name": "stdout",
          "text": [
            "              총구매액     최대구매액  환불금액_new\n",
            "총구매액      1.000000  0.700080  0.403357\n",
            "최대구매액     0.700080  1.000000  0.330687\n",
            "환불금액_new  0.403357  0.330687  1.000000\n"
          ]
        }
      ]
    },
    {
      "cell_type": "code",
      "metadata": {
        "colab": {
          "base_uri": "https://localhost:8080/"
        },
        "id": "WerKts_QBpEQ",
        "outputId": "225d3118-142f-4834-c27a-1675bc2ca56a"
      },
      "source": [
        "print(x_test[['총구매액', '최대구매액','환불금액_new']].corr())"
      ],
      "execution_count": 26,
      "outputs": [
        {
          "output_type": "stream",
          "name": "stdout",
          "text": [
            "              총구매액     최대구매액  환불금액_new\n",
            "총구매액      1.000000  0.660978  0.398880\n",
            "최대구매액     0.660978  1.000000  0.313008\n",
            "환불금액_new  0.398880  0.313008  1.000000\n"
          ]
        }
      ]
    },
    {
      "cell_type": "code",
      "metadata": {
        "id": "NhjyC1cv_Kn4"
      },
      "source": [
        "x_train = x_train.drop(columns = ['최대구매액'])\n",
        "x_test = x_test.drop(columns = ['최대구매액'])"
      ],
      "execution_count": 27,
      "outputs": []
    },
    {
      "cell_type": "markdown",
      "metadata": {
        "id": "o42MwK3pEC-V"
      },
      "source": [
        "1.3 학습하고 평가"
      ]
    },
    {
      "cell_type": "code",
      "metadata": {
        "id": "psuiksgc-J21"
      },
      "source": [
        "from sklearn.model_selection import train_test_split\n",
        "X_TRAIN, X_TEST, Y_TRAIN, Y_TEST = train_test_split(x_train, y_train, test_size = 0.2, random_state = 10)\n",
        "\n",
        "from sklearn.tree import DecisionTreeClassifier\n",
        "model = DecisionTreeClassifier(max_depth=10, criterion = 'entropy', random_state=10)\n",
        "model.fit(X_TRAIN, Y_TRAIN)\n",
        "y_test_proba = model.predict_proba(X_TEST)\n",
        "result = pd.DataFrame(y_test_proba)[1]\n",
        "final = pd.concat\n",
        "final = pd.concat([x_test_cust_id, result], axis = 1).rename(columns={1:'gender'})\n",
        "final.to_csv('sample_data/12345.csv', index= False)"
      ],
      "execution_count": 28,
      "outputs": []
    },
    {
      "cell_type": "code",
      "metadata": {
        "colab": {
          "base_uri": "https://localhost:8080/"
        },
        "id": "c3Dpvmx2EGft",
        "outputId": "6a08e2dd-91df-4c0f-9958-7f4b08ad95d8"
      },
      "source": [
        "# 데이터 학습시키기\n",
        "# 종속변수 = 성별 -> 의사결정나무 분류기 사용\n",
        "from sklearn.tree import DecisionTreeClassifier\n",
        "model = DecisionTreeClassifier()\n",
        "model.fit(x_train, y_train)\n",
        "y_test_predicted = model.predict(x_test)\n",
        "# predict의 결과 -> 데프로 변경시키기\n",
        "print(pd.DataFrame(y_test_predicted).head(3)) "
      ],
      "execution_count": 29,
      "outputs": [
        {
          "output_type": "stream",
          "name": "stdout",
          "text": [
            "   0\n",
            "0  1\n",
            "1  0\n",
            "2  0\n"
          ]
        }
      ]
    },
    {
      "cell_type": "markdown",
      "metadata": {
        "id": "sUVgs2DbFXTm"
      },
      "source": [
        "hyper파라미터 - max_depth, criterion(노드 분기하는 조건, default = gini)"
      ]
    },
    {
      "cell_type": "code",
      "metadata": {
        "colab": {
          "base_uri": "https://localhost:8080/"
        },
        "id": "fkOb4l3mEHB_",
        "outputId": "61035a59-ee27-487f-f266-3114b716f890"
      },
      "source": [
        "model = DecisionTreeClassifier(max_depth=10, criterion = 'entropy', random_state=10)\n",
        "model.fit(x_train, y_train)\n",
        "y_test_predicted = model.predict(x_test)\n",
        "print(pd.DataFrame(y_test_predicted).head(3))"
      ],
      "execution_count": 30,
      "outputs": [
        {
          "output_type": "stream",
          "name": "stdout",
          "text": [
            "   0\n",
            "0  1\n",
            "1  0\n",
            "2  0\n"
          ]
        }
      ]
    },
    {
      "cell_type": "code",
      "metadata": {
        "colab": {
          "base_uri": "https://localhost:8080/"
        },
        "id": "2W1ACNa0EG_A",
        "outputId": "972c3338-e533-45a2-feb2-f3f5da50b884"
      },
      "source": [
        "# 결과 예측하기\n",
        "y_test_proba = model.predict_proba(x_test)\n",
        "print(pd.DataFrame(y_test_proba).head())"
      ],
      "execution_count": 31,
      "outputs": [
        {
          "output_type": "stream",
          "name": "stdout",
          "text": [
            "          0         1\n",
            "0  0.200000  0.800000\n",
            "1  1.000000  0.000000\n",
            "2  1.000000  0.000000\n",
            "3  0.548837  0.451163\n",
            "4  1.000000  0.000000\n"
          ]
        }
      ]
    },
    {
      "cell_type": "code",
      "metadata": {
        "colab": {
          "base_uri": "https://localhost:8080/"
        },
        "id": "JDkamr-lEG7L",
        "outputId": "d3ec0ffb-9f56-4693-c9c3-54e9d4e658a8"
      },
      "source": [
        "result = pd.DataFrame(y_test_proba)[1] # 최종 구해야할 확률은 남성\n",
        "print(result)"
      ],
      "execution_count": 32,
      "outputs": [
        {
          "output_type": "stream",
          "name": "stdout",
          "text": [
            "0       0.800000\n",
            "1       0.000000\n",
            "2       0.000000\n",
            "3       0.451163\n",
            "4       0.000000\n",
            "          ...   \n",
            "2477    0.462312\n",
            "2478    0.000000\n",
            "2479    0.560000\n",
            "2480    1.000000\n",
            "2481    1.000000\n",
            "Name: 1, Length: 2482, dtype: float64\n"
          ]
        }
      ]
    },
    {
      "cell_type": "code",
      "metadata": {
        "colab": {
          "base_uri": "https://localhost:8080/"
        },
        "id": "dzh8OyTBEG4H",
        "outputId": "f8962d92-157e-462f-a731-3d377acc48d8"
      },
      "source": [
        "# 모델 평가하기\n",
        "y_train_predictd = model.predict(x_train)\n",
        "from sklearn.metrics import roc_auc_score\n",
        "print(roc_auc_score(y_train, y_train_predictd))"
      ],
      "execution_count": 33,
      "outputs": [
        {
          "output_type": "stream",
          "name": "stdout",
          "text": [
            "0.6896432468240978\n"
          ]
        }
      ]
    },
    {
      "cell_type": "markdown",
      "metadata": {
        "id": "oOp98lLZMamB"
      },
      "source": [
        "1.4 결과 제출하기"
      ]
    },
    {
      "cell_type": "code",
      "metadata": {
        "id": "EGR7Yuyf_Kk_"
      },
      "source": [
        "final = pd.concat([x_test_cust_id, result], axis = 1).rename(columns={1:'gender'})\n",
        "final.to_csv('sample_data/12345.csv', index= False)"
      ],
      "execution_count": 34,
      "outputs": []
    },
    {
      "cell_type": "code",
      "metadata": {
        "colab": {
          "base_uri": "https://localhost:8080/"
        },
        "id": "ODU3XkAaMpLd",
        "outputId": "0e95a1b6-6d02-4844-d01a-b45d09437244"
      },
      "source": [
        "final = pd.read_csv('sample_data/12345.csv')\n",
        "print(final)"
      ],
      "execution_count": 35,
      "outputs": [
        {
          "output_type": "stream",
          "name": "stdout",
          "text": [
            "      cust_id    gender\n",
            "0        3500  0.800000\n",
            "1        3501  0.000000\n",
            "2        3502  0.000000\n",
            "3        3503  0.451163\n",
            "4        3504  0.000000\n",
            "...       ...       ...\n",
            "2477     5977  0.462312\n",
            "2478     5978  0.000000\n",
            "2479     5979  0.560000\n",
            "2480     5980  1.000000\n",
            "2481     5981  1.000000\n",
            "\n",
            "[2482 rows x 2 columns]\n"
          ]
        }
      ]
    },
    {
      "cell_type": "markdown",
      "metadata": {
        "id": "oMmNXuXnEHeI"
      },
      "source": [
        "### 2. 분류모델 수행하기"
      ]
    },
    {
      "cell_type": "markdown",
      "metadata": {
        "id": "EL12s7ALHAEG"
      },
      "source": [
        "2.1 탐색"
      ]
    },
    {
      "cell_type": "code",
      "metadata": {
        "id": "UZuQrYqRMpHm"
      },
      "source": [
        "import pandas as pd\n",
        "x_train = pd.read_csv('titanic_x_train.csv', encoding='CP949')\n",
        "y_train = pd.read_csv('titanic_y_train.csv', encoding='CP949')\n",
        "x_test = pd.read_csv('titanic_x_test.csv', encoding='CP949')"
      ],
      "execution_count": 36,
      "outputs": []
    },
    {
      "cell_type": "code",
      "metadata": {
        "id": "0V4mGeGnMpEi",
        "colab": {
          "base_uri": "https://localhost:8080/"
        },
        "outputId": "39818d32-832b-4973-9a31-626ac93156f2"
      },
      "source": [
        "print(x_train.head(1).T)"
      ],
      "execution_count": 37,
      "outputs": [
        {
          "output_type": "stream",
          "name": "stdout",
          "text": [
            "                                   0\n",
            "PassengerId                        1\n",
            "티켓등급                               3\n",
            "승객이름         Braund, Mr. Owen Harris\n",
            "성별                              male\n",
            "나이                                22\n",
            "형제자매배우자수                           1\n",
            "부모자식수                              0\n",
            "티켓번호                       A/5 21171\n",
            "운임요금                            7.25\n",
            "객실번호                             NaN\n",
            "선착장                                S\n"
          ]
        }
      ]
    },
    {
      "cell_type": "code",
      "metadata": {
        "colab": {
          "base_uri": "https://localhost:8080/"
        },
        "id": "FEvPpvQMFMW3",
        "outputId": "71447ffe-7bdb-4d91-f962-d33a221d5682"
      },
      "source": [
        "y_train.columns = ['PassengerId', 'Survived']\n",
        "print(y_train.head(3))"
      ],
      "execution_count": 38,
      "outputs": [
        {
          "output_type": "stream",
          "name": "stdout",
          "text": [
            "   PassengerId  Survived\n",
            "0            1         0\n",
            "1            2         1\n",
            "2            3         1\n"
          ]
        }
      ]
    },
    {
      "cell_type": "code",
      "metadata": {
        "colab": {
          "base_uri": "https://localhost:8080/"
        },
        "id": "m9iHD0E1FMSl",
        "outputId": "90fb84df-61dd-40db-ce99-28226191efc2"
      },
      "source": [
        "print(x_train.shape)\n",
        "print(y_train.shape)\n",
        "print(x_test.shape)"
      ],
      "execution_count": 39,
      "outputs": [
        {
          "output_type": "stream",
          "name": "stdout",
          "text": [
            "(891, 11)\n",
            "(891, 2)\n",
            "(418, 11)\n"
          ]
        }
      ]
    },
    {
      "cell_type": "code",
      "metadata": {
        "colab": {
          "base_uri": "https://localhost:8080/"
        },
        "id": "j8XkJbyeFMNb",
        "outputId": "fe6930d3-27a2-4f74-e8bd-7b38cfef6fb8"
      },
      "source": [
        "print(x_train.info())"
      ],
      "execution_count": 40,
      "outputs": [
        {
          "output_type": "stream",
          "name": "stdout",
          "text": [
            "<class 'pandas.core.frame.DataFrame'>\n",
            "RangeIndex: 891 entries, 0 to 890\n",
            "Data columns (total 11 columns):\n",
            " #   Column       Non-Null Count  Dtype  \n",
            "---  ------       --------------  -----  \n",
            " 0   PassengerId  891 non-null    int64  \n",
            " 1   티켓등급         891 non-null    int64  \n",
            " 2   승객이름         891 non-null    object \n",
            " 3   성별           891 non-null    object \n",
            " 4   나이           714 non-null    float64\n",
            " 5   형제자매배우자수     891 non-null    int64  \n",
            " 6   부모자식수        891 non-null    int64  \n",
            " 7   티켓번호         891 non-null    object \n",
            " 8   운임요금         891 non-null    float64\n",
            " 9   객실번호         204 non-null    object \n",
            " 10  선착장          889 non-null    object \n",
            "dtypes: float64(2), int64(4), object(5)\n",
            "memory usage: 76.7+ KB\n",
            "None\n"
          ]
        }
      ]
    },
    {
      "cell_type": "code",
      "metadata": {
        "colab": {
          "base_uri": "https://localhost:8080/"
        },
        "id": "EMbjg_VoFMKM",
        "outputId": "3e4af243-5312-4072-f9bd-7f5b0dbf2e87"
      },
      "source": [
        "#object타입이 범주형인지 아닌지 파악\n",
        "print(x_train['성별'].unique().size)\n",
        "print(x_train['성별'].unique())\n",
        "\n",
        "print(x_train['선착장'].unique().size)\n",
        "print(x_train['선착장'].unique())\n",
        "\n",
        "print(x_train['승객이름'].unique().size)\n",
        "print(x_train['티켓번호'].unique().size)\n",
        "print(x_train['객실번호'].unique().size)\n",
        "# 성별과 선착장은 범주형 data, 나머지는 x"
      ],
      "execution_count": 41,
      "outputs": [
        {
          "output_type": "stream",
          "name": "stdout",
          "text": [
            "2\n",
            "['male' 'female']\n",
            "4\n",
            "['S' 'C' 'Q' nan]\n",
            "891\n",
            "681\n",
            "148\n"
          ]
        }
      ]
    },
    {
      "cell_type": "code",
      "metadata": {
        "id": "8QZWczJzMpBX",
        "colab": {
          "base_uri": "https://localhost:8080/"
        },
        "outputId": "429f95e7-15d2-4e7b-a3b4-3cfbd623e6a1"
      },
      "source": [
        "print(x_train.describe().T) #평균 큰 차이 X"
      ],
      "execution_count": 42,
      "outputs": [
        {
          "output_type": "stream",
          "name": "stdout",
          "text": [
            "             count        mean         std  ...       50%    75%       max\n",
            "PassengerId  891.0  446.000000  257.353842  ...  446.0000  668.5  891.0000\n",
            "티켓등급         891.0    2.308642    0.836071  ...    3.0000    3.0    3.0000\n",
            "나이           714.0   29.699118   14.526497  ...   28.0000   38.0   80.0000\n",
            "형제자매배우자수     891.0    0.523008    1.102743  ...    0.0000    1.0    8.0000\n",
            "부모자식수        891.0    0.381594    0.806057  ...    0.0000    0.0    6.0000\n",
            "운임요금         891.0   32.204208   49.693429  ...   14.4542   31.0  512.3292\n",
            "\n",
            "[6 rows x 8 columns]\n"
          ]
        }
      ]
    },
    {
      "cell_type": "code",
      "metadata": {
        "id": "ISxsJ43x_Khq"
      },
      "source": [
        "data = pd.concat([x_train, y_train], axis = 1)"
      ],
      "execution_count": 43,
      "outputs": []
    },
    {
      "cell_type": "code",
      "metadata": {
        "id": "9KZyRBdD_Key",
        "colab": {
          "base_uri": "https://localhost:8080/"
        },
        "outputId": "fda5d5c7-ece1-4042-9419-2409f5e2436a"
      },
      "source": [
        "print(data.groupby(['성별'])['Survived'].mean())"
      ],
      "execution_count": 44,
      "outputs": [
        {
          "output_type": "stream",
          "name": "stdout",
          "text": [
            "성별\n",
            "female    0.742038\n",
            "male      0.188908\n",
            "Name: Survived, dtype: float64\n"
          ]
        }
      ]
    },
    {
      "cell_type": "code",
      "metadata": {
        "colab": {
          "base_uri": "https://localhost:8080/"
        },
        "id": "YYobuNvTHgZR",
        "outputId": "74143cbc-9821-4792-ec9f-61e913ac7a31"
      },
      "source": [
        "print(data.groupby(['선착장'])['Survived'].mean())"
      ],
      "execution_count": 45,
      "outputs": [
        {
          "output_type": "stream",
          "name": "stdout",
          "text": [
            "선착장\n",
            "C    0.553571\n",
            "Q    0.389610\n",
            "S    0.336957\n",
            "Name: Survived, dtype: float64\n"
          ]
        }
      ]
    },
    {
      "cell_type": "code",
      "metadata": {
        "colab": {
          "base_uri": "https://localhost:8080/"
        },
        "id": "q5QtZ_keH6Qi",
        "outputId": "fe0af6de-404d-4c04-8277-a28254d00dca"
      },
      "source": [
        "print(data.groupby(['티켓등급'])['Survived'].mean())"
      ],
      "execution_count": 46,
      "outputs": [
        {
          "output_type": "stream",
          "name": "stdout",
          "text": [
            "티켓등급\n",
            "1    0.629630\n",
            "2    0.472826\n",
            "3    0.242363\n",
            "Name: Survived, dtype: float64\n"
          ]
        }
      ]
    },
    {
      "cell_type": "markdown",
      "metadata": {
        "id": "JSVnRhDwIIfT"
      },
      "source": [
        "2.2 전처리하기"
      ]
    },
    {
      "cell_type": "code",
      "metadata": {
        "id": "wiKEur7XID5W"
      },
      "source": [
        "x_test_id = x_test['PassengerId']\n",
        "x_train = x_train.drop(columns = 'PassengerId')\n",
        "y_train = y_train.drop(columns = 'PassengerId')\n",
        "x_test = x_test.drop(columns = 'PassengerId')"
      ],
      "execution_count": 47,
      "outputs": []
    },
    {
      "cell_type": "code",
      "metadata": {
        "colab": {
          "base_uri": "https://localhost:8080/"
        },
        "id": "e4Rm6dNKILjO",
        "outputId": "b0aa63ec-5f9f-41cb-a1bd-1d18f7e8bbd3"
      },
      "source": [
        "print(x_train.head(1))\n",
        "print(y_train.head(1))"
      ],
      "execution_count": 48,
      "outputs": [
        {
          "output_type": "stream",
          "name": "stdout",
          "text": [
            "   티켓등급                     승객이름    성별    나이  ...       티켓번호  운임요금 객실번호  선착장\n",
            "0     3  Braund, Mr. Owen Harris  male  22.0  ...  A/5 21171  7.25  NaN    S\n",
            "\n",
            "[1 rows x 10 columns]\n",
            "   Survived\n",
            "0         0\n"
          ]
        }
      ]
    },
    {
      "cell_type": "code",
      "metadata": {
        "id": "U6XmPRKwIMBE"
      },
      "source": [
        "x_train = x_train.drop(columns = ['티켓번호','승객이름'])\n",
        "x_test = x_test.drop(columns = ['티켓번호','승객이름'])"
      ],
      "execution_count": 49,
      "outputs": []
    },
    {
      "cell_type": "code",
      "metadata": {
        "colab": {
          "base_uri": "https://localhost:8080/"
        },
        "id": "q6tf5I7OIL6X",
        "outputId": "b67b0441-2993-46b5-c2f6-0181356dfaf4"
      },
      "source": [
        "print(x_train.head(1).T)\n",
        "print(y_train.head(1).T)"
      ],
      "execution_count": 50,
      "outputs": [
        {
          "output_type": "stream",
          "name": "stdout",
          "text": [
            "             0\n",
            "티켓등급         3\n",
            "성별        male\n",
            "나이          22\n",
            "형제자매배우자수     1\n",
            "부모자식수        0\n",
            "운임요금      7.25\n",
            "객실번호       NaN\n",
            "선착장          S\n",
            "          0\n",
            "Survived  0\n"
          ]
        }
      ]
    },
    {
      "cell_type": "code",
      "metadata": {
        "colab": {
          "base_uri": "https://localhost:8080/"
        },
        "id": "kdQ4il_vILwm",
        "outputId": "9b04993c-203e-4113-de25-69c75870615f"
      },
      "source": [
        "print(x_train['나이'].isnull().sum())\n",
        "print(x_train['객실번호'].isnull().sum())\n",
        "print(x_train['선착장'].isnull().sum())"
      ],
      "execution_count": 51,
      "outputs": [
        {
          "output_type": "stream",
          "name": "stdout",
          "text": [
            "177\n",
            "687\n",
            "2\n"
          ]
        }
      ]
    },
    {
      "cell_type": "code",
      "metadata": {
        "colab": {
          "base_uri": "https://localhost:8080/"
        },
        "id": "Uy3x5dNrILru",
        "outputId": "00d1525a-333a-411f-ed3c-f8ac013758d5"
      },
      "source": [
        "print(data[['나이', 'Survived']].corr())"
      ],
      "execution_count": 52,
      "outputs": [
        {
          "output_type": "stream",
          "name": "stdout",
          "text": [
            "                나이  Survived\n",
            "나이        1.000000 -0.077221\n",
            "Survived -0.077221  1.000000\n"
          ]
        }
      ]
    },
    {
      "cell_type": "code",
      "metadata": {
        "id": "sZ8F1QorILnc"
      },
      "source": [
        "x_train = x_train.drop(columns = '나이')\n",
        "x_test = x_test.drop(columns = '나이')"
      ],
      "execution_count": 53,
      "outputs": []
    },
    {
      "cell_type": "code",
      "metadata": {
        "id": "w1YJWl0XKFSY"
      },
      "source": [
        "x_train = x_train.drop(columns = '객실번호')\n",
        "x_test = x_test.drop(columns = '객실번호')"
      ],
      "execution_count": 54,
      "outputs": []
    },
    {
      "cell_type": "code",
      "metadata": {
        "colab": {
          "base_uri": "https://localhost:8080/"
        },
        "id": "BZVbQ7ZGK30d",
        "outputId": "ef5b4a6e-f365-4d87-832f-eb7757be7b9b"
      },
      "source": [
        "print(x_train.groupby(['선착장'])['선착장'].count())"
      ],
      "execution_count": 55,
      "outputs": [
        {
          "output_type": "stream",
          "name": "stdout",
          "text": [
            "선착장\n",
            "C    168\n",
            "Q     77\n",
            "S    644\n",
            "Name: 선착장, dtype: int64\n"
          ]
        }
      ]
    },
    {
      "cell_type": "code",
      "metadata": {
        "colab": {
          "base_uri": "https://localhost:8080/"
        },
        "id": "etsHmyDoK453",
        "outputId": "4fe58011-3fba-4697-df1e-756ff8ce1246"
      },
      "source": [
        "x_train['선착장'] = x_train['선착장'].fillna('S')\n",
        "print(x_train['선착장'].isnull().sum())"
      ],
      "execution_count": 56,
      "outputs": [
        {
          "output_type": "stream",
          "name": "stdout",
          "text": [
            "0\n"
          ]
        }
      ]
    },
    {
      "cell_type": "code",
      "metadata": {
        "colab": {
          "base_uri": "https://localhost:8080/"
        },
        "id": "LQHfNyJdK40q",
        "outputId": "d80851d7-a326-49be-bd4a-067486567072"
      },
      "source": [
        "print(x_train['성별'].unique())\n",
        "x_train['성별'] = x_train['성별'].replace('male',0).replace('female',1)\n",
        "x_test['성별'] = x_test['성별'].replace('male',0).replace('female',1)"
      ],
      "execution_count": 57,
      "outputs": [
        {
          "output_type": "stream",
          "name": "stdout",
          "text": [
            "['male' 'female']\n"
          ]
        }
      ]
    },
    {
      "cell_type": "code",
      "metadata": {
        "id": "IwSwROzSK4xf"
      },
      "source": [
        "선착장_dummy = pd.get_dummies(x_train['선착장'], drop_first=True).rename(columns={'Q':'선착장Q', 'S':'선착장S'})"
      ],
      "execution_count": 58,
      "outputs": []
    },
    {
      "cell_type": "code",
      "metadata": {
        "colab": {
          "base_uri": "https://localhost:8080/"
        },
        "id": "5TpViDTTNC4n",
        "outputId": "c2923102-6b2e-4681-e947-dc84ef097f24"
      },
      "source": [
        "x_train = pd.concat([x_train, 선착장_dummy],axis = 1)\n",
        "print(x_train.head(3))"
      ],
      "execution_count": 59,
      "outputs": [
        {
          "output_type": "stream",
          "name": "stdout",
          "text": [
            "   티켓등급  성별  형제자매배우자수  부모자식수     운임요금 선착장  선착장Q  선착장S\n",
            "0     3   0         1      0   7.2500   S     0     1\n",
            "1     1   1         1      0  71.2833   C     0     0\n",
            "2     3   1         0      0   7.9250   S     0     1\n"
          ]
        }
      ]
    },
    {
      "cell_type": "code",
      "metadata": {
        "id": "oN2WOFY1NNzZ"
      },
      "source": [
        "x_train = x_train.drop(columns='선착장')"
      ],
      "execution_count": 60,
      "outputs": []
    },
    {
      "cell_type": "code",
      "metadata": {
        "colab": {
          "base_uri": "https://localhost:8080/"
        },
        "id": "7tejRPGWOmqb",
        "outputId": "2f0d24c9-c08b-4ddb-d80f-5b696817c827"
      },
      "source": [
        "선착장_dummy = pd.get_dummies(x_test['선착장'], drop_first=True).rename(columns={'Q':'선착장Q', 'S':'선착장S'})\n",
        "x_test = pd.concat([x_test, 선착장_dummy],axis = 1)\n",
        "print(x_test.head(3))\n",
        "x_test = x_test.drop(columns='선착장')"
      ],
      "execution_count": 61,
      "outputs": [
        {
          "output_type": "stream",
          "name": "stdout",
          "text": [
            "   티켓등급  성별  형제자매배우자수  부모자식수    운임요금 선착장  선착장Q  선착장S\n",
            "0     3   0         0      0  7.8292   Q     1     0\n",
            "1     3   1         1      0  7.0000   S     0     1\n",
            "2     2   0         0      0  9.6875   Q     1     0\n"
          ]
        }
      ]
    },
    {
      "cell_type": "code",
      "metadata": {
        "colab": {
          "base_uri": "https://localhost:8080/"
        },
        "id": "ptzKz8A-OusI",
        "outputId": "7ad6b2fe-13d0-490e-91fa-75fc34ff9f38"
      },
      "source": [
        "x_train['가족수'] = x_train['부모자식수'] + x_train['형제자매배우자수']\n",
        "print(x_train[['형제자매배우자수', '부모자식수', '가족수']].head())"
      ],
      "execution_count": 62,
      "outputs": [
        {
          "output_type": "stream",
          "name": "stdout",
          "text": [
            "   형제자매배우자수  부모자식수  가족수\n",
            "0         1      0    1\n",
            "1         1      0    1\n",
            "2         0      0    0\n",
            "3         1      0    1\n",
            "4         0      0    0\n"
          ]
        }
      ]
    },
    {
      "cell_type": "code",
      "metadata": {
        "id": "sKoeWQHXO-8K"
      },
      "source": [
        "x_train = x_train.drop(columns = ['형제자매배우자수', '부모자식수'])"
      ],
      "execution_count": 63,
      "outputs": []
    },
    {
      "cell_type": "code",
      "metadata": {
        "id": "YZMTzsyBO-5p"
      },
      "source": [
        "x_test['가족수'] = x_test['부모자식수'] + x_test['형제자매배우자수']\n",
        "x_test = x_test.drop(columns = ['형제자매배우자수', '부모자식수'])"
      ],
      "execution_count": 64,
      "outputs": []
    },
    {
      "cell_type": "markdown",
      "metadata": {
        "id": "V3i4IEI-RFXQ"
      },
      "source": [
        "2.3 학습하고 평가"
      ]
    },
    {
      "cell_type": "code",
      "metadata": {
        "colab": {
          "base_uri": "https://localhost:8080/"
        },
        "id": "ET2C3wUSO-vT",
        "outputId": "39ebf66b-b763-4413-8515-037ea5075cee"
      },
      "source": [
        "from sklearn.model_selection import train_test_split\n",
        "X_TRAIN, X_TEST, Y_TRAIN, Y_TEST = train_test_split(x_train, y_train, test_size=0.2, random_state = 10)\n",
        "print(X_TRAIN.shape)\n",
        "print(X_TEST.shape)\n",
        "print(Y_TRAIN.shape)\n",
        "print(Y_TEST.shape)"
      ],
      "execution_count": 65,
      "outputs": [
        {
          "output_type": "stream",
          "name": "stdout",
          "text": [
            "(712, 6)\n",
            "(179, 6)\n",
            "(712, 1)\n",
            "(179, 1)\n"
          ]
        }
      ]
    },
    {
      "cell_type": "code",
      "metadata": {
        "id": "S_0nWjESO-sr"
      },
      "source": [
        "#XGB분류기가 일반적으로 성능 잘 나옴\n",
        "from xgboost import XGBClassifier"
      ],
      "execution_count": 66,
      "outputs": []
    },
    {
      "cell_type": "code",
      "metadata": {
        "colab": {
          "base_uri": "https://localhost:8080/"
        },
        "id": "__4SBDg0SCH4",
        "outputId": "a3c02e69-d4e6-4fbc-d5b9-f814c9af39b4"
      },
      "source": [
        "model1 = XGBClassifier(eval_metric='error', random_state=10) # 분류모델로 학습 수행시 eval_metric='error' 기본값\n",
        "model1.fit(X_TRAIN, Y_TRAIN)"
      ],
      "execution_count": 67,
      "outputs": [
        {
          "output_type": "stream",
          "name": "stderr",
          "text": [
            "/usr/local/lib/python3.7/dist-packages/sklearn/preprocessing/_label.py:98: DataConversionWarning: A column-vector y was passed when a 1d array was expected. Please change the shape of y to (n_samples, ), for example using ravel().\n",
            "  y = column_or_1d(y, warn=True)\n",
            "/usr/local/lib/python3.7/dist-packages/sklearn/preprocessing/_label.py:133: DataConversionWarning: A column-vector y was passed when a 1d array was expected. Please change the shape of y to (n_samples, ), for example using ravel().\n",
            "  y = column_or_1d(y, warn=True)\n"
          ]
        },
        {
          "output_type": "execute_result",
          "data": {
            "text/plain": [
              "XGBClassifier(eval_metric='error', random_state=10)"
            ]
          },
          "metadata": {},
          "execution_count": 67
        }
      ]
    },
    {
      "cell_type": "code",
      "metadata": {
        "colab": {
          "base_uri": "https://localhost:8080/"
        },
        "id": "djXp3TvaSU5t",
        "outputId": "aa04a43f-fb0d-40ec-c579-e54b70bd3c31"
      },
      "source": [
        "model2 = XGBClassifier(n_estimators=100, max_depth=5, eval_metric='error', random_state = 10) # 하이퍼파라미터 추가\n",
        "model2.fit(X_TRAIN, Y_TRAIN)"
      ],
      "execution_count": 68,
      "outputs": [
        {
          "output_type": "stream",
          "name": "stderr",
          "text": [
            "/usr/local/lib/python3.7/dist-packages/sklearn/preprocessing/_label.py:98: DataConversionWarning: A column-vector y was passed when a 1d array was expected. Please change the shape of y to (n_samples, ), for example using ravel().\n",
            "  y = column_or_1d(y, warn=True)\n",
            "/usr/local/lib/python3.7/dist-packages/sklearn/preprocessing/_label.py:133: DataConversionWarning: A column-vector y was passed when a 1d array was expected. Please change the shape of y to (n_samples, ), for example using ravel().\n",
            "  y = column_or_1d(y, warn=True)\n"
          ]
        },
        {
          "output_type": "execute_result",
          "data": {
            "text/plain": [
              "XGBClassifier(eval_metric='error', max_depth=5, random_state=10)"
            ]
          },
          "metadata": {},
          "execution_count": 68
        }
      ]
    },
    {
      "cell_type": "code",
      "metadata": {
        "id": "CgESHNvFS9F2"
      },
      "source": [
        "Y_TEST_PREDICTED1 = pd.DataFrame(model1.predict(X_TEST))\n",
        "Y_TEST_PREDICTED2 = pd.DataFrame(model2.predict(X_TEST))"
      ],
      "execution_count": 69,
      "outputs": []
    },
    {
      "cell_type": "code",
      "metadata": {
        "colab": {
          "base_uri": "https://localhost:8080/"
        },
        "id": "dnmsnxTaTWnD",
        "outputId": "ee40196d-41a7-40df-dfb9-023e840fc03c"
      },
      "source": [
        "from sklearn.metrics import roc_auc_score\n",
        "print(roc_auc_score(Y_TEST, Y_TEST_PREDICTED1))\n",
        "print(roc_auc_score(Y_TEST, Y_TEST_PREDICTED2)) #두번째 모델 사용"
      ],
      "execution_count": 70,
      "outputs": [
        {
          "output_type": "stream",
          "name": "stdout",
          "text": [
            "0.7869451337193273\n",
            "0.7950096498483595\n"
          ]
        }
      ]
    },
    {
      "cell_type": "code",
      "metadata": {
        "id": "0cNNshX_TWkS"
      },
      "source": [
        "y_test_predicted = pd.DataFrame(model2.predict(x_test)).rename(columns={0:'Survived'})"
      ],
      "execution_count": 71,
      "outputs": []
    },
    {
      "cell_type": "markdown",
      "metadata": {
        "id": "XZl2QSpNU7dM"
      },
      "source": [
        "2.4 결과 제출"
      ]
    },
    {
      "cell_type": "code",
      "metadata": {
        "colab": {
          "base_uri": "https://localhost:8080/"
        },
        "id": "8ETD8dFRTWg_",
        "outputId": "e54d6615-b867-46fb-ed7d-d3034498e401"
      },
      "source": [
        "final = pd.concat([x_test_id, y_test_predicted], axis=1)\n",
        "print(final)"
      ],
      "execution_count": 72,
      "outputs": [
        {
          "output_type": "stream",
          "name": "stdout",
          "text": [
            "     PassengerId  Survived\n",
            "0            892         0\n",
            "1            893         0\n",
            "2            894         0\n",
            "3            895         0\n",
            "4            896         1\n",
            "..           ...       ...\n",
            "413         1305         0\n",
            "414         1306         1\n",
            "415         1307         0\n",
            "416         1308         0\n",
            "417         1309         1\n",
            "\n",
            "[418 rows x 2 columns]\n"
          ]
        }
      ]
    },
    {
      "cell_type": "code",
      "metadata": {
        "id": "TMl3a5QpTWdv"
      },
      "source": [
        "final.to_csv('sample_data/12345.csv',index=False)"
      ],
      "execution_count": 73,
      "outputs": []
    },
    {
      "cell_type": "markdown",
      "metadata": {
        "id": "6v5oAsmYVr7E"
      },
      "source": [
        "### 3. 예측 모델 수행하기"
      ]
    },
    {
      "cell_type": "markdown",
      "metadata": {
        "id": "cG1GZJOkcgFZ"
      },
      "source": [
        "3.1 탐색"
      ]
    },
    {
      "cell_type": "code",
      "metadata": {
        "id": "9SAOL1qqTWMU"
      },
      "source": [
        "import pandas as pd\n",
        "x_train = pd.read_csv('bike_x_train.csv',encoding='CP949')\n",
        "y_train = pd.read_csv('bike_y_train.csv', encoding='CP949')\n",
        "x_test = pd.read_csv('bike_x_test.csv', encoding='CP949')"
      ],
      "execution_count": 103,
      "outputs": []
    },
    {
      "cell_type": "code",
      "metadata": {
        "colab": {
          "base_uri": "https://localhost:8080/"
        },
        "id": "TbXmz87vTWJl",
        "outputId": "30f3e3a6-9e15-4f52-ba07-dd7326cdfc4a"
      },
      "source": [
        "print(x_train.head(3))\n",
        "print(x_test.head(3))\n",
        "print(y_train.head(3))"
      ],
      "execution_count": 104,
      "outputs": [
        {
          "output_type": "stream",
          "name": "stdout",
          "text": [
            "          datetime  계절  공휴일  근무일  날씨    온도    체감온도  습도   풍속\n",
            "0  2011-01-01 0:00   1    0    0   1  9.84  14.395  81  0.0\n",
            "1  2011-01-01 1:00   1    0    0   1  9.02  13.635  80  0.0\n",
            "2  2011-01-01 2:00   1    0    0   1  9.02  13.635  80  0.0\n",
            "          datetime  계절  공휴일  근무일  날씨     온도    체감온도  습도       풍속\n",
            "0  2011-01-20 0:00   1    0    1   1  10.66  11.365  56  26.0027\n",
            "1  2011-01-20 1:00   1    0    1   1  10.66  13.635  56   0.0000\n",
            "2  2011-01-20 2:00   1    0    1   1  10.66  13.635  56   0.0000\n",
            "         癤풼atetime  count\n",
            "0  2011-01-01 0:00     16\n",
            "1  2011-01-01 1:00     40\n",
            "2  2011-01-01 2:00     32\n"
          ]
        }
      ]
    },
    {
      "cell_type": "code",
      "metadata": {
        "colab": {
          "base_uri": "https://localhost:8080/"
        },
        "id": "ViEijvYjTWE4",
        "outputId": "299479e5-2469-4b56-9076-2b47153d60d3"
      },
      "source": [
        "print(type(y_train))\n",
        "print(type(x_train))\n",
        "y_train = pd.DataFrame(y_train)\n",
        "print(y_train.columns)\n",
        "y_train.columns = ['datetime', 'count']\n",
        "print(y_train.head(3))"
      ],
      "execution_count": 105,
      "outputs": [
        {
          "output_type": "stream",
          "name": "stdout",
          "text": [
            "<class 'pandas.core.frame.DataFrame'>\n",
            "<class 'pandas.core.frame.DataFrame'>\n",
            "Index(['癤풼atetime', 'count'], dtype='object')\n",
            "          datetime  count\n",
            "0  2011-01-01 0:00     16\n",
            "1  2011-01-01 1:00     40\n",
            "2  2011-01-01 2:00     32\n"
          ]
        }
      ]
    },
    {
      "cell_type": "code",
      "metadata": {
        "colab": {
          "base_uri": "https://localhost:8080/"
        },
        "id": "KCUPkfFUcE4f",
        "outputId": "f8953b8d-e445-45a8-ee42-fd1dd34b2d80"
      },
      "source": [
        "print(x_train.shape)\n",
        "print(y_train.shape)\n",
        "print(x_test.shape)"
      ],
      "execution_count": 106,
      "outputs": [
        {
          "output_type": "stream",
          "name": "stdout",
          "text": [
            "(10886, 9)\n",
            "(10886, 2)\n",
            "(6493, 9)\n"
          ]
        }
      ]
    },
    {
      "cell_type": "code",
      "metadata": {
        "colab": {
          "base_uri": "https://localhost:8080/"
        },
        "id": "LgzmcHFxcE1u",
        "outputId": "9aafa1bc-2585-433f-cd54-e2eefded4777"
      },
      "source": [
        "print(x_train.info())"
      ],
      "execution_count": 107,
      "outputs": [
        {
          "output_type": "stream",
          "name": "stdout",
          "text": [
            "<class 'pandas.core.frame.DataFrame'>\n",
            "RangeIndex: 10886 entries, 0 to 10885\n",
            "Data columns (total 9 columns):\n",
            " #   Column    Non-Null Count  Dtype  \n",
            "---  ------    --------------  -----  \n",
            " 0   datetime  10886 non-null  object \n",
            " 1   계절        10886 non-null  int64  \n",
            " 2   공휴일       10886 non-null  int64  \n",
            " 3   근무일       10886 non-null  int64  \n",
            " 4   날씨        10886 non-null  int64  \n",
            " 5   온도        10886 non-null  float64\n",
            " 6   체감온도      10886 non-null  float64\n",
            " 7   습도        10886 non-null  int64  \n",
            " 8   풍속        10886 non-null  float64\n",
            "dtypes: float64(3), int64(5), object(1)\n",
            "memory usage: 765.5+ KB\n",
            "None\n"
          ]
        }
      ]
    },
    {
      "cell_type": "code",
      "metadata": {
        "colab": {
          "base_uri": "https://localhost:8080/"
        },
        "id": "lcVEzJmkcEzQ",
        "outputId": "7afa8632-2b85-4440-f749-4c36c93f9b67"
      },
      "source": [
        "print(x_train.describe().T)"
      ],
      "execution_count": 108,
      "outputs": [
        {
          "output_type": "stream",
          "name": "stdout",
          "text": [
            "        count       mean        std   min      25%     50%      75%       max\n",
            "계절    10886.0   2.506614   1.116174  1.00   2.0000   3.000   4.0000    4.0000\n",
            "공휴일   10886.0   0.028569   0.166599  0.00   0.0000   0.000   0.0000    1.0000\n",
            "근무일   10886.0   0.680875   0.466159  0.00   0.0000   1.000   1.0000    1.0000\n",
            "날씨    10886.0   1.418427   0.633839  1.00   1.0000   1.000   2.0000    4.0000\n",
            "온도    10886.0  20.230860   7.791590  0.82  13.9400  20.500  26.2400   41.0000\n",
            "체감온도  10886.0  23.655084   8.474601  0.76  16.6650  24.240  31.0600   45.4550\n",
            "습도    10886.0  61.886460  19.245033  0.00  47.0000  62.000  77.0000  100.0000\n",
            "풍속    10886.0  12.799395   8.164537  0.00   7.0015  12.998  16.9979   56.9969\n"
          ]
        }
      ]
    },
    {
      "cell_type": "code",
      "metadata": {
        "id": "qiOUx2xRcEwn"
      },
      "source": [
        "data = pd.concat([x_train, y_train], axis = 1)"
      ],
      "execution_count": 109,
      "outputs": []
    },
    {
      "cell_type": "code",
      "metadata": {
        "colab": {
          "base_uri": "https://localhost:8080/"
        },
        "id": "qLeDZGycTWBg",
        "outputId": "c2cd333e-a76e-4308-ac82-3dc12123cec8"
      },
      "source": [
        "print(data.groupby(['계절'])['count'].sum())"
      ],
      "execution_count": 110,
      "outputs": [
        {
          "output_type": "stream",
          "name": "stdout",
          "text": [
            "계절\n",
            "1    312498\n",
            "2    588282\n",
            "3    640662\n",
            "4    544034\n",
            "Name: count, dtype: int64\n"
          ]
        }
      ]
    },
    {
      "cell_type": "code",
      "metadata": {
        "colab": {
          "base_uri": "https://localhost:8080/"
        },
        "id": "N5myv5rocfPu",
        "outputId": "51dbd79d-5243-4d74-9c92-89ff15921f97"
      },
      "source": [
        "print(data.groupby(['공휴일'])['count'].sum())"
      ],
      "execution_count": 111,
      "outputs": [
        {
          "output_type": "stream",
          "name": "stdout",
          "text": [
            "공휴일\n",
            "0    2027668\n",
            "1      57808\n",
            "Name: count, dtype: int64\n"
          ]
        }
      ]
    },
    {
      "cell_type": "code",
      "metadata": {
        "colab": {
          "base_uri": "https://localhost:8080/"
        },
        "id": "5llhekNccfMq",
        "outputId": "ba64c417-c984-4550-920f-a5e282528a06"
      },
      "source": [
        "print(data.groupby(['공휴일'])['count'].sum())"
      ],
      "execution_count": 112,
      "outputs": [
        {
          "output_type": "stream",
          "name": "stdout",
          "text": [
            "공휴일\n",
            "0    2027668\n",
            "1      57808\n",
            "Name: count, dtype: int64\n"
          ]
        }
      ]
    },
    {
      "cell_type": "code",
      "metadata": {
        "colab": {
          "base_uri": "https://localhost:8080/"
        },
        "id": "KKO9rKKrcfJ-",
        "outputId": "d629e0a7-5402-44a2-935e-3a8ad7ddacc4"
      },
      "source": [
        "print(data.groupby(['날씨'])['count'].sum())"
      ],
      "execution_count": 113,
      "outputs": [
        {
          "output_type": "stream",
          "name": "stdout",
          "text": [
            "날씨\n",
            "1    1476063\n",
            "2     507160\n",
            "3     102089\n",
            "4        164\n",
            "Name: count, dtype: int64\n"
          ]
        }
      ]
    },
    {
      "cell_type": "markdown",
      "metadata": {
        "id": "jH7EJgIBdONr"
      },
      "source": [
        "3.2 전처리하기"
      ]
    },
    {
      "cell_type": "code",
      "metadata": {
        "id": "yaQMtFgWcfG2"
      },
      "source": [
        "x_train['datetime'] = pd.to_datetime(x_train['datetime'])"
      ],
      "execution_count": 114,
      "outputs": []
    },
    {
      "cell_type": "code",
      "metadata": {
        "colab": {
          "base_uri": "https://localhost:8080/"
        },
        "id": "fAvpRIRAdM3y",
        "outputId": "e9b01094-ee12-4ac2-b0c8-3166ebfa3cd7"
      },
      "source": [
        "x_train['year'] = x_train['datetime'].dt.year\n",
        "print(x_train['year'].unique())\n",
        "x_train['month'] = x_train['datetime'].dt.month\n",
        "print(x_train['month'].unique())"
      ],
      "execution_count": 115,
      "outputs": [
        {
          "output_type": "stream",
          "name": "stdout",
          "text": [
            "[2011 2012]\n",
            "[ 1  2  3  4  5  6  7  8  9 10 11 12]\n"
          ]
        }
      ]
    },
    {
      "cell_type": "code",
      "metadata": {
        "colab": {
          "base_uri": "https://localhost:8080/"
        },
        "id": "9KM0rcr2dM1d",
        "outputId": "1c42b99d-666a-42fb-8e32-60ee7392d0e6"
      },
      "source": [
        "x_train['day'] = x_train['datetime'].dt.day\n",
        "print(x_train['day'].unique())\n",
        "x_train['hour'] = x_train['datetime'].dt.hour\n",
        "print(x_train['hour'].unique())"
      ],
      "execution_count": 116,
      "outputs": [
        {
          "output_type": "stream",
          "name": "stdout",
          "text": [
            "[ 1  2  3  4  5  6  7  8  9 10 11 12 13 14 15 16 17 18 19]\n",
            "[ 0  1  2  3  4  5  6  7  8  9 10 11 12 13 14 15 16 17 18 19 20 21 22 23]\n"
          ]
        }
      ]
    },
    {
      "cell_type": "code",
      "metadata": {
        "colab": {
          "base_uri": "https://localhost:8080/"
        },
        "id": "oOIotBIhdMzU",
        "outputId": "a7a0a697-7b31-46c3-bb20-ddca5db870df"
      },
      "source": [
        "x_train['dayofweek'] = x_train['datetime'].dt.dayofweek\n",
        "print(x_train['dayofweek'].unique()) #0-월, 1-화"
      ],
      "execution_count": 117,
      "outputs": [
        {
          "output_type": "stream",
          "name": "stdout",
          "text": [
            "[5 6 0 1 2 3 4]\n"
          ]
        }
      ]
    },
    {
      "cell_type": "code",
      "metadata": {
        "colab": {
          "base_uri": "https://localhost:8080/"
        },
        "id": "KS3nVmebdMvG",
        "outputId": "4a967cfa-5e72-4357-ecb0-c0196167a8c5"
      },
      "source": [
        "data2 = pd.concat([x_train,y_train],axis=1)\n",
        "print(data2.head(3).T)"
      ],
      "execution_count": 118,
      "outputs": [
        {
          "output_type": "stream",
          "name": "stdout",
          "text": [
            "                             0                    1                    2\n",
            "datetime   2011-01-01 00:00:00  2011-01-01 01:00:00  2011-01-01 02:00:00\n",
            "계절                           1                    1                    1\n",
            "공휴일                          0                    0                    0\n",
            "근무일                          0                    0                    0\n",
            "날씨                           1                    1                    1\n",
            "온도                        9.84                 9.02                 9.02\n",
            "체감온도                    14.395               13.635               13.635\n",
            "습도                          81                   80                   80\n",
            "풍속                           0                    0                    0\n",
            "year                      2011                 2011                 2011\n",
            "month                        1                    1                    1\n",
            "day                          1                    1                    1\n",
            "hour                         0                    1                    2\n",
            "dayofweek                    5                    5                    5\n",
            "datetime       2011-01-01 0:00      2011-01-01 1:00      2011-01-01 2:00\n",
            "count                       16                   40                   32\n"
          ]
        }
      ]
    },
    {
      "cell_type": "code",
      "metadata": {
        "colab": {
          "base_uri": "https://localhost:8080/"
        },
        "id": "6B_YPSaudMsV",
        "outputId": "add500e7-6b1a-4a39-fe33-a5b7387a3b92"
      },
      "source": [
        "print(data2.groupby(['year'])['count'].sum())"
      ],
      "execution_count": 119,
      "outputs": [
        {
          "output_type": "stream",
          "name": "stdout",
          "text": [
            "year\n",
            "2011     781979\n",
            "2012    1303497\n",
            "Name: count, dtype: int64\n"
          ]
        }
      ]
    },
    {
      "cell_type": "code",
      "metadata": {
        "colab": {
          "base_uri": "https://localhost:8080/"
        },
        "id": "-TbuxL5re0nb",
        "outputId": "a7d94f91-6d51-4bce-af71-aae1045c619e"
      },
      "source": [
        "print(data2.groupby(['month'])['count'].sum())"
      ],
      "execution_count": 120,
      "outputs": [
        {
          "output_type": "stream",
          "name": "stdout",
          "text": [
            "month\n",
            "1      79884\n",
            "2      99113\n",
            "3     133501\n",
            "4     167402\n",
            "5     200147\n",
            "6     220733\n",
            "7     214617\n",
            "8     213516\n",
            "9     212529\n",
            "10    207434\n",
            "11    176440\n",
            "12    160160\n",
            "Name: count, dtype: int64\n"
          ]
        }
      ]
    },
    {
      "cell_type": "code",
      "metadata": {
        "colab": {
          "base_uri": "https://localhost:8080/"
        },
        "id": "idBvNXEhe0kk",
        "outputId": "b2b34002-e2f0-4e20-bf81-6c9e185c20af"
      },
      "source": [
        "print(data2.groupby(['day'])['count'].sum())"
      ],
      "execution_count": 121,
      "outputs": [
        {
          "output_type": "stream",
          "name": "stdout",
          "text": [
            "day\n",
            "1     103692\n",
            "2     105381\n",
            "3     111561\n",
            "4     112335\n",
            "5     109115\n",
            "6     108600\n",
            "7     105486\n",
            "8     102770\n",
            "9     108041\n",
            "10    111645\n",
            "11    111146\n",
            "12    109257\n",
            "13    111448\n",
            "14    112406\n",
            "15    115677\n",
            "16    109837\n",
            "17    118255\n",
            "18    108437\n",
            "19    110387\n",
            "Name: count, dtype: int64\n"
          ]
        }
      ]
    },
    {
      "cell_type": "code",
      "metadata": {
        "colab": {
          "base_uri": "https://localhost:8080/"
        },
        "id": "FD2MSl0Ke0g_",
        "outputId": "13cb49c9-8fa9-453e-e0da-e24c2125e631"
      },
      "source": [
        "print(data2.groupby(['hour'])['count'].sum())"
      ],
      "execution_count": 122,
      "outputs": [
        {
          "output_type": "stream",
          "name": "stdout",
          "text": [
            "hour\n",
            "0      25088\n",
            "1      15372\n",
            "2      10259\n",
            "3       5091\n",
            "4       2832\n",
            "5       8935\n",
            "6      34698\n",
            "7      96968\n",
            "8     165060\n",
            "9     100910\n",
            "10     79667\n",
            "11     95857\n",
            "12    116968\n",
            "13    117551\n",
            "14    111010\n",
            "15    115960\n",
            "16    144266\n",
            "17    213757\n",
            "18    196472\n",
            "19    143767\n",
            "20    104204\n",
            "21     79057\n",
            "22     60911\n",
            "23     40816\n",
            "Name: count, dtype: int64\n"
          ]
        }
      ]
    },
    {
      "cell_type": "code",
      "metadata": {
        "colab": {
          "base_uri": "https://localhost:8080/"
        },
        "id": "SKXpu7Ile0eC",
        "outputId": "ed079d7f-33a8-4d2f-e6e1-dbb2ff1c1b54"
      },
      "source": [
        "print(data2.groupby(['dayofweek'])['count'].sum())"
      ],
      "execution_count": 123,
      "outputs": [
        {
          "output_type": "stream",
          "name": "stdout",
          "text": [
            "dayofweek\n",
            "0    295296\n",
            "1    291985\n",
            "2    292226\n",
            "3    306401\n",
            "4    302504\n",
            "5    311518\n",
            "6    285546\n",
            "Name: count, dtype: int64\n"
          ]
        }
      ]
    },
    {
      "cell_type": "code",
      "metadata": {
        "id": "9jxTqsKeffCo"
      },
      "source": [
        "x_test['datetime'] = pd.to_datetime(x_test['datetime'])"
      ],
      "execution_count": 124,
      "outputs": []
    },
    {
      "cell_type": "code",
      "metadata": {
        "id": "rrag6w2jfwh4"
      },
      "source": [
        "x_test['year'] = x_test['datetime'].dt.year\n",
        "x_test['month'] = x_test['datetime'].dt.month\n",
        "x_test['day'] = x_test['datetime'].dt.day\n",
        "x_test['hour'] = x_test['datetime'].dt.hour\n",
        "x_test['dayofweek'] = x_test['datetime'].dt.dayofweek"
      ],
      "execution_count": 125,
      "outputs": []
    },
    {
      "cell_type": "code",
      "metadata": {
        "colab": {
          "base_uri": "https://localhost:8080/"
        },
        "id": "qf_nCUZ7alJu",
        "outputId": "0cb19ff9-9d0d-43bc-8425-fd3d7efd79db"
      },
      "source": [
        "print(x_test.head(3).T)"
      ],
      "execution_count": 126,
      "outputs": [
        {
          "output_type": "stream",
          "name": "stdout",
          "text": [
            "                             0                    1                    2\n",
            "datetime   2011-01-20 00:00:00  2011-01-20 01:00:00  2011-01-20 02:00:00\n",
            "계절                           1                    1                    1\n",
            "공휴일                          0                    0                    0\n",
            "근무일                          1                    1                    1\n",
            "날씨                           1                    1                    1\n",
            "온도                       10.66                10.66                10.66\n",
            "체감온도                    11.365               13.635               13.635\n",
            "습도                          56                   56                   56\n",
            "풍속                     26.0027                    0                    0\n",
            "year                      2011                 2011                 2011\n",
            "month                        1                    1                    1\n",
            "day                         20                   20                   20\n",
            "hour                         0                    1                    2\n",
            "dayofweek                    3                    3                    3\n"
          ]
        }
      ]
    },
    {
      "cell_type": "code",
      "metadata": {
        "id": "wMi58ZcbaxCp"
      },
      "source": [
        "x_test_datetime = x_test['datetime']\n",
        "\n",
        "x_train = x_train.drop(columns = 'datetime')\n",
        "y_train = y_train.drop(columns = 'datetime')\n",
        "x_test= x_test.drop(columns = 'datetime')"
      ],
      "execution_count": 127,
      "outputs": []
    },
    {
      "cell_type": "markdown",
      "metadata": {
        "id": "GwpGjuLebOW4"
      },
      "source": [
        "3.3 학습, 평가"
      ]
    },
    {
      "cell_type": "code",
      "metadata": {
        "colab": {
          "base_uri": "https://localhost:8080/"
        },
        "id": "U4nPBivFbLMz",
        "outputId": "836d1a6a-61d1-4d39-c756-280bc684aa8c"
      },
      "source": [
        "from sklearn.model_selection import train_test_split\n",
        "X_TRAIN, X_TEST, Y_TRAIN, Y_TEST = train_test_split(x_train, y_train, test_size=0.2, random_state=10)\n",
        "print(X_TRAIN.shape)\n",
        "print(X_TEST.shape)\n",
        "print(Y_TRAIN.shape)\n",
        "print(Y_TEST.shape)"
      ],
      "execution_count": 128,
      "outputs": [
        {
          "output_type": "stream",
          "name": "stdout",
          "text": [
            "(8708, 13)\n",
            "(2178, 13)\n",
            "(8708, 1)\n",
            "(2178, 1)\n"
          ]
        }
      ]
    },
    {
      "cell_type": "code",
      "metadata": {
        "colab": {
          "base_uri": "https://localhost:8080/"
        },
        "id": "1-2jewHhb0hT",
        "outputId": "74fd8a34-d615-424a-ef58-a998bbff443f"
      },
      "source": [
        "from xgboost import XGBRegressor\n",
        "model1 = XGBRegressor(n_estimators = 100, max_depth=3, random_state=10)\n",
        "model1.fit(X_TRAIN, Y_TRAIN)\n",
        "model2 = XGBRegressor(n_estimator=200, max_depth=5, random_state=10)\n",
        "model2.fit(X_TRAIN, Y_TRAIN)"
      ],
      "execution_count": 129,
      "outputs": [
        {
          "output_type": "stream",
          "name": "stdout",
          "text": [
            "[14:47:35] WARNING: /workspace/src/objective/regression_obj.cu:152: reg:linear is now deprecated in favor of reg:squarederror.\n",
            "[14:47:36] WARNING: /workspace/src/objective/regression_obj.cu:152: reg:linear is now deprecated in favor of reg:squarederror.\n"
          ]
        },
        {
          "output_type": "execute_result",
          "data": {
            "text/plain": [
              "XGBRegressor(max_depth=5, n_estimator=200, random_state=10)"
            ]
          },
          "metadata": {},
          "execution_count": 129
        }
      ]
    },
    {
      "cell_type": "code",
      "metadata": {
        "id": "DLiTQmp2dPh2"
      },
      "source": [
        "Y_TEST_PREDICTED1 = pd.DataFrame(model1.predict(X_TEST)).rename(columns={0:'count'})\n",
        "Y_TEST_PREDICTED2 = pd.DataFrame(model2.predict(X_TEST)).rename(columns={0:'count'})"
      ],
      "execution_count": 133,
      "outputs": []
    },
    {
      "cell_type": "code",
      "metadata": {
        "colab": {
          "base_uri": "https://localhost:8080/"
        },
        "id": "ei2E-ilydPQ8",
        "outputId": "582f9fe8-b08c-4bc2-99f6-660ae41eb904"
      },
      "source": [
        "print(Y_TEST_PREDICTED1.head(13))"
      ],
      "execution_count": 135,
      "outputs": [
        {
          "output_type": "stream",
          "name": "stdout",
          "text": [
            "         count\n",
            "0   334.712402\n",
            "1   342.557983\n",
            "2   295.704498\n",
            "3   196.111542\n",
            "4   112.787308\n",
            "5   368.132477\n",
            "6   -18.448759\n",
            "7   188.913239\n",
            "8   310.403442\n",
            "9   305.313904\n",
            "10  303.478333\n",
            "11   95.959457\n",
            "12  149.135681\n"
          ]
        }
      ]
    },
    {
      "cell_type": "code",
      "metadata": {
        "id": "Qbqq94zVeMdc"
      },
      "source": [
        "Y_TEST_PREDICTED1[Y_TEST_PREDICTED1['count'] < 0 ] = 0\n",
        "Y_TEST_PREDICTED2[Y_TEST_PREDICTED2['count'] < 0 ] = 0"
      ],
      "execution_count": 136,
      "outputs": []
    },
    {
      "cell_type": "code",
      "metadata": {
        "colab": {
          "base_uri": "https://localhost:8080/"
        },
        "id": "NJ-xfdZ5ebJc",
        "outputId": "41a12918-1678-4317-a429-8a4b59aec357"
      },
      "source": [
        "from sklearn.metrics import r2_score\n",
        "print(r2_score(Y_TEST, Y_TEST_PREDICTED1))\n",
        "print(r2_score(Y_TEST, Y_TEST_PREDICTED2))"
      ],
      "execution_count": 137,
      "outputs": [
        {
          "output_type": "stream",
          "name": "stdout",
          "text": [
            "0.8557687199442273\n",
            "0.9396638164009563\n"
          ]
        }
      ]
    },
    {
      "cell_type": "code",
      "metadata": {
        "id": "l3qpzvQ9ebGf"
      },
      "source": [
        "y_test_predicted = pd.DataFrame(model2.predict(x_test)).rename(columns={0:'count'})"
      ],
      "execution_count": 139,
      "outputs": []
    },
    {
      "cell_type": "code",
      "metadata": {
        "colab": {
          "base_uri": "https://localhost:8080/"
        },
        "id": "Mo2Uxh5md5l7",
        "outputId": "4c0f3121-7080-4ce8-bd69-6117d45cd8f5"
      },
      "source": [
        "print(y_test_predicted.head(3))"
      ],
      "execution_count": 140,
      "outputs": [
        {
          "output_type": "stream",
          "name": "stdout",
          "text": [
            "       count\n",
            "0  11.292824\n",
            "1   2.401176\n",
            "2  -1.850646\n"
          ]
        }
      ]
    },
    {
      "cell_type": "code",
      "metadata": {
        "id": "RJKTks7cfHFq"
      },
      "source": [
        "y_test_predicted[y_test_predicted['count'] < 0 ] = 0"
      ],
      "execution_count": 141,
      "outputs": []
    },
    {
      "cell_type": "code",
      "metadata": {
        "colab": {
          "base_uri": "https://localhost:8080/"
        },
        "id": "rLMYs2yVfQgj",
        "outputId": "0b41f84a-764d-4bde-9397-0d48316d794d"
      },
      "source": [
        "final = pd.concat([x_test_datetime, y_test_predicted],axis=1)\n",
        "print(final)"
      ],
      "execution_count": 143,
      "outputs": [
        {
          "output_type": "stream",
          "name": "stdout",
          "text": [
            "                datetime       count\n",
            "0    2011-01-20 00:00:00   11.292824\n",
            "1    2011-01-20 01:00:00    2.401176\n",
            "2    2011-01-20 02:00:00    0.000000\n",
            "3    2011-01-20 03:00:00    0.000000\n",
            "4    2011-01-20 04:00:00    0.000000\n",
            "...                  ...         ...\n",
            "6488 2012-12-31 19:00:00  246.591675\n",
            "6489 2012-12-31 20:00:00  186.392761\n",
            "6490 2012-12-31 21:00:00  142.245529\n",
            "6491 2012-12-31 22:00:00   91.122375\n",
            "6492 2012-12-31 23:00:00   50.713657\n",
            "\n",
            "[6493 rows x 2 columns]\n"
          ]
        }
      ]
    },
    {
      "cell_type": "code",
      "metadata": {
        "id": "xJ0wITYyfyHB"
      },
      "source": [
        "final.to_csv('sample_data/12345.csv',index=False)"
      ],
      "execution_count": 144,
      "outputs": []
    },
    {
      "cell_type": "code",
      "metadata": {
        "id": "mvh9MrzNgQjQ"
      },
      "source": [
        ""
      ],
      "execution_count": null,
      "outputs": []
    }
  ]
}